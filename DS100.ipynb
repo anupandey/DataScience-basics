{
 "cells": [
  {
   "cell_type": "code",
   "execution_count": 219,
   "metadata": {},
   "outputs": [],
   "source": [
    "from datascience import *\n",
    "import numpy as np\n",
    "path_data = '../../../../data/'\n",
    "import matplotlib\n",
    "matplotlib.use('Agg', warn=False)\n",
    "%matplotlib inline\n",
    "import matplotlib.pyplot as plots\n",
    "plots.style.use('fivethirtyeight')\n",
    "import warnings\n",
    "warnings.simplefilter(action=\"ignore\", category=FutureWarning)\n",
    "\n",
    "from urllib.request import urlopen \n",
    "import re\n",
    "def read_url(url): \n",
    "    return re.sub('\\\\s+', ' ', urlopen(url).read().decode())"
   ]
  },
  {
   "cell_type": "code",
   "execution_count": 220,
   "metadata": {},
   "outputs": [
    {
     "name": "stdout",
     "output_type": "stream",
     "text": [
      "87\n",
      "43\n"
     ]
    }
   ],
   "source": [
    "\n",
    "huck_finn_url = 'https://www.inferentialthinking.com/data/huck_finn.txt'\n",
    "#reads the entire url\n",
    "huck_finn_text = read_url(huck_finn_url)\n",
    "#splits and gives a list\n",
    "huck_finn_chapters = huck_finn_text.split('CHAPTER ')\n",
    "print(len(huck_finn_chapters))\n",
    "\n",
    "#shows only last 44 elemements\n",
    "huck_finn_chapters = huck_finn_text.split('CHAPTER ')[44:]\n",
    "print(len(huck_finn_chapters))\n",
    "\n",
    "little_women_url = 'https://www.inferentialthinking.com/data/little_women.txt'\n",
    "little_women_text = read_url(little_women_url)\n",
    "little_women_chapters = little_women_text.split('CHAPTER ')[1:]"
   ]
  },
  {
   "cell_type": "code",
   "execution_count": 221,
   "metadata": {},
   "outputs": [
    {
     "data": {
      "text/html": [
       "<table border=\"1\" class=\"dataframe\">\n",
       "    <thead>\n",
       "        <tr>\n",
       "            <th>Chapters</th>\n",
       "        </tr>\n",
       "    </thead>\n",
       "    <tbody>\n",
       "        <tr>\n",
       "            <td>I. YOU don't know about me without you have read a book  ...</td>\n",
       "        </tr>\n",
       "        <tr>\n",
       "            <td>II. WE went tiptoeing along a path amongst the trees bac ...</td>\n",
       "        </tr>\n",
       "        <tr>\n",
       "            <td>III. WELL, I got a good going-over in the morning from o ...</td>\n",
       "        </tr>\n",
       "        <tr>\n",
       "            <td>IV. WELL, three or four months run along, and it was wel ...</td>\n",
       "        </tr>\n",
       "        <tr>\n",
       "            <td>V. I had shut the door to. Then I turned around and ther ...</td>\n",
       "        </tr>\n",
       "        <tr>\n",
       "            <td>VI. WELL, pretty soon the old man was up and around agai ...</td>\n",
       "        </tr>\n",
       "        <tr>\n",
       "            <td>VII. \"GIT up! What you 'bout?\" I opened my eyes and look ...</td>\n",
       "        </tr>\n",
       "        <tr>\n",
       "            <td>VIII. THE sun was up so high when I waked that I judged  ...</td>\n",
       "        </tr>\n",
       "        <tr>\n",
       "            <td>IX. I wanted to go and look at a place right about the m ...</td>\n",
       "        </tr>\n",
       "        <tr>\n",
       "            <td>X. AFTER breakfast I wanted to talk about the dead man a ...</td>\n",
       "        </tr>\n",
       "    </tbody>\n",
       "</table>\n",
       "<p>... (33 rows omitted)</p>"
      ],
      "text/plain": [
       "Chapters\n",
       "I. YOU don't know about me without you have read a book  ...\n",
       "II. WE went tiptoeing along a path amongst the trees bac ...\n",
       "III. WELL, I got a good going-over in the morning from o ...\n",
       "IV. WELL, three or four months run along, and it was wel ...\n",
       "V. I had shut the door to. Then I turned around and ther ...\n",
       "VI. WELL, pretty soon the old man was up and around agai ...\n",
       "VII. \"GIT up! What you 'bout?\" I opened my eyes and look ...\n",
       "VIII. THE sun was up so high when I waked that I judged  ...\n",
       "IX. I wanted to go and look at a place right about the m ...\n",
       "X. AFTER breakfast I wanted to talk about the dead man a ...\n",
       "... (33 rows omitted)"
      ]
     },
     "execution_count": 221,
     "metadata": {},
     "output_type": "execute_result"
    }
   ],
   "source": [
    "# Display the chapters of Huckleberry Finn in a table.\n",
    "\n",
    "Table().with_column('Chapters', huck_finn_chapters)\n"
   ]
  },
  {
   "cell_type": "code",
   "execution_count": 222,
   "metadata": {},
   "outputs": [
    {
     "data": {
      "text/html": [
       "<table border=\"1\" class=\"dataframe\">\n",
       "    <thead>\n",
       "        <tr>\n",
       "            <th>Chapters</th>\n",
       "        </tr>\n",
       "    </thead>\n",
       "    <tbody>\n",
       "        <tr>\n",
       "            <td>ONE PLAYING PILGRIMS \"Christmas won't be Christmas witho ...</td>\n",
       "        </tr>\n",
       "        <tr>\n",
       "            <td>TWO A MERRY CHRISTMAS Jo was the first to wake in the gr ...</td>\n",
       "        </tr>\n",
       "        <tr>\n",
       "            <td>THREE THE LAURENCE BOY \"Jo! Jo! Where are you?\" cried Me ...</td>\n",
       "        </tr>\n",
       "        <tr>\n",
       "            <td>FOUR BURDENS \"Oh, dear, how hard it does seem to take up ...</td>\n",
       "        </tr>\n",
       "        <tr>\n",
       "            <td>FIVE BEING NEIGHBORLY \"What in the world are you going t ...</td>\n",
       "        </tr>\n",
       "        <tr>\n",
       "            <td>SIX BETH FINDS THE PALACE BEAUTIFUL The big house did pr ...</td>\n",
       "        </tr>\n",
       "        <tr>\n",
       "            <td>SEVEN AMY'S VALLEY OF HUMILIATION \"That boy is a perfect ...</td>\n",
       "        </tr>\n",
       "        <tr>\n",
       "            <td>EIGHT JO MEETS APOLLYON \"Girls, where are you going?\" as ...</td>\n",
       "        </tr>\n",
       "        <tr>\n",
       "            <td>NINE MEG GOES TO VANITY FAIR \"I do think it was the most ...</td>\n",
       "        </tr>\n",
       "        <tr>\n",
       "            <td>TEN THE P.C. AND P.O. As spring came on, a new set of am ...</td>\n",
       "        </tr>\n",
       "    </tbody>\n",
       "</table>\n",
       "<p>... (37 rows omitted)</p>"
      ],
      "text/plain": [
       "Chapters\n",
       "ONE PLAYING PILGRIMS \"Christmas won't be Christmas witho ...\n",
       "TWO A MERRY CHRISTMAS Jo was the first to wake in the gr ...\n",
       "THREE THE LAURENCE BOY \"Jo! Jo! Where are you?\" cried Me ...\n",
       "FOUR BURDENS \"Oh, dear, how hard it does seem to take up ...\n",
       "FIVE BEING NEIGHBORLY \"What in the world are you going t ...\n",
       "SIX BETH FINDS THE PALACE BEAUTIFUL The big house did pr ...\n",
       "SEVEN AMY'S VALLEY OF HUMILIATION \"That boy is a perfect ...\n",
       "EIGHT JO MEETS APOLLYON \"Girls, where are you going?\" as ...\n",
       "NINE MEG GOES TO VANITY FAIR \"I do think it was the most ...\n",
       "TEN THE P.C. AND P.O. As spring came on, a new set of am ...\n",
       "... (37 rows omitted)"
      ]
     },
     "execution_count": 222,
     "metadata": {},
     "output_type": "execute_result"
    }
   ],
   "source": [
    "# Display the chapters of little women  in a table.\n",
    "\n",
    "x = Table().with_column('Chapters', little_women_chapters)\n",
    "x\n"
   ]
  },
  {
   "cell_type": "code",
   "execution_count": 237,
   "metadata": {},
   "outputs": [
    {
     "ename": "AttributeError",
     "evalue": "'numpy.ndarray' object has no attribute 'show'",
     "output_type": "error",
     "traceback": [
      "\u001b[0;31m---------------------------------------------------------------------------\u001b[0m",
      "\u001b[0;31mAttributeError\u001b[0m                            Traceback (most recent call last)",
      "\u001b[0;32m<ipython-input-237-179c9ffffecf>\u001b[0m in \u001b[0;36m<module>\u001b[0;34m()\u001b[0m\n\u001b[0;32m----> 1\u001b[0;31m \u001b[0mx\u001b[0m\u001b[0;34m.\u001b[0m\u001b[0mshow\u001b[0m\u001b[0;34m(\u001b[0m\u001b[0;34m)\u001b[0m\u001b[0;34m\u001b[0m\u001b[0m\n\u001b[0m",
      "\u001b[0;31mAttributeError\u001b[0m: 'numpy.ndarray' object has no attribute 'show'"
     ]
    }
   ],
   "source": []
  },
  {
   "cell_type": "code",
   "execution_count": 223,
   "metadata": {},
   "outputs": [
    {
     "data": {
      "text/plain": [
       "array([ 0, 16,  0,  8,  0,  0,  0, 22, 11, 19,  4, 20,  9,  6, 16, 28,  0,\n",
       "       10, 13, 18,  1,  0,  9,  5,  0,  0,  0,  1,  3,  5, 17,  0,  5, 17,\n",
       "       18, 23,  4, 27, 10, 13,  0, 12,  6])"
      ]
     },
     "execution_count": 223,
     "metadata": {},
     "output_type": "execute_result"
    }
   ],
   "source": [
    "np.char.count(huck_finn_chapters, 'Jim')\n",
    "#produces an array that searched in all chapters"
   ]
  },
  {
   "cell_type": "code",
   "execution_count": 224,
   "metadata": {},
   "outputs": [
    {
     "name": "stdout",
     "output_type": "stream",
     "text": [
      "43\n"
     ]
    }
   ],
   "source": [
    "print(len(np.char.count(huck_finn_chapters, 'Jim')))"
   ]
  },
  {
   "cell_type": "code",
   "execution_count": 225,
   "metadata": {},
   "outputs": [
    {
     "name": "stdout",
     "output_type": "stream",
     "text": [
      "Jim  | Tom  | Huck\n",
      "1    | 45   | 55\n",
      "2    | 6    | 55\n"
     ]
    }
   ],
   "source": [
    "counts = Table().with_columns([\n",
    "        'Jim', (1,2),\n",
    "        'Tom', (45,6),\n",
    "        'Huck', (55,55)    ])\n",
    "print(counts)"
   ]
  },
  {
   "cell_type": "code",
   "execution_count": 226,
   "metadata": {},
   "outputs": [
    {
     "name": "stdout",
     "output_type": "stream",
     "text": [
      "Jim  | Tom  | Huck\n",
      "0    | 6    | 3\n",
      "16   | 24   | 2\n",
      "0    | 5    | 2\n",
      "8    | 0    | 1\n",
      "0    | 0    | 0\n",
      "0    | 0    | 2\n",
      "0    | 2    | 0\n",
      "22   | 2    | 5\n",
      "11   | 0    | 1\n",
      "19   | 0    | 0\n",
      "... (33 rows omitted)\n"
     ]
    }
   ],
   "source": [
    "counts = Table().with_columns([\n",
    "        'Jim', np.char.count(huck_finn_chapters, 'Jim'),\n",
    "        'Tom', np.char.count(huck_finn_chapters, 'Tom'),\n",
    "        'Huck', np.char.count(huck_finn_chapters, 'Huck')\n",
    "    ])\n",
    "print(counts)"
   ]
  },
  {
   "cell_type": "code",
   "execution_count": 227,
   "metadata": {},
   "outputs": [],
   "source": [
    " a = np.array([[1,2,3], [4,5,6]])"
   ]
  },
  {
   "cell_type": "code",
   "execution_count": 228,
   "metadata": {},
   "outputs": [
    {
     "data": {
      "text/plain": [
       "array([[1, 2, 3],\n",
       "       [4, 5, 6]])"
      ]
     },
     "execution_count": 228,
     "metadata": {},
     "output_type": "execute_result"
    }
   ],
   "source": [
    "np.cumsum(a)\n",
    "a\n"
   ]
  },
  {
   "cell_type": "code",
   "execution_count": 229,
   "metadata": {},
   "outputs": [
    {
     "data": {
      "text/plain": [
       "[1, 2, 3, 4, 5, 6]"
      ]
     },
     "execution_count": 229,
     "metadata": {},
     "output_type": "execute_result"
    }
   ],
   "source": [
    "a= [1,2,3,4,5,6]\n",
    "a"
   ]
  },
  {
   "cell_type": "code",
   "execution_count": 230,
   "metadata": {},
   "outputs": [
    {
     "data": {
      "text/plain": [
       "array([ 1,  3,  6, 10, 15, 21])"
      ]
     },
     "execution_count": 230,
     "metadata": {},
     "output_type": "execute_result"
    }
   ],
   "source": [
    "np.cumsum(a)"
   ]
  },
  {
   "cell_type": "code",
   "execution_count": 231,
   "metadata": {},
   "outputs": [
    {
     "data": {
      "text/plain": [
       "array([ 1.,  3.,  6., 10., 15., 21.])"
      ]
     },
     "execution_count": 231,
     "metadata": {},
     "output_type": "execute_result"
    }
   ],
   "source": [
    "np.cumsum(a, dtype=float)     # specifies type of output value(s)\n"
   ]
  },
  {
   "cell_type": "code",
   "execution_count": 239,
   "metadata": {},
   "outputs": [
    {
     "data": {
      "text/plain": [
       "array([[1, 2, 3],\n",
       "       [4, 5, 6]])"
      ]
     },
     "execution_count": 239,
     "metadata": {},
     "output_type": "execute_result"
    }
   ],
   "source": [
    "a = np.array([[1,2,3], [4,5,6]])\n",
    "a\n"
   ]
  },
  {
   "cell_type": "code",
   "execution_count": 241,
   "metadata": {},
   "outputs": [
    {
     "data": {
      "text/plain": [
       "6"
      ]
     },
     "execution_count": 241,
     "metadata": {},
     "output_type": "execute_result"
    }
   ],
   "source": [
    "a.size\n"
   ]
  },
  {
   "cell_type": "code",
   "execution_count": 233,
   "metadata": {},
   "outputs": [
    {
     "data": {
      "text/plain": [
       "array([[1, 2, 3],\n",
       "       [5, 7, 9]])"
      ]
     },
     "execution_count": 233,
     "metadata": {},
     "output_type": "execute_result"
    }
   ],
   "source": [
    "np.cumsum(a,axis=0)      # sum over rows for each of the 3 columns\n"
   ]
  },
  {
   "cell_type": "code",
   "execution_count": 234,
   "metadata": {},
   "outputs": [
    {
     "data": {
      "text/plain": [
       "array([[ 1,  3,  6],\n",
       "       [ 4,  9, 15]])"
      ]
     },
     "execution_count": 234,
     "metadata": {},
     "output_type": "execute_result"
    }
   ],
   "source": [
    "np.cumsum(a,axis=1)      # sum over columns for each of the 2 rows\n"
   ]
  },
  {
   "cell_type": "code",
   "execution_count": 243,
   "metadata": {},
   "outputs": [
    {
     "name": "stdout",
     "output_type": "stream",
     "text": [
      "Jim  | Tom  | Huck\n",
      "0    | 6    | 3\n",
      "16   | 24   | 2\n",
      "0    | 5    | 2\n",
      "8    | 0    | 1\n",
      "0    | 0    | 0\n",
      "0    | 0    | 2\n",
      "0    | 2    | 0\n",
      "22   | 2    | 5\n",
      "11   | 0    | 1\n",
      "19   | 0    | 0\n",
      "... (33 rows omitted)\n"
     ]
    }
   ],
   "source": [
    "counts = Table().with_columns([\n",
    "        'Jim', np.char.count(huck_finn_chapters, 'Jim'),\n",
    "        'Tom', np.char.count(huck_finn_chapters, 'Tom'),\n",
    "        'Huck', np.char.count(huck_finn_chapters, 'Huck')\n",
    "    ])\n",
    "print(counts)\n"
   ]
  },
  {
   "cell_type": "code",
   "execution_count": 236,
   "metadata": {},
   "outputs": [
    {
     "name": "stdout",
     "output_type": "stream",
     "text": [
      "[ 1  3  5  7  9 11 13 15 17 19 21 23 25 27 29 31 33 35 37 39 41 43]\n",
      "22\n"
     ]
    }
   ],
   "source": [
    "#np.arrange\n",
    "x = np.arange(1, 44, 2)\n",
    "#doesn't have 44 (last index)\n",
    "print(x)\n",
    "print(len(x))\n"
   ]
  },
  {
   "cell_type": "code",
   "execution_count": 162,
   "metadata": {},
   "outputs": [
    {
     "name": "stdout",
     "output_type": "stream",
     "text": [
      "[ 1  2  3  4  5  6  7  8  9 10 11 12 13 14 15 16 17 18 19 20 21 22 23 24\n",
      " 25 26 27 28 29 30 31 32 33 34 35 36 37 38 39 40 41 42 43]\n",
      "43\n"
     ]
    }
   ],
   "source": [
    "#np.arrange\n",
    "x = np.arange(1, 44, 1)\n",
    "print(x)\n",
    "print(len(x))"
   ]
  },
  {
   "cell_type": "code",
   "execution_count": 163,
   "metadata": {},
   "outputs": [
    {
     "name": "stdout",
     "output_type": "stream",
     "text": [
      "Jim  | Tom  | Huck\n",
      "0    | 6    | 3\n",
      "16   | 30   | 5\n",
      "16   | 35   | 7\n",
      "24   | 35   | 8\n",
      "24   | 35   | 8\n",
      "24   | 35   | 10\n",
      "24   | 37   | 10\n",
      "46   | 39   | 15\n",
      "57   | 39   | 16\n",
      "76   | 39   | 16\n",
      "... (33 rows omitted)\n"
     ]
    }
   ],
   "source": [
    "#shows the old table\n",
    "print(np.cumsum(counts))\n",
    "\n",
    "\n",
    "\n",
    "\n"
   ]
  },
  {
   "cell_type": "code",
   "execution_count": 164,
   "metadata": {},
   "outputs": [
    {
     "data": {
      "text/html": [
       "<table border=\"1\" class=\"dataframe\">\n",
       "    <thead>\n",
       "        <tr>\n",
       "            <th>Jim</th> <th>Tom</th> <th>Huck</th> <th>Chapter</th>\n",
       "        </tr>\n",
       "    </thead>\n",
       "    <tbody>\n",
       "        <tr>\n",
       "            <td>0   </td> <td>6   </td> <td>3   </td> <td>1      </td>\n",
       "        </tr>\n",
       "        <tr>\n",
       "            <td>16  </td> <td>30  </td> <td>5   </td> <td>2      </td>\n",
       "        </tr>\n",
       "        <tr>\n",
       "            <td>16  </td> <td>35  </td> <td>7   </td> <td>3      </td>\n",
       "        </tr>\n",
       "        <tr>\n",
       "            <td>24  </td> <td>35  </td> <td>8   </td> <td>4      </td>\n",
       "        </tr>\n",
       "        <tr>\n",
       "            <td>24  </td> <td>35  </td> <td>8   </td> <td>5      </td>\n",
       "        </tr>\n",
       "        <tr>\n",
       "            <td>24  </td> <td>35  </td> <td>10  </td> <td>6      </td>\n",
       "        </tr>\n",
       "        <tr>\n",
       "            <td>24  </td> <td>37  </td> <td>10  </td> <td>7      </td>\n",
       "        </tr>\n",
       "        <tr>\n",
       "            <td>46  </td> <td>39  </td> <td>15  </td> <td>8      </td>\n",
       "        </tr>\n",
       "        <tr>\n",
       "            <td>57  </td> <td>39  </td> <td>16  </td> <td>9      </td>\n",
       "        </tr>\n",
       "        <tr>\n",
       "            <td>76  </td> <td>39  </td> <td>16  </td> <td>10     </td>\n",
       "        </tr>\n",
       "    </tbody>\n",
       "</table>\n",
       "<p>... (33 rows omitted)</p>"
      ],
      "text/plain": [
       "Jim  | Tom  | Huck | Chapter\n",
       "0    | 6    | 3    | 1\n",
       "16   | 30   | 5    | 2\n",
       "16   | 35   | 7    | 3\n",
       "24   | 35   | 8    | 4\n",
       "24   | 35   | 8    | 5\n",
       "24   | 35   | 10   | 6\n",
       "24   | 37   | 10   | 7\n",
       "46   | 39   | 15   | 8\n",
       "57   | 39   | 16   | 9\n",
       "76   | 39   | 16   | 10\n",
       "... (33 rows omitted)"
      ]
     },
     "execution_count": 164,
     "metadata": {},
     "output_type": "execute_result"
    }
   ],
   "source": [
    "\n",
    "#adds a new column\n",
    "#Table.with_column(label, values, *rest)\tReturn a new table with an additional or replaced column.\n",
    "cum_counts = counts.cumsum().with_column('Chapter', np.arange(1,44,1))\n",
    "cum_counts"
   ]
  },
  {
   "cell_type": "code",
   "execution_count": 165,
   "metadata": {},
   "outputs": [
    {
     "data": {
      "text/plain": [
       "Rows(Jim  | Tom  | Huck | Chapter\n",
       "0    | 6    | 3    | 1\n",
       "16   | 30   | 5    | 2\n",
       "16   | 35   | 7    | 3\n",
       "24   | 35   | 8    | 4\n",
       "24   | 35   | 8    | 5\n",
       "24   | 35   | 10   | 6\n",
       "24   | 37   | 10   | 7\n",
       "46   | 39   | 15   | 8\n",
       "57   | 39   | 16   | 9\n",
       "76   | 39   | 16   | 10\n",
       "... (33 rows omitted))"
      ]
     },
     "execution_count": 165,
     "metadata": {},
     "output_type": "execute_result"
    }
   ],
   "source": [
    "#shows all rows\n",
    "cum_counts.rows\n"
   ]
  },
  {
   "cell_type": "code",
   "execution_count": 166,
   "metadata": {},
   "outputs": [
    {
     "data": {
      "text/plain": [
       "Row(Jim=376, Tom=232, Huck=78, Chapter=43)"
      ]
     },
     "execution_count": 166,
     "metadata": {},
     "output_type": "execute_result"
    }
   ],
   "source": [
    "#shows 6 th row\n",
    "cum_counts.rows[42]"
   ]
  },
  {
   "cell_type": "code",
   "execution_count": 172,
   "metadata": {},
   "outputs": [
    {
     "data": {
      "text/plain": [
       "43"
      ]
     },
     "execution_count": 172,
     "metadata": {},
     "output_type": "execute_result"
    }
   ],
   "source": [
    "cum_counts.num_rows"
   ]
  },
  {
   "cell_type": "code",
   "execution_count": 174,
   "metadata": {},
   "outputs": [
    {
     "data": {
      "image/png": "[encoded data removed]",
      "text/plain": [
       "<Figure size 432x288 with 1 Axes>"
      ]
     },
     "metadata": {},
     "output_type": "display_data"
    }
   ],
   "source": [
    "\n",
    "cum_counts = counts.cumsum().with_column('Chapter', np.arange(1, 44, 1))\n",
    "cum_counts.plot()\n"
   ]
  },
  {
   "cell_type": "code",
   "execution_count": 187,
   "metadata": {},
   "outputs": [
    {
     "data": {
      "text/plain": [
       "Text(0.5,1.08,'Cumulative Number of Times Each Name Appears')"
      ]
     },
     "execution_count": 187,
     "metadata": {},
     "output_type": "execute_result"
    },
    {
     "data": {
      "image/png": "[encoded data removed]",
      "text/plain": [
       "<Figure size 432x288 with 1 Axes>"
      ]
     },
     "metadata": {},
     "output_type": "display_data"
    }
   ],
   "source": [
    "cum_counts.plot(column_for_xticks=3)\n",
    "#sets the third index (chapter) as x axis\n",
    "\n",
    "plots.title('Cumulative Number of Times Each Name Appears', y=1.08)"
   ]
  },
  {
   "cell_type": "code",
   "execution_count": 188,
   "metadata": {},
   "outputs": [],
   "source": [
    "counts_women = Table().with_columns([\n",
    "        'Amy', np.char.count(little_women_chapters, 'Amy'),\n",
    "        'Beth', np.char.count(little_women_chapters, 'Beth'),\n",
    "        'Jo', np.char.count(little_women_chapters, 'Jo'),\n",
    "        'Meg', np.char.count(little_women_chapters, 'Meg'),\n",
    "        'Laurie', np.char.count(little_women_chapters, 'Laurie'),\n",
    "\n",
    "    ])"
   ]
  },
  {
   "cell_type": "code",
   "execution_count": 189,
   "metadata": {},
   "outputs": [
    {
     "data": {
      "text/html": [
       "<table border=\"1\" class=\"dataframe\">\n",
       "    <thead>\n",
       "        <tr>\n",
       "            <th>Amy</th> <th>Beth</th> <th>Jo</th> <th>Meg</th> <th>Laurie</th>\n",
       "        </tr>\n",
       "    </thead>\n",
       "    <tbody>\n",
       "        <tr>\n",
       "            <td>23  </td> <td>26  </td> <td>44  </td> <td>26  </td> <td>0     </td>\n",
       "        </tr>\n",
       "        <tr>\n",
       "            <td>13  </td> <td>12  </td> <td>21  </td> <td>20  </td> <td>0     </td>\n",
       "        </tr>\n",
       "        <tr>\n",
       "            <td>2   </td> <td>2   </td> <td>62  </td> <td>36  </td> <td>16    </td>\n",
       "        </tr>\n",
       "        <tr>\n",
       "            <td>14  </td> <td>18  </td> <td>34  </td> <td>17  </td> <td>0     </td>\n",
       "        </tr>\n",
       "        <tr>\n",
       "            <td>6   </td> <td>14  </td> <td>55  </td> <td>13  </td> <td>35    </td>\n",
       "        </tr>\n",
       "        <tr>\n",
       "            <td>6   </td> <td>28  </td> <td>13  </td> <td>5   </td> <td>9     </td>\n",
       "        </tr>\n",
       "        <tr>\n",
       "            <td>27  </td> <td>5   </td> <td>9   </td> <td>5   </td> <td>7     </td>\n",
       "        </tr>\n",
       "        <tr>\n",
       "            <td>48  </td> <td>9   </td> <td>71  </td> <td>16  </td> <td>17    </td>\n",
       "        </tr>\n",
       "        <tr>\n",
       "            <td>3   </td> <td>5   </td> <td>21  </td> <td>71  </td> <td>24    </td>\n",
       "        </tr>\n",
       "        <tr>\n",
       "            <td>5   </td> <td>5   </td> <td>12  </td> <td>4   </td> <td>4     </td>\n",
       "        </tr>\n",
       "    </tbody>\n",
       "</table>\n",
       "<p>... (37 rows omitted)</p>"
      ],
      "text/plain": [
       "Amy  | Beth | Jo   | Meg  | Laurie\n",
       "23   | 26   | 44   | 26   | 0\n",
       "13   | 12   | 21   | 20   | 0\n",
       "2    | 2    | 62   | 36   | 16\n",
       "14   | 18   | 34   | 17   | 0\n",
       "6    | 14   | 55   | 13   | 35\n",
       "6    | 28   | 13   | 5    | 9\n",
       "27   | 5    | 9    | 5    | 7\n",
       "48   | 9    | 71   | 16   | 17\n",
       "3    | 5    | 21   | 71   | 24\n",
       "5    | 5    | 12   | 4    | 4\n",
       "... (37 rows omitted)"
      ]
     },
     "execution_count": 189,
     "metadata": {},
     "output_type": "execute_result"
    }
   ],
   "source": [
    "counts_women"
   ]
  },
  {
   "cell_type": "code",
   "execution_count": 191,
   "metadata": {},
   "outputs": [
    {
     "data": {
      "image/png": "[encoded data removed]",
      "text/plain": [
       "<Figure size 432x288 with 1 Axes>"
      ]
     },
     "metadata": {},
     "output_type": "display_data"
    }
   ],
   "source": [
    "cum_counts_women = counts_women.cumsum().with_column('Chapter', np.arange(1, 48, 1))\n",
    "cum_counts_women.plot(column_for_xticks=5)\n",
    "plots.title('Cumulative Number of Times Each Name Appears', y=1.08);\n"
   ]
  },
  {
   "cell_type": "code",
   "execution_count": 194,
   "metadata": {},
   "outputs": [],
   "source": [
    "chars_periods_huck_finn = Table().with_columns([\n",
    "        'Huck Finn Chapter Length', [len(s) for s in huck_finn_chapters],\n",
    "        'Number of Periods', np.char.count(huck_finn_chapters, '.')\n",
    "    ])"
   ]
  },
  {
   "cell_type": "code",
   "execution_count": 195,
   "metadata": {},
   "outputs": [
    {
     "data": {
      "text/plain": [
       "array([ 66, 117,  72,  84,  91, 125, 127, 249,  71,  70, 168, 129,  83,\n",
       "        89,  98, 183, 145, 202, 105, 122, 275,  70, 102, 103, 107, 145,\n",
       "        99, 160, 127,  39, 161,  90, 115, 102, 136,  85,  88, 133,  96,\n",
       "        60,  77,  92, 228])"
      ]
     },
     "execution_count": 195,
     "metadata": {},
     "output_type": "execute_result"
    }
   ],
   "source": [
    "np.char.count(huck_finn_chapters, '.')"
   ]
  },
  {
   "cell_type": "code",
   "execution_count": 196,
   "metadata": {},
   "outputs": [
    {
     "data": {
      "text/html": [
       "<table border=\"1\" class=\"dataframe\">\n",
       "    <thead>\n",
       "        <tr>\n",
       "            <th>Huck Finn Chapter Length</th> <th>Number of Periods</th>\n",
       "        </tr>\n",
       "    </thead>\n",
       "    <tbody>\n",
       "        <tr>\n",
       "            <td>7026                    </td> <td>66               </td>\n",
       "        </tr>\n",
       "        <tr>\n",
       "            <td>11982                   </td> <td>117              </td>\n",
       "        </tr>\n",
       "        <tr>\n",
       "            <td>8529                    </td> <td>72               </td>\n",
       "        </tr>\n",
       "        <tr>\n",
       "            <td>6799                    </td> <td>84               </td>\n",
       "        </tr>\n",
       "        <tr>\n",
       "            <td>8166                    </td> <td>91               </td>\n",
       "        </tr>\n",
       "        <tr>\n",
       "            <td>14550                   </td> <td>125              </td>\n",
       "        </tr>\n",
       "        <tr>\n",
       "            <td>13218                   </td> <td>127              </td>\n",
       "        </tr>\n",
       "        <tr>\n",
       "            <td>22208                   </td> <td>249              </td>\n",
       "        </tr>\n",
       "        <tr>\n",
       "            <td>8081                    </td> <td>71               </td>\n",
       "        </tr>\n",
       "        <tr>\n",
       "            <td>7036                    </td> <td>70               </td>\n",
       "        </tr>\n",
       "    </tbody>\n",
       "</table>\n",
       "<p>... (33 rows omitted)</p>"
      ],
      "text/plain": [
       "Huck Finn Chapter Length | Number of Periods\n",
       "7026                     | 66\n",
       "11982                    | 117\n",
       "8529                     | 72\n",
       "6799                     | 84\n",
       "8166                     | 91\n",
       "14550                    | 125\n",
       "13218                    | 127\n",
       "22208                    | 249\n",
       "8081                     | 71\n",
       "7036                     | 70\n",
       "... (33 rows omitted)"
      ]
     },
     "execution_count": 196,
     "metadata": {},
     "output_type": "execute_result"
    }
   ],
   "source": [
    "chars_periods_huck_finn"
   ]
  },
  {
   "cell_type": "code",
   "execution_count": 197,
   "metadata": {},
   "outputs": [],
   "source": [
    "chars_periods_little_women = Table().with_columns([\n",
    "        'Little Women Chapter Length', [len(s) for s in little_women_chapters],\n",
    "        'Number of Periods', np.char.count(little_women_chapters, '.')\n",
    "    ])"
   ]
  },
  {
   "cell_type": "code",
   "execution_count": 198,
   "metadata": {},
   "outputs": [
    {
     "data": {
      "text/html": [
       "<table border=\"1\" class=\"dataframe\">\n",
       "    <thead>\n",
       "        <tr>\n",
       "            <th>Little Women Chapter Length</th> <th>Number of Periods</th>\n",
       "        </tr>\n",
       "    </thead>\n",
       "    <tbody>\n",
       "        <tr>\n",
       "            <td>21759                      </td> <td>189              </td>\n",
       "        </tr>\n",
       "        <tr>\n",
       "            <td>22148                      </td> <td>188              </td>\n",
       "        </tr>\n",
       "        <tr>\n",
       "            <td>20558                      </td> <td>231              </td>\n",
       "        </tr>\n",
       "        <tr>\n",
       "            <td>25526                      </td> <td>195              </td>\n",
       "        </tr>\n",
       "        <tr>\n",
       "            <td>23395                      </td> <td>255              </td>\n",
       "        </tr>\n",
       "        <tr>\n",
       "            <td>14622                      </td> <td>140              </td>\n",
       "        </tr>\n",
       "        <tr>\n",
       "            <td>14431                      </td> <td>131              </td>\n",
       "        </tr>\n",
       "        <tr>\n",
       "            <td>22476                      </td> <td>214              </td>\n",
       "        </tr>\n",
       "        <tr>\n",
       "            <td>33767                      </td> <td>337              </td>\n",
       "        </tr>\n",
       "        <tr>\n",
       "            <td>18508                      </td> <td>185              </td>\n",
       "        </tr>\n",
       "    </tbody>\n",
       "</table>\n",
       "<p>... (37 rows omitted)</p>"
      ],
      "text/plain": [
       "Little Women Chapter Length | Number of Periods\n",
       "21759                       | 189\n",
       "22148                       | 188\n",
       "20558                       | 231\n",
       "25526                       | 195\n",
       "23395                       | 255\n",
       "14622                       | 140\n",
       "14431                       | 131\n",
       "22476                       | 214\n",
       "33767                       | 337\n",
       "18508                       | 185\n",
       "... (37 rows omitted)"
      ]
     },
     "execution_count": 198,
     "metadata": {},
     "output_type": "execute_result"
    }
   ],
   "source": [
    "chars_periods_little_women\n",
    " #Each row of the table corresponds to one chapter of the novel and \n",
    "    #displays the number of characters as well as the number of periods in the chapter"
   ]
  },
  {
   "cell_type": "code",
   "execution_count": 211,
   "metadata": {},
   "outputs": [
    {
     "data": {
      "text/plain": [
       "array([ 66, 117,  72,  84,  91, 125, 127, 249,  71,  70, 168, 129,  83,\n",
       "        89,  98, 183, 145, 202, 105, 122, 275,  70, 102, 103, 107, 145,\n",
       "        99, 160, 127,  39, 161,  90, 115, 102, 136,  85,  88, 133,  96,\n",
       "        60,  77,  92, 228])"
      ]
     },
     "execution_count": 211,
     "metadata": {},
     "output_type": "execute_result"
    }
   ],
   "source": [
    "chars_periods_huck_finn.column(1)"
   ]
  },
  {
   "cell_type": "code",
   "execution_count": 214,
   "metadata": {},
   "outputs": [
    {
     "data": {
      "image/png": "[encoded data removed]",
      "text/plain": [
       "<Figure size 360x360 with 1 Axes>"
      ]
     },
     "metadata": {},
     "output_type": "display_data"
    }
   ],
   "source": [
    "\n",
    "chars_periods_little_women.scatter( \n",
    "              'Number of Periods', 'Little Women Chapter Length',\n",
    "              color='darkblue')"
   ]
  },
  {
   "cell_type": "code",
   "execution_count": 210,
   "metadata": {},
   "outputs": [
    {
     "data": {
      "text/plain": [
       "<matplotlib.collections.PathCollection at 0x1a1ca055c0>"
      ]
     },
     "execution_count": 210,
     "metadata": {},
     "output_type": "execute_result"
    },
    {
     "data": {
      "image/png": "[encoded data removed]",
      "text/plain": [
       "<Figure size 432x288 with 1 Axes>"
      ]
     },
     "metadata": {},
     "output_type": "display_data"
    }
   ],
   "source": [
    "\n",
    "plots.scatter(chars_periods_huck_finn.column(1), \n",
    "              chars_periods_huck_finn.column(0), \n",
    "              color='darkblue')\n",
    "#first argument is x axis"
   ]
  },
  {
   "cell_type": "code",
   "execution_count": 202,
   "metadata": {},
   "outputs": [
    {
     "data": {
      "text/plain": [
       "<matplotlib.collections.PathCollection at 0x1a1c297588>"
      ]
     },
     "execution_count": 202,
     "metadata": {},
     "output_type": "execute_result"
    },
    {
     "data": {
      "image/png": "[encoded data removed]",
      "text/plain": [
       "<Figure size 432x288 with 1 Axes>"
      ]
     },
     "metadata": {},
     "output_type": "display_data"
    }
   ],
   "source": [
    "plots.scatter(chars_periods_little_women.column(1), \n",
    "              chars_periods_little_women.column(0), \n",
    "              color='gold')"
   ]
  },
  {
   "cell_type": "code",
   "execution_count": 208,
   "metadata": {},
   "outputs": [
    {
     "data": {
      "image/png": "[encoded data removed]",
      "text/plain": [
       "<Figure size 432x288 with 1 Axes>"
      ]
     },
     "metadata": {},
     "output_type": "display_data"
    }
   ],
   "source": [
    "\n",
    "#if both values are together only one plot\n",
    "plots.scatter(chars_periods_huck_finn.column(1), \n",
    "              chars_periods_huck_finn.column(0), \n",
    "              color='darkblue')\n",
    "plots.scatter(chars_periods_little_women.column(1), \n",
    "              chars_periods_little_women.column(0), \n",
    "              color='gold')\n",
    "\n",
    "plots.xlabel('Number of periods in chapter')\n",
    "plots.ylabel('Number of characters in chapter');\n"
   ]
  },
  {
   "cell_type": "code",
   "execution_count": 215,
   "metadata": {},
   "outputs": [
    {
     "ename": "ZeroDivisionError",
     "evalue": "division by zero",
     "output_type": "error",
     "traceback": [
      "\u001b[0;31m---------------------------------------------------------------------------\u001b[0m",
      "\u001b[0;31mZeroDivisionError\u001b[0m                         Traceback (most recent call last)",
      "\u001b[0;32m<ipython-input-215-9e1622b385b6>\u001b[0m in \u001b[0;36m<module>\u001b[0;34m()\u001b[0m\n\u001b[0;32m----> 1\u001b[0;31m \u001b[0;36m1\u001b[0m\u001b[0;34m/\u001b[0m\u001b[0;36m0\u001b[0m\u001b[0;34m\u001b[0m\u001b[0m\n\u001b[0m",
      "\u001b[0;31mZeroDivisionError\u001b[0m: division by zero"
     ]
    }
   ],
   "source": [
    "1/0"
   ]
  },
  {
   "cell_type": "code",
   "execution_count": 216,
   "metadata": {},
   "outputs": [
    {
     "data": {
      "text/plain": [
       "0.5"
      ]
     },
     "execution_count": 216,
     "metadata": {},
     "output_type": "execute_result"
    }
   ],
   "source": [
    "quarter = 1/4\n",
    "half = 2 * quarter\n",
    "half"
   ]
  },
  {
   "cell_type": "code",
   "execution_count": null,
   "metadata": {},
   "outputs": [],
   "source": []
  }
 ],
 "metadata": {
  "kernelspec": {
   "display_name": "Python 3",
   "language": "python",
   "name": "python3"
  },
  "language_info": {
   "codemirror_mode": {
    "name": "ipython",
    "version": 3
   },
   "file_extension": ".py",
   "mimetype": "text/x-python",
   "name": "python",
   "nbconvert_exporter": "python",
   "pygments_lexer": "ipython3",
   "version": "3.7.0"
  }
 },
 "nbformat": 4,
 "nbformat_minor": 2
}
