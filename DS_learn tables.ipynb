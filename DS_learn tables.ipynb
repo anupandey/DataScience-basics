{
 "cells": [
  {
   "cell_type": "code",
   "execution_count": 328,
   "metadata": {},
   "outputs": [],
   "source": [
    "from datascience import *\n",
    "import numpy as np\n",
    "path_data = '../../../../data/'\n",
    "import matplotlib\n",
    "matplotlib.use('Agg', warn=False)\n",
    "%matplotlib inline\n",
    "import matplotlib.pyplot as plots\n",
    "plots.style.use('fivethirtyeight')\n",
    "import warnings\n",
    "warnings.simplefilter(action=\"ignore\", category=FutureWarning)\n",
    "\n",
    "from urllib.request import urlopen \n",
    "import re\n",
    "def read_url(url): \n",
    "    return re.sub('\\\\s+', ' ', urlopen(url).read().decode())"
   ]
  },
  {
   "cell_type": "code",
   "execution_count": 329,
   "metadata": {},
   "outputs": [
    {
     "data": {
      "text/html": [
       "<table border=\"1\" class=\"dataframe\">\n",
       "    <thead>\n",
       "        <tr>\n",
       "            \n",
       "        </tr>\n",
       "    </thead>\n",
       "    <tbody>\n",
       "    </tbody>\n",
       "</table>"
      ],
      "text/plain": []
     },
     "execution_count": 329,
     "metadata": {},
     "output_type": "execute_result"
    }
   ],
   "source": [
    "Table()\n"
   ]
  },
  {
   "cell_type": "markdown",
   "metadata": {},
   "source": [
    "Tables\n",
    "Tables are a fundamental object type for representing data sets. A table can be viewed in two ways:\n",
    "\n",
    "a sequence of named columns that each describe a single aspect of all entries in a data set, or\n",
    "a sequence of rows that each contain all information about a single entry in a data set.\n",
    "In order to use tables, import all of the module called datascience, a module created for this text."
   ]
  },
  {
   "cell_type": "markdown",
   "metadata": {},
   "source": [
    "#A table method is just like a function, but it must operate on a table. So the call looks like\n",
    "\n",
    "\n",
    "#name_of_table.method(arguments)\n",
    "The with_columns method on a table constructs a new table with additional labeled columns. Each column of a table is an array. \n",
    "To add one new column to a table, call with_columns with a label and an array. (The with_column method can be used with the same effect.)"
   ]
  },
  {
   "cell_type": "code",
   "execution_count": 330,
   "metadata": {},
   "outputs": [
    {
     "data": {
      "text/html": [
       "<table border=\"1\" class=\"dataframe\">\n",
       "    <thead>\n",
       "        <tr>\n",
       "            <th>Number of petals</th>\n",
       "        </tr>\n",
       "    </thead>\n",
       "    <tbody>\n",
       "        <tr>\n",
       "            <td>8               </td>\n",
       "        </tr>\n",
       "        <tr>\n",
       "            <td>34              </td>\n",
       "        </tr>\n",
       "        <tr>\n",
       "            <td>5               </td>\n",
       "        </tr>\n",
       "    </tbody>\n",
       "</table>"
      ],
      "text/plain": [
       "Number of petals\n",
       "8\n",
       "34\n",
       "5"
      ]
     },
     "execution_count": 330,
     "metadata": {},
     "output_type": "execute_result"
    }
   ],
   "source": [
    "Table().with_columns('Number of petals', make_array(8, 34, 5))"
   ]
  },
  {
   "cell_type": "markdown",
   "metadata": {},
   "source": [
    "To add two (or more) new columns, provide the label and array for each column. \n",
    "All columns must have the same length, or an error will occur."
   ]
  },
  {
   "cell_type": "code",
   "execution_count": 331,
   "metadata": {},
   "outputs": [
    {
     "data": {
      "text/html": [
       "<table border=\"1\" class=\"dataframe\">\n",
       "    <thead>\n",
       "        <tr>\n",
       "            <th>Number of petals</th> <th>Name</th>\n",
       "        </tr>\n",
       "    </thead>\n",
       "    <tbody>\n",
       "        <tr>\n",
       "            <td>8               </td> <td>lotus    </td>\n",
       "        </tr>\n",
       "        <tr>\n",
       "            <td>34              </td> <td>sunflower</td>\n",
       "        </tr>\n",
       "        <tr>\n",
       "            <td>5               </td> <td>rose     </td>\n",
       "        </tr>\n",
       "    </tbody>\n",
       "</table>"
      ],
      "text/plain": [
       "Number of petals | Name\n",
       "8                | lotus\n",
       "34               | sunflower\n",
       "5                | rose"
      ]
     },
     "execution_count": 331,
     "metadata": {},
     "output_type": "execute_result"
    }
   ],
   "source": [
    "Table().with_columns(\n",
    "    'Number of petals', make_array(8, 34, 5),\n",
    "    'Name', make_array('lotus', 'sunflower', 'rose')\n",
    ")"
   ]
  },
  {
   "cell_type": "code",
   "execution_count": 332,
   "metadata": {},
   "outputs": [
    {
     "data": {
      "text/html": [
       "<table border=\"1\" class=\"dataframe\">\n",
       "    <thead>\n",
       "        <tr>\n",
       "            <th>Number of petals</th> <th>Name</th>\n",
       "        </tr>\n",
       "    </thead>\n",
       "    <tbody>\n",
       "        <tr>\n",
       "            <td>8               </td> <td>lotus    </td>\n",
       "        </tr>\n",
       "        <tr>\n",
       "            <td>34              </td> <td>sunflower</td>\n",
       "        </tr>\n",
       "        <tr>\n",
       "            <td>5               </td> <td>rose     </td>\n",
       "        </tr>\n",
       "    </tbody>\n",
       "</table>"
      ],
      "text/plain": [
       "Number of petals | Name\n",
       "8                | lotus\n",
       "34               | sunflower\n",
       "5                | rose"
      ]
     },
     "execution_count": 332,
     "metadata": {},
     "output_type": "execute_result"
    }
   ],
   "source": [
    "Table().with_columns(\n",
    "    'Number of petals', make_array(8, 34, 5),\n",
    "    'Name', make_array('lotus', 'sunflower', 'rose')\n",
    ")"
   ]
  },
  {
   "cell_type": "code",
   "execution_count": 333,
   "metadata": {},
   "outputs": [
    {
     "data": {
      "text/html": [
       "<table border=\"1\" class=\"dataframe\">\n",
       "    <thead>\n",
       "        <tr>\n",
       "            <th>Number of petals</th> <th>Name</th> <th>Color</th>\n",
       "        </tr>\n",
       "    </thead>\n",
       "    <tbody>\n",
       "        <tr>\n",
       "            <td>8               </td> <td>lotus    </td> <td>pink  </td>\n",
       "        </tr>\n",
       "        <tr>\n",
       "            <td>34              </td> <td>sunflower</td> <td>yellow</td>\n",
       "        </tr>\n",
       "        <tr>\n",
       "            <td>5               </td> <td>rose     </td> <td>red   </td>\n",
       "        </tr>\n",
       "    </tbody>\n",
       "</table>"
      ],
      "text/plain": [
       "Number of petals | Name      | Color\n",
       "8                | lotus     | pink\n",
       "34               | sunflower | yellow\n",
       "5                | rose      | red"
      ]
     },
     "execution_count": 333,
     "metadata": {},
     "output_type": "execute_result"
    }
   ],
   "source": [
    "flowers = Table().with_columns(\n",
    "    'Number of petals', make_array(8, 34, 5),\n",
    "    'Name', make_array('lotus', 'sunflower', 'rose')\n",
    ")\n",
    "\n",
    "#then extend the table with another column.\n",
    "flowers.with_columns(\n",
    "    'Color', make_array('pink', 'yellow', 'red')\n",
    ")"
   ]
  },
  {
   "cell_type": "markdown",
   "metadata": {},
   "source": [
    "The with_columns method creates a new table each time it is called, so the original table is not affected. \n",
    "For example, the table flowers still has only the two columns that it had when it was created."
   ]
  },
  {
   "cell_type": "code",
   "execution_count": 334,
   "metadata": {},
   "outputs": [
    {
     "data": {
      "text/html": [
       "<table border=\"1\" class=\"dataframe\">\n",
       "    <thead>\n",
       "        <tr>\n",
       "            <th>Number of petals</th> <th>Name</th>\n",
       "        </tr>\n",
       "    </thead>\n",
       "    <tbody>\n",
       "        <tr>\n",
       "            <td>8               </td> <td>lotus    </td>\n",
       "        </tr>\n",
       "        <tr>\n",
       "            <td>34              </td> <td>sunflower</td>\n",
       "        </tr>\n",
       "        <tr>\n",
       "            <td>5               </td> <td>rose     </td>\n",
       "        </tr>\n",
       "    </tbody>\n",
       "</table>"
      ],
      "text/plain": [
       "Number of petals | Name\n",
       "8                | lotus\n",
       "34               | sunflower\n",
       "5                | rose"
      ]
     },
     "execution_count": 334,
     "metadata": {},
     "output_type": "execute_result"
    }
   ],
   "source": [
    "flowers"
   ]
  },
  {
   "cell_type": "code",
   "execution_count": 335,
   "metadata": {},
   "outputs": [
    {
     "data": {
      "text/plain": [
       "2"
      ]
     },
     "execution_count": 335,
     "metadata": {},
     "output_type": "execute_result"
    }
   ],
   "source": [
    "flowers.num_columns"
   ]
  },
  {
   "cell_type": "code",
   "execution_count": 336,
   "metadata": {},
   "outputs": [
    {
     "data": {
      "text/html": [
       "<table border=\"1\" class=\"dataframe\">\n",
       "    <thead>\n",
       "        <tr>\n",
       "            <th>Number of petals</th> <th>Name</th>\n",
       "        </tr>\n",
       "    </thead>\n",
       "    <tbody>\n",
       "        <tr>\n",
       "            <td>3               </td> <td>3   </td>\n",
       "        </tr>\n",
       "    </tbody>\n",
       "</table>"
      ],
      "text/plain": [
       "Number of petals | Name\n",
       "3                | 3"
      ]
     },
     "execution_count": 336,
     "metadata": {},
     "output_type": "execute_result"
    }
   ],
   "source": [
    "flowers.size"
   ]
  },
  {
   "cell_type": "code",
   "execution_count": 337,
   "metadata": {},
   "outputs": [
    {
     "data": {
      "text/plain": [
       "3"
      ]
     },
     "execution_count": 337,
     "metadata": {},
     "output_type": "execute_result"
    }
   ],
   "source": [
    "#finding numbers of rows\n",
    "flowers.num_rows"
   ]
  },
  {
   "cell_type": "code",
   "execution_count": 338,
   "metadata": {},
   "outputs": [
    {
     "data": {
      "text/plain": [
       "('Number of petals', 'Name')"
      ]
     },
     "execution_count": 338,
     "metadata": {},
     "output_type": "execute_result"
    }
   ],
   "source": [
    "flowers.labels"
   ]
  },
  {
   "cell_type": "code",
   "execution_count": 339,
   "metadata": {},
   "outputs": [
    {
     "data": {
      "text/html": [
       "<table border=\"1\" class=\"dataframe\">\n",
       "    <thead>\n",
       "        <tr>\n",
       "            <th>Number of petals</th> <th>Flowerr Name</th>\n",
       "        </tr>\n",
       "    </thead>\n",
       "    <tbody>\n",
       "        <tr>\n",
       "            <td>8               </td> <td>lotus       </td>\n",
       "        </tr>\n",
       "        <tr>\n",
       "            <td>34              </td> <td>sunflower   </td>\n",
       "        </tr>\n",
       "        <tr>\n",
       "            <td>5               </td> <td>rose        </td>\n",
       "        </tr>\n",
       "    </tbody>\n",
       "</table>"
      ],
      "text/plain": [
       "Number of petals | Flowerr Name\n",
       "8                | lotus\n",
       "34               | sunflower\n",
       "5                | rose"
      ]
     },
     "execution_count": 339,
     "metadata": {},
     "output_type": "execute_result"
    }
   ],
   "source": [
    "#Renaming label\n",
    "flowers.relabeled('Name', 'Flowerr Name')"
   ]
  },
  {
   "cell_type": "code",
   "execution_count": 340,
   "metadata": {},
   "outputs": [
    {
     "data": {
      "text/html": [
       "<table border=\"1\" class=\"dataframe\">\n",
       "    <thead>\n",
       "        <tr>\n",
       "            <th>Number of petals</th> <th>Name</th>\n",
       "        </tr>\n",
       "    </thead>\n",
       "    <tbody>\n",
       "        <tr>\n",
       "            <td>8               </td> <td>lotus    </td>\n",
       "        </tr>\n",
       "        <tr>\n",
       "            <td>34              </td> <td>sunflower</td>\n",
       "        </tr>\n",
       "        <tr>\n",
       "            <td>5               </td> <td>rose     </td>\n",
       "        </tr>\n",
       "    </tbody>\n",
       "</table>"
      ],
      "text/plain": [
       "Number of petals | Name\n",
       "8                | lotus\n",
       "34               | sunflower\n",
       "5                | rose"
      ]
     },
     "execution_count": 340,
     "metadata": {},
     "output_type": "execute_result"
    }
   ],
   "source": [
    "#However, this method does not change the original table.\n",
    "flowers"
   ]
  },
  {
   "cell_type": "code",
   "execution_count": 341,
   "metadata": {},
   "outputs": [
    {
     "data": {
      "text/plain": [
       "3"
      ]
     },
     "execution_count": 341,
     "metadata": {},
     "output_type": "execute_result"
    }
   ],
   "source": [
    "flowers.num_rows"
   ]
  },
  {
   "cell_type": "code",
   "execution_count": 342,
   "metadata": {},
   "outputs": [
    {
     "data": {
      "text/plain": [
       "2"
      ]
     },
     "execution_count": 342,
     "metadata": {},
     "output_type": "execute_result"
    }
   ],
   "source": [
    "flowers.num_columns"
   ]
  },
  {
   "cell_type": "code",
   "execution_count": 343,
   "metadata": {},
   "outputs": [
    {
     "data": {
      "text/plain": [
       "array(['lotus', 'sunflower', 'rose'], dtype='<U9')"
      ]
     },
     "execution_count": 343,
     "metadata": {},
     "output_type": "execute_result"
    }
   ],
   "source": [
    "#acessing data in a column using labels\n",
    "flowers.column('Name')"
   ]
  },
  {
   "cell_type": "code",
   "execution_count": 344,
   "metadata": {},
   "outputs": [
    {
     "data": {
      "text/plain": [
       "array(['lotus', 'sunflower', 'rose'], dtype='<U9')"
      ]
     },
     "execution_count": 344,
     "metadata": {},
     "output_type": "execute_result"
    }
   ],
   "source": [
    "#acessing data in a column using indexes\n",
    "flowers.column(1)"
   ]
  },
  {
   "cell_type": "code",
   "execution_count": 345,
   "metadata": {},
   "outputs": [
    {
     "data": {
      "text/plain": [
       "'rose'"
      ]
     },
     "execution_count": 345,
     "metadata": {},
     "output_type": "execute_result"
    }
   ],
   "source": [
    "flowers.column(1).item(2)"
   ]
  },
  {
   "cell_type": "markdown",
   "metadata": {},
   "source": [
    "Creating tables in this way involves a lot of typing. If the data have already been entered somewhere, it is usually possible to use Python to read it into a table, instead of typing it all in cell by cell.\n",
    "\n",
    "Often, tables are created from files that contain comma-separated values. Such files are called CSV files.\n",
    "minard = Table.read_table(path_data + 'minard.csv')\n",
    "minard"
   ]
  },
  {
   "cell_type": "code",
   "execution_count": 346,
   "metadata": {},
   "outputs": [
    {
     "data": {
      "text/html": [
       "<table border=\"1\" class=\"dataframe\">\n",
       "    <thead>\n",
       "        <tr>\n",
       "            <th>letter</th> <th>what</th>\n",
       "        </tr>\n",
       "    </thead>\n",
       "    <tbody>\n",
       "        <tr>\n",
       "            <td>c     </td> <td>c   </td>\n",
       "        </tr>\n",
       "        <tr>\n",
       "            <td>d     </td> <td>d   </td>\n",
       "        </tr>\n",
       "        <tr>\n",
       "            <td>e     </td> <td>e   </td>\n",
       "        </tr>\n",
       "    </tbody>\n",
       "</table>"
      ],
      "text/plain": [
       "letter | what\n",
       "c      | c\n",
       "d      | d\n",
       "e      | e"
      ]
     },
     "execution_count": 346,
     "metadata": {},
     "output_type": "execute_result"
    }
   ],
   "source": [
    " alp = Table().with_column('letter', make_array('c','d','e'))\n",
    "alp.with_column('what', make_array('c','d','e'))\n"
   ]
  },
  {
   "cell_type": "code",
   "execution_count": null,
   "metadata": {},
   "outputs": [],
   "source": []
  },
  {
   "cell_type": "code",
   "execution_count": 347,
   "metadata": {},
   "outputs": [
    {
     "data": {
      "text/html": [
       "<table border=\"1\" class=\"dataframe\">\n",
       "    <thead>\n",
       "        <tr>\n",
       "            <th>letter</th>\n",
       "        </tr>\n",
       "    </thead>\n",
       "    <tbody>\n",
       "        <tr>\n",
       "            <td>c     </td>\n",
       "        </tr>\n",
       "        <tr>\n",
       "            <td>d     </td>\n",
       "        </tr>\n",
       "        <tr>\n",
       "            <td>e     </td>\n",
       "        </tr>\n",
       "    </tbody>\n",
       "</table>"
      ],
      "text/plain": [
       "letter\n",
       "c\n",
       "d\n",
       "e"
      ]
     },
     "execution_count": 347,
     "metadata": {},
     "output_type": "execute_result"
    }
   ],
   "source": [
    "alp #does not chnage alp makes a new column"
   ]
  },
  {
   "cell_type": "code",
   "execution_count": 348,
   "metadata": {},
   "outputs": [
    {
     "data": {
      "text/html": [
       "<table border=\"1\" class=\"dataframe\">\n",
       "    <thead>\n",
       "        <tr>\n",
       "            <th>letter</th>\n",
       "        </tr>\n",
       "    </thead>\n",
       "    <tbody>\n",
       "        <tr>\n",
       "            <td>c     </td>\n",
       "        </tr>\n",
       "    </tbody>\n",
       "</table>\n",
       "<p>... (2 rows omitted)</p>"
      ],
      "text/plain": [
       "<IPython.core.display.HTML object>"
      ]
     },
     "metadata": {},
     "output_type": "display_data"
    }
   ],
   "source": [
    "alp.show(1)\n",
    "#to see a fixed number of rows"
   ]
  },
  {
   "cell_type": "code",
   "execution_count": null,
   "metadata": {},
   "outputs": [],
   "source": []
  },
  {
   "cell_type": "code",
   "execution_count": 349,
   "metadata": {},
   "outputs": [
    {
     "data": {
      "text/html": [
       "<table border=\"1\" class=\"dataframe\">\n",
       "    <thead>\n",
       "        <tr>\n",
       "            <th>letter</th> <th>what</th>\n",
       "        </tr>\n",
       "    </thead>\n",
       "    <tbody>\n",
       "        <tr>\n",
       "            <td>c     </td> <td>c   </td>\n",
       "        </tr>\n",
       "        <tr>\n",
       "            <td>d     </td> <td>d   </td>\n",
       "        </tr>\n",
       "        <tr>\n",
       "            <td>e     </td> <td>e   </td>\n",
       "        </tr>\n",
       "    </tbody>\n",
       "</table>"
      ],
      "text/plain": [
       "letter | what\n",
       "c      | c\n",
       "d      | d\n",
       "e      | e"
      ]
     },
     "execution_count": 349,
     "metadata": {},
     "output_type": "execute_result"
    }
   ],
   "source": [
    "alp = Table().with_column('letter', make_array('c','d','e'))\n",
    "alp = alp.with_column('what', make_array('c','d','e'))\n",
    "alp"
   ]
  },
  {
   "cell_type": "code",
   "execution_count": 350,
   "metadata": {},
   "outputs": [
    {
     "data": {
      "text/html": [
       "<table border=\"1\" class=\"dataframe\">\n",
       "    <thead>\n",
       "        <tr>\n",
       "            <th>Sizes</th> <th>Waists</th>\n",
       "        </tr>\n",
       "    </thead>\n",
       "    <tbody>\n",
       "        <tr>\n",
       "            <td>S    </td> <td>30    </td>\n",
       "        </tr>\n",
       "        <tr>\n",
       "            <td>M    </td> <td>34    </td>\n",
       "        </tr>\n",
       "        <tr>\n",
       "            <td>L    </td> <td>38    </td>\n",
       "        </tr>\n",
       "        <tr>\n",
       "            <td>XL   </td> <td>42    </td>\n",
       "        </tr>\n",
       "    </tbody>\n",
       "</table>"
      ],
      "text/plain": [
       "Sizes | Waists\n",
       "S     | 30\n",
       "M     | 34\n",
       "L     | 38\n",
       "XL    | 42"
      ]
     },
     "execution_count": 350,
     "metadata": {},
     "output_type": "execute_result"
    }
   ],
   "source": [
    "\n",
    "t = Table().with_columns(['Sizes', ['S', 'M', 'L', 'XL'], 'Waists', [30, 34, 38, 42],])\n",
    "t"
   ]
  },
  {
   "cell_type": "code",
   "execution_count": 351,
   "metadata": {},
   "outputs": [
    {
     "data": {
      "text/html": [
       "<table border=\"1\" class=\"dataframe\">\n",
       "    <thead>\n",
       "        <tr>\n",
       "            <th>Sizes</th> <th>Waists</th>\n",
       "        </tr>\n",
       "    </thead>\n",
       "    <tbody>\n",
       "        <tr>\n",
       "            <td>L    </td> <td>38    </td>\n",
       "        </tr>\n",
       "    </tbody>\n",
       "</table>"
      ],
      "text/plain": [
       "Sizes | Waists\n",
       "L     | 38"
      ]
     },
     "execution_count": 351,
     "metadata": {},
     "output_type": "execute_result"
    }
   ],
   "source": [
    "t.where('Sizes',  are.equal_to('L'))"
   ]
  },
  {
   "cell_type": "code",
   "execution_count": 352,
   "metadata": {},
   "outputs": [
    {
     "data": {
      "text/html": [
       "<table border=\"1\" class=\"dataframe\">\n",
       "    <thead>\n",
       "        <tr>\n",
       "            <th>Sizes</th> <th>Waists</th>\n",
       "        </tr>\n",
       "    </thead>\n",
       "    <tbody>\n",
       "        <tr>\n",
       "            <td>L    </td> <td>38    </td>\n",
       "        </tr>\n",
       "        <tr>\n",
       "            <td>XL   </td> <td>42    </td>\n",
       "        </tr>\n",
       "    </tbody>\n",
       "</table>"
      ],
      "text/plain": [
       "Sizes | Waists\n",
       "L     | 38\n",
       "XL    | 42"
      ]
     },
     "execution_count": 352,
     "metadata": {},
     "output_type": "execute_result"
    }
   ],
   "source": [
    "t.where('Waists', are.above_or_equal_to(38))"
   ]
  },
  {
   "cell_type": "code",
   "execution_count": 353,
   "metadata": {},
   "outputs": [
    {
     "data": {
      "text/html": [
       "<table border=\"1\" class=\"dataframe\">\n",
       "    <thead>\n",
       "        <tr>\n",
       "            <th>Sizes</th> <th>Waists</th>\n",
       "        </tr>\n",
       "    </thead>\n",
       "    <tbody>\n",
       "        <tr>\n",
       "            <td>M    </td> <td>34    </td>\n",
       "        </tr>\n",
       "    </tbody>\n",
       "</table>"
      ],
      "text/plain": [
       "Sizes | Waists\n",
       "M     | 34"
      ]
     },
     "execution_count": 353,
     "metadata": {},
     "output_type": "execute_result"
    }
   ],
   "source": [
    "t.where('Waists', are.strictly_between(30, 38))"
   ]
  },
  {
   "cell_type": "code",
   "execution_count": 354,
   "metadata": {},
   "outputs": [
    {
     "data": {
      "text/html": [
       "<table border=\"1\" class=\"dataframe\">\n",
       "    <thead>\n",
       "        <tr>\n",
       "            <th>Sizes</th> <th>Waists</th>\n",
       "        </tr>\n",
       "    </thead>\n",
       "    <tbody>\n",
       "        <tr>\n",
       "            <td>S    </td> <td>30    </td>\n",
       "        </tr>\n",
       "        <tr>\n",
       "            <td>M    </td> <td>34    </td>\n",
       "        </tr>\n",
       "    </tbody>\n",
       "</table>"
      ],
      "text/plain": [
       "Sizes | Waists\n",
       "S     | 30\n",
       "M     | 34"
      ]
     },
     "execution_count": 354,
     "metadata": {},
     "output_type": "execute_result"
    }
   ],
   "source": [
    " t.where('Waists', are.between(30, 38)) #http://data8.org/datascience/predicates.html"
   ]
  },
  {
   "cell_type": "code",
   "execution_count": 355,
   "metadata": {},
   "outputs": [],
   "source": [
    "#DATASCIENCE tables plot\n",
    "#http://data8.org/datascience/_autosummary/datascience.tables.Table.plot.html\n",
    "y = Table().with_columns( 'days',  make_array(0, 1, 2, 3, 4, 5),'price', make_array(90.5, 90.00, 83.00, 95.50, 82.00, 82.00),'projection', make_array(90.75, 82.00, 82.50, 82.50, 83.00, 82.50))"
   ]
  },
  {
   "cell_type": "code",
   "execution_count": 356,
   "metadata": {},
   "outputs": [
    {
     "data": {
      "text/html": [
       "<table border=\"1\" class=\"dataframe\">\n",
       "    <thead>\n",
       "        <tr>\n",
       "            <th>days</th> <th>price</th> <th>projection</th>\n",
       "        </tr>\n",
       "    </thead>\n",
       "    <tbody>\n",
       "        <tr>\n",
       "            <td>0   </td> <td>90.5 </td> <td>90.75     </td>\n",
       "        </tr>\n",
       "        <tr>\n",
       "            <td>1   </td> <td>90   </td> <td>82        </td>\n",
       "        </tr>\n",
       "        <tr>\n",
       "            <td>2   </td> <td>83   </td> <td>82.5      </td>\n",
       "        </tr>\n",
       "        <tr>\n",
       "            <td>3   </td> <td>95.5 </td> <td>82.5      </td>\n",
       "        </tr>\n",
       "        <tr>\n",
       "            <td>4   </td> <td>82   </td> <td>83        </td>\n",
       "        </tr>\n",
       "        <tr>\n",
       "            <td>5   </td> <td>82   </td> <td>82.5      </td>\n",
       "        </tr>\n",
       "    </tbody>\n",
       "</table>"
      ],
      "text/plain": [
       "days | price | projection\n",
       "0    | 90.5  | 90.75\n",
       "1    | 90    | 82\n",
       "2    | 83    | 82.5\n",
       "3    | 95.5  | 82.5\n",
       "4    | 82    | 83\n",
       "5    | 82    | 82.5"
      ]
     },
     "execution_count": 356,
     "metadata": {},
     "output_type": "execute_result"
    }
   ],
   "source": [
    "y"
   ]
  },
  {
   "cell_type": "code",
   "execution_count": 357,
   "metadata": {},
   "outputs": [
    {
     "data": {
      "text/plain": [
       "array([90.75, 82.  , 82.5 , 82.5 , 83.  , 82.5 ])"
      ]
     },
     "execution_count": 357,
     "metadata": {},
     "output_type": "execute_result"
    }
   ],
   "source": [
    "price1 = y.column('projection').item(0)\n",
    "price1\n",
    "y.column('projection')\n",
    "\n"
   ]
  },
  {
   "cell_type": "code",
   "execution_count": 358,
   "metadata": {},
   "outputs": [
    {
     "data": {
      "text/plain": [
       "array([1.        , 0.90358127, 0.90909091, 0.90909091, 0.91460055,\n",
       "       0.90909091])"
      ]
     },
     "execution_count": 358,
     "metadata": {},
     "output_type": "execute_result"
    }
   ],
   "source": [
    "y.column('projection')/price1"
   ]
  },
  {
   "cell_type": "markdown",
   "metadata": {},
   "source": [
    "Working with the Data in a Column\n",
    "Because columns are arrays, we can use array operations on them to discover new information"
   ]
  },
  {
   "cell_type": "code",
   "execution_count": 359,
   "metadata": {},
   "outputs": [
    {
     "data": {
      "text/html": [
       "<table border=\"1\" class=\"dataframe\">\n",
       "    <thead>\n",
       "        <tr>\n",
       "            <th>days</th> <th>price</th> <th>projection</th> <th>NewColumn</th>\n",
       "        </tr>\n",
       "    </thead>\n",
       "    <tbody>\n",
       "        <tr>\n",
       "            <td>0   </td> <td>90.5 </td> <td>90.75     </td> <td>1        </td>\n",
       "        </tr>\n",
       "        <tr>\n",
       "            <td>1   </td> <td>90   </td> <td>82        </td> <td>0.903581 </td>\n",
       "        </tr>\n",
       "        <tr>\n",
       "            <td>2   </td> <td>83   </td> <td>82.5      </td> <td>0.909091 </td>\n",
       "        </tr>\n",
       "        <tr>\n",
       "            <td>3   </td> <td>95.5 </td> <td>82.5      </td> <td>0.909091 </td>\n",
       "        </tr>\n",
       "        <tr>\n",
       "            <td>4   </td> <td>82   </td> <td>83        </td> <td>0.914601 </td>\n",
       "        </tr>\n",
       "        <tr>\n",
       "            <td>5   </td> <td>82   </td> <td>82.5      </td> <td>0.909091 </td>\n",
       "        </tr>\n",
       "    </tbody>\n",
       "</table>"
      ],
      "text/plain": [
       "days | price | projection | NewColumn\n",
       "0    | 90.5  | 90.75      | 1\n",
       "1    | 90    | 82         | 0.903581\n",
       "2    | 83    | 82.5       | 0.909091\n",
       "3    | 95.5  | 82.5       | 0.909091\n",
       "4    | 82    | 83         | 0.914601\n",
       "5    | 82    | 82.5       | 0.909091"
      ]
     },
     "execution_count": 359,
     "metadata": {},
     "output_type": "execute_result"
    }
   ],
   "source": [
    "y = y.with_columns(\n",
    "    'NewColumn', y.column('projection')/price1\n",
    ")\n",
    "\n",
    "y\n"
   ]
  },
  {
   "cell_type": "markdown",
   "metadata": {},
   "source": [
    "FORMATTING\n",
    "To make the proportions in the new columns appear as percents, we can use the method set_format with the option PercentFormatter. The set_format method takes Formatter objects, which exist for dates (DateFormatter), currencies (CurrencyFormatter), numbers, and percentages."
   ]
  },
  {
   "cell_type": "code",
   "execution_count": 360,
   "metadata": {},
   "outputs": [
    {
     "data": {
      "text/html": [
       "<table border=\"1\" class=\"dataframe\">\n",
       "    <thead>\n",
       "        <tr>\n",
       "            <th>days</th> <th>price</th> <th>projection</th> <th>NewColumn</th>\n",
       "        </tr>\n",
       "    </thead>\n",
       "    <tbody>\n",
       "        <tr>\n",
       "            <td>0   </td> <td>90.5 </td> <td>90.75     </td> <td>100.00%  </td>\n",
       "        </tr>\n",
       "        <tr>\n",
       "            <td>1   </td> <td>90   </td> <td>82        </td> <td>90.36%   </td>\n",
       "        </tr>\n",
       "        <tr>\n",
       "            <td>2   </td> <td>83   </td> <td>82.5      </td> <td>90.91%   </td>\n",
       "        </tr>\n",
       "        <tr>\n",
       "            <td>3   </td> <td>95.5 </td> <td>82.5      </td> <td>90.91%   </td>\n",
       "        </tr>\n",
       "        <tr>\n",
       "            <td>4   </td> <td>82   </td> <td>83        </td> <td>91.46%   </td>\n",
       "        </tr>\n",
       "        <tr>\n",
       "            <td>5   </td> <td>82   </td> <td>82.5      </td> <td>90.91%   </td>\n",
       "        </tr>\n",
       "    </tbody>\n",
       "</table>"
      ],
      "text/plain": [
       "days | price | projection | NewColumn\n",
       "0    | 90.5  | 90.75      | 100.00%\n",
       "1    | 90    | 82         | 90.36%\n",
       "2    | 83    | 82.5       | 90.91%\n",
       "3    | 95.5  | 82.5       | 90.91%\n",
       "4    | 82    | 83         | 91.46%\n",
       "5    | 82    | 82.5       | 90.91%"
      ]
     },
     "execution_count": 360,
     "metadata": {},
     "output_type": "execute_result"
    }
   ],
   "source": [
    "y.set_format('NewColumn', PercentFormatter)"
   ]
  },
  {
   "cell_type": "markdown",
   "metadata": {},
   "source": [
    "Choosing Sets of Columns\n",
    "The method select creates a new table that contains only the specified columns."
   ]
  },
  {
   "cell_type": "code",
   "execution_count": 361,
   "metadata": {},
   "outputs": [
    {
     "data": {
      "text/html": [
       "<table border=\"1\" class=\"dataframe\">\n",
       "    <thead>\n",
       "        <tr>\n",
       "            <th>projection</th>\n",
       "        </tr>\n",
       "    </thead>\n",
       "    <tbody>\n",
       "        <tr>\n",
       "            <td>90.75     </td>\n",
       "        </tr>\n",
       "        <tr>\n",
       "            <td>82        </td>\n",
       "        </tr>\n",
       "        <tr>\n",
       "            <td>82.5      </td>\n",
       "        </tr>\n",
       "        <tr>\n",
       "            <td>82.5      </td>\n",
       "        </tr>\n",
       "        <tr>\n",
       "            <td>83        </td>\n",
       "        </tr>\n",
       "        <tr>\n",
       "            <td>82.5      </td>\n",
       "        </tr>\n",
       "    </tbody>\n",
       "</table>"
      ],
      "text/plain": [
       "projection\n",
       "90.75\n",
       "82\n",
       "82.5\n",
       "82.5\n",
       "83\n",
       "82.5"
      ]
     },
     "execution_count": 361,
     "metadata": {},
     "output_type": "execute_result"
    }
   ],
   "source": [
    "choose_one_column = y.select('projection')\n",
    "choose_one_column\n",
    "#Notice that the result is a table, unlike the result of column, which is an array."
   ]
  },
  {
   "cell_type": "code",
   "execution_count": 362,
   "metadata": {},
   "outputs": [
    {
     "data": {
      "text/plain": [
       "array([90.75, 82.  , 82.5 , 82.5 , 83.  , 82.5 ])"
      ]
     },
     "execution_count": 362,
     "metadata": {},
     "output_type": "execute_result"
    }
   ],
   "source": [
    "column_choose = y.column('projection')\n",
    "column_choose\n",
    "#notice the result is an array unlike for select - which was a table"
   ]
  },
  {
   "cell_type": "code",
   "execution_count": 363,
   "metadata": {},
   "outputs": [
    {
     "data": {
      "text/html": [
       "<table border=\"1\" class=\"dataframe\">\n",
       "    <thead>\n",
       "        <tr>\n",
       "            <th>price</th> <th>NewColumn</th>\n",
       "        </tr>\n",
       "    </thead>\n",
       "    <tbody>\n",
       "        <tr>\n",
       "            <td>90.5 </td> <td>100.00%  </td>\n",
       "        </tr>\n",
       "        <tr>\n",
       "            <td>90   </td> <td>90.36%   </td>\n",
       "        </tr>\n",
       "        <tr>\n",
       "            <td>83   </td> <td>90.91%   </td>\n",
       "        </tr>\n",
       "        <tr>\n",
       "            <td>95.5 </td> <td>90.91%   </td>\n",
       "        </tr>\n",
       "        <tr>\n",
       "            <td>82   </td> <td>91.46%   </td>\n",
       "        </tr>\n",
       "        <tr>\n",
       "            <td>82   </td> <td>90.91%   </td>\n",
       "        </tr>\n",
       "    </tbody>\n",
       "</table>"
      ],
      "text/plain": [
       "price | NewColumn\n",
       "90.5  | 100.00%\n",
       "90    | 90.36%\n",
       "83    | 90.91%\n",
       "95.5  | 90.91%\n",
       "82    | 91.46%\n",
       "82    | 90.91%"
      ]
     },
     "execution_count": 363,
     "metadata": {},
     "output_type": "execute_result"
    }
   ],
   "source": [
    "new_y = y.select('price','NewColumn')\n",
    "new_y"
   ]
  },
  {
   "cell_type": "markdown",
   "metadata": {},
   "source": [
    "The same selection can be made using column indices instead of labels."
   ]
  },
  {
   "cell_type": "code",
   "execution_count": 364,
   "metadata": {},
   "outputs": [
    {
     "data": {
      "text/html": [
       "<table border=\"1\" class=\"dataframe\">\n",
       "    <thead>\n",
       "        <tr>\n",
       "            <th>price</th> <th>NewColumn</th>\n",
       "        </tr>\n",
       "    </thead>\n",
       "    <tbody>\n",
       "        <tr>\n",
       "            <td>90.5 </td> <td>100.00%  </td>\n",
       "        </tr>\n",
       "        <tr>\n",
       "            <td>90   </td> <td>90.36%   </td>\n",
       "        </tr>\n",
       "        <tr>\n",
       "            <td>83   </td> <td>90.91%   </td>\n",
       "        </tr>\n",
       "        <tr>\n",
       "            <td>95.5 </td> <td>90.91%   </td>\n",
       "        </tr>\n",
       "        <tr>\n",
       "            <td>82   </td> <td>91.46%   </td>\n",
       "        </tr>\n",
       "        <tr>\n",
       "            <td>82   </td> <td>90.91%   </td>\n",
       "        </tr>\n",
       "    </tbody>\n",
       "</table>"
      ],
      "text/plain": [
       "price | NewColumn\n",
       "90.5  | 100.00%\n",
       "90    | 90.36%\n",
       "83    | 90.91%\n",
       "95.5  | 90.91%\n",
       "82    | 91.46%\n",
       "82    | 90.91%"
      ]
     },
     "execution_count": 364,
     "metadata": {},
     "output_type": "execute_result"
    }
   ],
   "source": [
    "new_y1 = y.select(1,3)\n",
    "new_y1"
   ]
  },
  {
   "cell_type": "markdown",
   "metadata": {},
   "source": [
    "enough of addition. \n",
    "Lets drop columns"
   ]
  },
  {
   "cell_type": "code",
   "execution_count": 365,
   "metadata": {},
   "outputs": [
    {
     "data": {
      "text/html": [
       "<table border=\"1\" class=\"dataframe\">\n",
       "    <thead>\n",
       "        <tr>\n",
       "            <th>days</th> <th>price</th> <th>projection</th> <th>NewColumn</th>\n",
       "        </tr>\n",
       "    </thead>\n",
       "    <tbody>\n",
       "        <tr>\n",
       "            <td>0   </td> <td>90.5 </td> <td>90.75     </td> <td>100.00%  </td>\n",
       "        </tr>\n",
       "        <tr>\n",
       "            <td>1   </td> <td>90   </td> <td>82        </td> <td>90.36%   </td>\n",
       "        </tr>\n",
       "        <tr>\n",
       "            <td>2   </td> <td>83   </td> <td>82.5      </td> <td>90.91%   </td>\n",
       "        </tr>\n",
       "        <tr>\n",
       "            <td>3   </td> <td>95.5 </td> <td>82.5      </td> <td>90.91%   </td>\n",
       "        </tr>\n",
       "        <tr>\n",
       "            <td>4   </td> <td>82   </td> <td>83        </td> <td>91.46%   </td>\n",
       "        </tr>\n",
       "        <tr>\n",
       "            <td>5   </td> <td>82   </td> <td>82.5      </td> <td>90.91%   </td>\n",
       "        </tr>\n",
       "    </tbody>\n",
       "</table>"
      ],
      "text/plain": [
       "days | price | projection | NewColumn\n",
       "0    | 90.5  | 90.75      | 100.00%\n",
       "1    | 90    | 82         | 90.36%\n",
       "2    | 83    | 82.5       | 90.91%\n",
       "3    | 95.5  | 82.5       | 90.91%\n",
       "4    | 82    | 83         | 91.46%\n",
       "5    | 82    | 82.5       | 90.91%"
      ]
     },
     "execution_count": 365,
     "metadata": {},
     "output_type": "execute_result"
    }
   ],
   "source": [
    "y"
   ]
  },
  {
   "cell_type": "code",
   "execution_count": 366,
   "metadata": {},
   "outputs": [
    {
     "data": {
      "text/html": [
       "<table border=\"1\" class=\"dataframe\">\n",
       "    <thead>\n",
       "        <tr>\n",
       "            <th>price</th> <th>projection</th> <th>NewColumn</th>\n",
       "        </tr>\n",
       "    </thead>\n",
       "    <tbody>\n",
       "        <tr>\n",
       "            <td>90.5 </td> <td>90.75     </td> <td>100.00%  </td>\n",
       "        </tr>\n",
       "        <tr>\n",
       "            <td>90   </td> <td>82        </td> <td>90.36%   </td>\n",
       "        </tr>\n",
       "        <tr>\n",
       "            <td>83   </td> <td>82.5      </td> <td>90.91%   </td>\n",
       "        </tr>\n",
       "        <tr>\n",
       "            <td>95.5 </td> <td>82.5      </td> <td>90.91%   </td>\n",
       "        </tr>\n",
       "        <tr>\n",
       "            <td>82   </td> <td>83        </td> <td>91.46%   </td>\n",
       "        </tr>\n",
       "        <tr>\n",
       "            <td>82   </td> <td>82.5      </td> <td>90.91%   </td>\n",
       "        </tr>\n",
       "    </tbody>\n",
       "</table>"
      ],
      "text/plain": [
       "price | projection | NewColumn\n",
       "90.5  | 90.75      | 100.00%\n",
       "90    | 82         | 90.36%\n",
       "83    | 82.5       | 90.91%\n",
       "95.5  | 82.5       | 90.91%\n",
       "82    | 83         | 91.46%\n",
       "82    | 82.5       | 90.91%"
      ]
     },
     "execution_count": 366,
     "metadata": {},
     "output_type": "execute_result"
    }
   ],
   "source": [
    "y.drop('days')"
   ]
  },
  {
   "cell_type": "code",
   "execution_count": 367,
   "metadata": {},
   "outputs": [
    {
     "data": {
      "text/html": [
       "<table border=\"1\" class=\"dataframe\">\n",
       "    <thead>\n",
       "        <tr>\n",
       "            <th>days</th> <th>price</th> <th>projection</th> <th>NewColumn</th>\n",
       "        </tr>\n",
       "    </thead>\n",
       "    <tbody>\n",
       "        <tr>\n",
       "            <td>0   </td> <td>90.5 </td> <td>90.75     </td> <td>100.00%  </td>\n",
       "        </tr>\n",
       "        <tr>\n",
       "            <td>1   </td> <td>90   </td> <td>82        </td> <td>90.36%   </td>\n",
       "        </tr>\n",
       "        <tr>\n",
       "            <td>2   </td> <td>83   </td> <td>82.5      </td> <td>90.91%   </td>\n",
       "        </tr>\n",
       "        <tr>\n",
       "            <td>3   </td> <td>95.5 </td> <td>82.5      </td> <td>90.91%   </td>\n",
       "        </tr>\n",
       "        <tr>\n",
       "            <td>4   </td> <td>82   </td> <td>83        </td> <td>91.46%   </td>\n",
       "        </tr>\n",
       "        <tr>\n",
       "            <td>5   </td> <td>82   </td> <td>82.5      </td> <td>90.91%   </td>\n",
       "        </tr>\n",
       "    </tbody>\n",
       "</table>"
      ],
      "text/plain": [
       "days | price | projection | NewColumn\n",
       "0    | 90.5  | 90.75      | 100.00%\n",
       "1    | 90    | 82         | 90.36%\n",
       "2    | 83    | 82.5       | 90.91%\n",
       "3    | 95.5  | 82.5       | 90.91%\n",
       "4    | 82    | 83         | 91.46%\n",
       "5    | 82    | 82.5       | 90.91%"
      ]
     },
     "execution_count": 367,
     "metadata": {},
     "output_type": "execute_result"
    }
   ],
   "source": [
    "y\n",
    "#notice y is not changed it still has the days columns"
   ]
  },
  {
   "cell_type": "code",
   "execution_count": 368,
   "metadata": {},
   "outputs": [
    {
     "data": {
      "text/html": [
       "<table border=\"1\" class=\"dataframe\">\n",
       "    <thead>\n",
       "        <tr>\n",
       "            <th>price</th> <th>projection</th> <th>NewColumn</th>\n",
       "        </tr>\n",
       "    </thead>\n",
       "    <tbody>\n",
       "        <tr>\n",
       "            <td>90.5 </td> <td>90.75     </td> <td>100.00%  </td>\n",
       "        </tr>\n",
       "        <tr>\n",
       "            <td>90   </td> <td>82        </td> <td>90.36%   </td>\n",
       "        </tr>\n",
       "        <tr>\n",
       "            <td>83   </td> <td>82.5      </td> <td>90.91%   </td>\n",
       "        </tr>\n",
       "        <tr>\n",
       "            <td>95.5 </td> <td>82.5      </td> <td>90.91%   </td>\n",
       "        </tr>\n",
       "        <tr>\n",
       "            <td>82   </td> <td>83        </td> <td>91.46%   </td>\n",
       "        </tr>\n",
       "        <tr>\n",
       "            <td>82   </td> <td>82.5      </td> <td>90.91%   </td>\n",
       "        </tr>\n",
       "    </tbody>\n",
       "</table>"
      ],
      "text/plain": [
       "price | projection | NewColumn\n",
       "90.5  | 90.75      | 100.00%\n",
       "90    | 82         | 90.36%\n",
       "83    | 82.5       | 90.91%\n",
       "95.5  | 82.5       | 90.91%\n",
       "82    | 83         | 91.46%\n",
       "82    | 82.5       | 90.91%"
      ]
     },
     "execution_count": 368,
     "metadata": {},
     "output_type": "execute_result"
    }
   ],
   "source": [
    "y_new = y.drop('days')\n",
    "y_new\n"
   ]
  },
  {
   "cell_type": "code",
   "execution_count": 369,
   "metadata": {},
   "outputs": [
    {
     "data": {
      "text/html": [
       "<table border=\"1\" class=\"dataframe\">\n",
       "    <thead>\n",
       "        <tr>\n",
       "            <th>days</th> <th>price</th> <th>projection</th> <th>NewColumn</th>\n",
       "        </tr>\n",
       "    </thead>\n",
       "    <tbody>\n",
       "        <tr>\n",
       "            <td>0   </td> <td>90.5 </td> <td>90.75     </td> <td>100.00%  </td>\n",
       "        </tr>\n",
       "        <tr>\n",
       "            <td>1   </td> <td>90   </td> <td>82        </td> <td>90.36%   </td>\n",
       "        </tr>\n",
       "        <tr>\n",
       "            <td>2   </td> <td>83   </td> <td>82.5      </td> <td>90.91%   </td>\n",
       "        </tr>\n",
       "        <tr>\n",
       "            <td>3   </td> <td>95.5 </td> <td>82.5      </td> <td>90.91%   </td>\n",
       "        </tr>\n",
       "        <tr>\n",
       "            <td>4   </td> <td>82   </td> <td>83        </td> <td>91.46%   </td>\n",
       "        </tr>\n",
       "        <tr>\n",
       "            <td>5   </td> <td>82   </td> <td>82.5      </td> <td>90.91%   </td>\n",
       "        </tr>\n",
       "    </tbody>\n",
       "</table>"
      ],
      "text/plain": [
       "days | price | projection | NewColumn\n",
       "0    | 90.5  | 90.75      | 100.00%\n",
       "1    | 90    | 82         | 90.36%\n",
       "2    | 83    | 82.5       | 90.91%\n",
       "3    | 95.5  | 82.5       | 90.91%\n",
       "4    | 82    | 83         | 91.46%\n",
       "5    | 82    | 82.5       | 90.91%"
      ]
     },
     "execution_count": 369,
     "metadata": {},
     "output_type": "execute_result"
    }
   ],
   "source": [
    "y"
   ]
  },
  {
   "cell_type": "markdown",
   "metadata": {},
   "source": [
    "Neither select nor drop change the original table. Instead, they create new smaller tables that share the same data. The fact that the original table is preserved is useful! You can generate multiple different tables that only consider certain columns without worrying that one analysis will affect the other."
   ]
  },
  {
   "cell_type": "code",
   "execution_count": 370,
   "metadata": {},
   "outputs": [
    {
     "data": {
      "text/plain": [
       "array(1)"
      ]
     },
     "execution_count": 370,
     "metadata": {},
     "output_type": "execute_result"
    }
   ],
   "source": [
    "np.char.count('Jimiie', 'Jim')"
   ]
  },
  {
   "cell_type": "markdown",
   "metadata": {},
   "source": [
    "LETS PLOT"
   ]
  },
  {
   "cell_type": "code",
   "execution_count": 371,
   "metadata": {},
   "outputs": [
    {
     "data": {
      "image/png": "[encoded data removed]",
      "text/plain": [
       "<Figure size 432x288 with 1 Axes>"
      ]
     },
     "metadata": {},
     "output_type": "display_data"
    }
   ],
   "source": [
    "y.plot('days') \n",
    "#line graph with days as x-axis and lines for price and projection>"
   ]
  },
  {
   "cell_type": "code",
   "execution_count": 372,
   "metadata": {},
   "outputs": [
    {
     "data": {
      "image/png": "[encoded data removed]",
      "text/plain": [
       "<Figure size 432x864 with 3 Axes>"
      ]
     },
     "metadata": {},
     "output_type": "display_data"
    }
   ],
   "source": [
    "y.plot('days', overlay=False)\n",
    "#two separate graphs for other "
   ]
  },
  {
   "cell_type": "code",
   "execution_count": 373,
   "metadata": {},
   "outputs": [
    {
     "data": {
      "image/png": "[encoded data removed]",
      "text/plain": [
       "<Figure size 432x288 with 1 Axes>"
      ]
     },
     "metadata": {},
     "output_type": "display_data"
    }
   ],
   "source": [
    "y.plot('price') \n",
    "#line graph with price as x-axis and lines for days and projection>"
   ]
  },
  {
   "cell_type": "code",
   "execution_count": 374,
   "metadata": {},
   "outputs": [
    {
     "data": {
      "image/png": "[encoded data removed]",
      "text/plain": [
       "<Figure size 432x288 with 1 Axes>"
      ]
     },
     "metadata": {},
     "output_type": "display_data"
    }
   ],
   "source": [
    "y.plot('days', 'price')"
   ]
  },
  {
   "cell_type": "code",
   "execution_count": 375,
   "metadata": {},
   "outputs": [
    {
     "data": {
      "image/png": "[encoded data removed]",
      "text/plain": [
       "<Figure size 432x288 with 1 Axes>"
      ]
     },
     "metadata": {},
     "output_type": "display_data"
    }
   ],
   "source": [
    "y.barh('days', make_array(1, 2))"
   ]
  },
  {
   "cell_type": "code",
   "execution_count": 376,
   "metadata": {},
   "outputs": [
    {
     "data": {
      "image/png": "[encoded data removed]",
      "text/plain": [
       "<Figure size 432x288 with 1 Axes>"
      ]
     },
     "metadata": {},
     "output_type": "display_data"
    }
   ],
   "source": [
    "y.hist()"
   ]
  },
  {
   "cell_type": "code",
   "execution_count": 377,
   "metadata": {},
   "outputs": [
    {
     "data": {
      "image/png": "[encoded data removed]",
      "text/plain": [
       "<Figure size 360x360 with 1 Axes>"
      ]
     },
     "metadata": {},
     "output_type": "display_data"
    }
   ],
   "source": [
    "y.scatter('price')"
   ]
  },
  {
   "cell_type": "code",
   "execution_count": 378,
   "metadata": {},
   "outputs": [
    {
     "data": {
      "image/png": "[encoded data removed]",
      "text/plain": [
       "<Figure size 360x360 with 1 Axes>"
      ]
     },
     "metadata": {},
     "output_type": "display_data"
    }
   ],
   "source": [
    "y.scatter('days', fit_line=True)"
   ]
  },
  {
   "cell_type": "code",
   "execution_count": 379,
   "metadata": {},
   "outputs": [
    {
     "data": {
      "image/png": "[encoded data removed]",
      "text/plain": [
       "<Figure size 360x360 with 1 Axes>"
      ]
     },
     "metadata": {},
     "output_type": "display_data"
    }
   ],
   "source": [
    "y.scatter('price','projection', fit_line=True, color =\"pink\")"
   ]
  },
  {
   "cell_type": "code",
   "execution_count": 380,
   "metadata": {},
   "outputs": [
    {
     "data": {
      "image/png": "[encoded data removed]",
      "text/plain": [
       "<Figure size 360x1080 with 3 Axes>"
      ]
     },
     "metadata": {},
     "output_type": "display_data"
    }
   ],
   "source": [
    "y.scatter('price', overlay=False)"
   ]
  },
  {
   "cell_type": "code",
   "execution_count": 381,
   "metadata": {},
   "outputs": [
    {
     "data": {
      "text/html": [
       "<table border=\"1\" class=\"dataframe\">\n",
       "    <thead>\n",
       "        <tr>\n",
       "            <th>test1</th> <th>test2</th>\n",
       "        </tr>\n",
       "    </thead>\n",
       "    <tbody>\n",
       "        <tr>\n",
       "            <td>92.5 </td> <td>89   </td>\n",
       "        </tr>\n",
       "        <tr>\n",
       "            <td>88   </td> <td>84   </td>\n",
       "        </tr>\n",
       "        <tr>\n",
       "            <td>72   </td> <td>74   </td>\n",
       "        </tr>\n",
       "        <tr>\n",
       "            <td>71   </td> <td>66   </td>\n",
       "        </tr>\n",
       "        <tr>\n",
       "            <td>99   </td> <td>92   </td>\n",
       "        </tr>\n",
       "        <tr>\n",
       "            <td>100  </td> <td>99   </td>\n",
       "        </tr>\n",
       "        <tr>\n",
       "            <td>95   </td> <td>88   </td>\n",
       "        </tr>\n",
       "        <tr>\n",
       "            <td>83   </td> <td>81   </td>\n",
       "        </tr>\n",
       "        <tr>\n",
       "            <td>94   </td> <td>95   </td>\n",
       "        </tr>\n",
       "        <tr>\n",
       "            <td>93   </td> <td>94   </td>\n",
       "        </tr>\n",
       "    </tbody>\n",
       "</table>"
      ],
      "text/plain": [
       "test1 | test2\n",
       "92.5  | 89\n",
       "88    | 84\n",
       "72    | 74\n",
       "71    | 66\n",
       "99    | 92\n",
       "100   | 99\n",
       "95    | 88\n",
       "83    | 81\n",
       "94    | 95\n",
       "93    | 94"
      ]
     },
     "execution_count": 381,
     "metadata": {},
     "output_type": "execute_result"
    }
   ],
   "source": [
    "box_table = Table().with_columns(\n",
    "'test1', make_array(92.5, 88, 72, 71, 99, 100, 95, 83, 94, 93),\n",
    "'test2', make_array(89, 84, 74, 66, 92, 99, 88, 81, 95, 94))\n",
    "box_table"
   ]
  },
  {
   "cell_type": "code",
   "execution_count": 382,
   "metadata": {},
   "outputs": [
    {
     "data": {
      "image/png": "[encoded data removed]",
      "text/plain": [
       "<Figure size 432x288 with 1 Axes>"
      ]
     },
     "metadata": {},
     "output_type": "display_data"
    }
   ],
   "source": [
    "box_table.boxplot()"
   ]
  },
  {
   "cell_type": "code",
   "execution_count": 383,
   "metadata": {},
   "outputs": [
    {
     "data": {
      "image/png": "[encoded data removed]",
      "text/plain": [
       "<Figure size 432x288 with 1 Axes>"
      ]
     },
     "metadata": {},
     "output_type": "display_data"
    }
   ],
   "source": [
    "box_table.hist()"
   ]
  },
  {
   "cell_type": "code",
   "execution_count": 384,
   "metadata": {},
   "outputs": [
    {
     "data": {
      "image/png": "[encoded data removed]",
      "text/plain": [
       "<Figure size 432x288 with 1 Axes>"
      ]
     },
     "metadata": {},
     "output_type": "display_data"
    }
   ],
   "source": [
    "box_table.plot()"
   ]
  },
  {
   "cell_type": "code",
   "execution_count": 385,
   "metadata": {},
   "outputs": [
    {
     "data": {
      "image/png": "[encoded data removed]",
      "text/plain": [
       "<Figure size 432x288 with 1 Axes>"
      ]
     },
     "metadata": {},
     "output_type": "display_data"
    }
   ],
   "source": [
    "box_table.plot('test1')"
   ]
  },
  {
   "cell_type": "code",
   "execution_count": 386,
   "metadata": {},
   "outputs": [
    {
     "data": {
      "text/plain": [
       "<Figure size 432x432 with 0 Axes>"
      ]
     },
     "execution_count": 386,
     "metadata": {},
     "output_type": "execute_result"
    },
    {
     "data": {
      "text/plain": [
       "<Figure size 432x432 with 0 Axes>"
      ]
     },
     "metadata": {},
     "output_type": "display_data"
    }
   ],
   "source": [
    "#https://python4astronomers.github.io/plotting/advanced.html\n",
    "plots.figure(figsize=(6, 6))\n",
    "#The first thing to consider when making a publication-quality plot \n",
    "#is what the final desired size of the plot will be. The figure size can be specified via figsize argument\n",
    "#figsize argument takes a tuple of two values, the width and height of the figure in inches\n",
    "\n"
   ]
  },
  {
   "cell_type": "code",
   "execution_count": 387,
   "metadata": {},
   "outputs": [
    {
     "name": "stdout",
     "output_type": "stream",
     "text": [
      "flavor     | color | price\n",
      "strawberry | red   | 3.5\n",
      "chocolate  | blue  | 3.55\n",
      "bubblegum  | pink  | 10\n",
      "chocolate  | brown | 6\n"
     ]
    }
   ],
   "source": [
    "cones = Table().with_columns([\n",
    "        'flavor',['strawberry','chocolate','bubblegum','chocolate'],\n",
    "        'color',['red','blue','pink','brown'],\n",
    "        'price', [3.5,3.55,10,6]\n",
    "    ])\n",
    "print(cones)"
   ]
  },
  {
   "cell_type": "code",
   "execution_count": 388,
   "metadata": {},
   "outputs": [
    {
     "data": {
      "text/html": [
       "<table border=\"1\" class=\"dataframe\">\n",
       "    <thead>\n",
       "        <tr>\n",
       "            <th>flavor</th>\n",
       "        </tr>\n",
       "    </thead>\n",
       "    <tbody>\n",
       "        <tr>\n",
       "            <td>strawberry</td>\n",
       "        </tr>\n",
       "        <tr>\n",
       "            <td>chocolate </td>\n",
       "        </tr>\n",
       "        <tr>\n",
       "            <td>bubblegum </td>\n",
       "        </tr>\n",
       "        <tr>\n",
       "            <td>chocolate </td>\n",
       "        </tr>\n",
       "    </tbody>\n",
       "</table>"
      ],
      "text/plain": [
       "flavor\n",
       "strawberry\n",
       "chocolate\n",
       "bubblegum\n",
       "chocolate"
      ]
     },
     "execution_count": 388,
     "metadata": {},
     "output_type": "execute_result"
    }
   ],
   "source": [
    "cones.select('flavor')\n",
    "#to seleect a column"
   ]
  },
  {
   "cell_type": "code",
   "execution_count": 389,
   "metadata": {},
   "outputs": [
    {
     "data": {
      "text/html": [
       "<table border=\"1\" class=\"dataframe\">\n",
       "    <thead>\n",
       "        <tr>\n",
       "            <th>flavor</th> <th>price</th>\n",
       "        </tr>\n",
       "    </thead>\n",
       "    <tbody>\n",
       "        <tr>\n",
       "            <td>strawberry</td> <td>3.5  </td>\n",
       "        </tr>\n",
       "        <tr>\n",
       "            <td>chocolate </td> <td>3.55 </td>\n",
       "        </tr>\n",
       "        <tr>\n",
       "            <td>bubblegum </td> <td>10   </td>\n",
       "        </tr>\n",
       "        <tr>\n",
       "            <td>chocolate </td> <td>6    </td>\n",
       "        </tr>\n",
       "    </tbody>\n",
       "</table>"
      ],
      "text/plain": [
       "flavor     | price\n",
       "strawberry | 3.5\n",
       "chocolate  | 3.55\n",
       "bubblegum  | 10\n",
       "chocolate  | 6"
      ]
     },
     "execution_count": 389,
     "metadata": {},
     "output_type": "execute_result"
    }
   ],
   "source": [
    "#selct two columns\n",
    "cones.select('flavor', 'price')"
   ]
  },
  {
   "cell_type": "code",
   "execution_count": 390,
   "metadata": {},
   "outputs": [
    {
     "data": {
      "text/html": [
       "<table border=\"1\" class=\"dataframe\">\n",
       "    <thead>\n",
       "        <tr>\n",
       "            <th>flavor</th> <th>price</th>\n",
       "        </tr>\n",
       "    </thead>\n",
       "    <tbody>\n",
       "        <tr>\n",
       "            <td>strawberry</td> <td>3.5  </td>\n",
       "        </tr>\n",
       "        <tr>\n",
       "            <td>chocolate </td> <td>3.55 </td>\n",
       "        </tr>\n",
       "        <tr>\n",
       "            <td>bubblegum </td> <td>10   </td>\n",
       "        </tr>\n",
       "        <tr>\n",
       "            <td>chocolate </td> <td>6    </td>\n",
       "        </tr>\n",
       "    </tbody>\n",
       "</table>"
      ],
      "text/plain": [
       "flavor     | price\n",
       "strawberry | 3.5\n",
       "chocolate  | 3.55\n",
       "bubblegum  | 10\n",
       "chocolate  | 6"
      ]
     },
     "execution_count": 390,
     "metadata": {},
     "output_type": "execute_result"
    }
   ],
   "source": [
    "cones.drop('color')"
   ]
  },
  {
   "cell_type": "code",
   "execution_count": 391,
   "metadata": {},
   "outputs": [
    {
     "data": {
      "text/html": [
       "<table border=\"1\" class=\"dataframe\">\n",
       "    <thead>\n",
       "        <tr>\n",
       "            <th>flavor</th> <th>color</th> <th>price</th>\n",
       "        </tr>\n",
       "    </thead>\n",
       "    <tbody>\n",
       "        <tr>\n",
       "            <td>strawberry</td> <td>red  </td> <td>3.5  </td>\n",
       "        </tr>\n",
       "        <tr>\n",
       "            <td>chocolate </td> <td>blue </td> <td>3.55 </td>\n",
       "        </tr>\n",
       "        <tr>\n",
       "            <td>bubblegum </td> <td>pink </td> <td>10   </td>\n",
       "        </tr>\n",
       "        <tr>\n",
       "            <td>chocolate </td> <td>brown</td> <td>6    </td>\n",
       "        </tr>\n",
       "    </tbody>\n",
       "</table>"
      ],
      "text/plain": [
       "flavor     | color | price\n",
       "strawberry | red   | 3.5\n",
       "chocolate  | blue  | 3.55\n",
       "bubblegum  | pink  | 10\n",
       "chocolate  | brown | 6"
      ]
     },
     "execution_count": 391,
     "metadata": {},
     "output_type": "execute_result"
    }
   ],
   "source": [
    "cones\n",
    "#dropping didnot change cones original table"
   ]
  },
  {
   "cell_type": "code",
   "execution_count": 392,
   "metadata": {},
   "outputs": [
    {
     "data": {
      "text/html": [
       "<table border=\"1\" class=\"dataframe\">\n",
       "    <thead>\n",
       "        <tr>\n",
       "            <th>flavor</th> <th>price</th>\n",
       "        </tr>\n",
       "    </thead>\n",
       "    <tbody>\n",
       "        <tr>\n",
       "            <td>strawberry</td> <td>3.5  </td>\n",
       "        </tr>\n",
       "        <tr>\n",
       "            <td>chocolate </td> <td>3.55 </td>\n",
       "        </tr>\n",
       "        <tr>\n",
       "            <td>bubblegum </td> <td>10   </td>\n",
       "        </tr>\n",
       "        <tr>\n",
       "            <td>chocolate </td> <td>6    </td>\n",
       "        </tr>\n",
       "    </tbody>\n",
       "</table>"
      ],
      "text/plain": [
       "flavor     | price\n",
       "strawberry | 3.5\n",
       "chocolate  | 3.55\n",
       "bubblegum  | 10\n",
       "chocolate  | 6"
      ]
     },
     "execution_count": 392,
     "metadata": {},
     "output_type": "execute_result"
    }
   ],
   "source": [
    "no_colors = cones.drop('color')\n",
    "\n",
    "no_colors"
   ]
  },
  {
   "cell_type": "code",
   "execution_count": 393,
   "metadata": {},
   "outputs": [
    {
     "data": {
      "text/html": [
       "<table border=\"1\" class=\"dataframe\">\n",
       "    <thead>\n",
       "        <tr>\n",
       "            <th>flavor</th> <th>color</th> <th>price</th>\n",
       "        </tr>\n",
       "    </thead>\n",
       "    <tbody>\n",
       "        <tr>\n",
       "            <td>strawberry</td> <td>red  </td> <td>3.5  </td>\n",
       "        </tr>\n",
       "        <tr>\n",
       "            <td>chocolate </td> <td>blue </td> <td>3.55 </td>\n",
       "        </tr>\n",
       "        <tr>\n",
       "            <td>chocolate </td> <td>brown</td> <td>6    </td>\n",
       "        </tr>\n",
       "        <tr>\n",
       "            <td>bubblegum </td> <td>pink </td> <td>10   </td>\n",
       "        </tr>\n",
       "    </tbody>\n",
       "</table>"
      ],
      "text/plain": [
       "flavor     | color | price\n",
       "strawberry | red   | 3.5\n",
       "chocolate  | blue  | 3.55\n",
       "chocolate  | brown | 6\n",
       "bubblegum  | pink  | 10"
      ]
     },
     "execution_count": 393,
     "metadata": {},
     "output_type": "execute_result"
    }
   ],
   "source": [
    "cones.sort('price')\n",
    "#The sort method creates a new table by arranging the rows of the original table in ascending order of the values in the specified column. "
   ]
  },
  {
   "cell_type": "code",
   "execution_count": 394,
   "metadata": {},
   "outputs": [
    {
     "data": {
      "text/html": [
       "<table border=\"1\" class=\"dataframe\">\n",
       "    <thead>\n",
       "        <tr>\n",
       "            <th>flavor</th> <th>color</th> <th>price</th>\n",
       "        </tr>\n",
       "    </thead>\n",
       "    <tbody>\n",
       "        <tr>\n",
       "            <td>bubblegum </td> <td>pink </td> <td>10   </td>\n",
       "        </tr>\n",
       "        <tr>\n",
       "            <td>chocolate </td> <td>brown</td> <td>6    </td>\n",
       "        </tr>\n",
       "        <tr>\n",
       "            <td>chocolate </td> <td>blue </td> <td>3.55 </td>\n",
       "        </tr>\n",
       "        <tr>\n",
       "            <td>strawberry</td> <td>red  </td> <td>3.5  </td>\n",
       "        </tr>\n",
       "    </tbody>\n",
       "</table>"
      ],
      "text/plain": [
       "flavor     | color | price\n",
       "bubblegum  | pink  | 10\n",
       "chocolate  | brown | 6\n",
       "chocolate  | blue  | 3.55\n",
       "strawberry | red   | 3.5"
      ]
     },
     "execution_count": 394,
     "metadata": {},
     "output_type": "execute_result"
    }
   ],
   "source": [
    "cones.sort('price', descending=True)"
   ]
  },
  {
   "cell_type": "code",
   "execution_count": 395,
   "metadata": {},
   "outputs": [
    {
     "data": {
      "text/html": [
       "<table border=\"1\" class=\"dataframe\">\n",
       "    <thead>\n",
       "        <tr>\n",
       "            <th>flavor</th> <th>color</th> <th>price</th>\n",
       "        </tr>\n",
       "    </thead>\n",
       "    <tbody>\n",
       "        <tr>\n",
       "            <td>chocolate</td> <td>blue </td> <td>3.55 </td>\n",
       "        </tr>\n",
       "        <tr>\n",
       "            <td>chocolate</td> <td>brown</td> <td>6    </td>\n",
       "        </tr>\n",
       "    </tbody>\n",
       "</table>"
      ],
      "text/plain": [
       "flavor    | color | price\n",
       "chocolate | blue  | 3.55\n",
       "chocolate | brown | 6"
      ]
     },
     "execution_count": 395,
     "metadata": {},
     "output_type": "execute_result"
    }
   ],
   "source": [
    "#selcting rows that satisfy function\n",
    "cones.where('flavor', 'chocolate')"
   ]
  },
  {
   "cell_type": "code",
   "execution_count": 396,
   "metadata": {},
   "outputs": [
    {
     "data": {
      "text/html": [
       "<table border=\"1\" class=\"dataframe\">\n",
       "    <thead>\n",
       "        <tr>\n",
       "            <th>flavor</th> <th>color</th> <th>price</th>\n",
       "        </tr>\n",
       "    </thead>\n",
       "    <tbody>\n",
       "        <tr>\n",
       "            <td>chocolate</td> <td>blue </td> <td>3.55 </td>\n",
       "        </tr>\n",
       "        <tr>\n",
       "            <td>chocolate</td> <td>brown</td> <td>6    </td>\n",
       "        </tr>\n",
       "    </tbody>\n",
       "</table>"
      ],
      "text/plain": [
       "flavor    | color | price\n",
       "chocolate | blue  | 3.55\n",
       "chocolate | brown | 6"
      ]
     },
     "execution_count": 396,
     "metadata": {},
     "output_type": "execute_result"
    }
   ],
   "source": [
    "newcones = cones.where('flavor', 'chocolate')\n",
    "newcones\n",
    "#We can also create a new table called `newcones` consisting of just the data for the chocolate flavors"
   ]
  },
  {
   "cell_type": "code",
   "execution_count": 397,
   "metadata": {},
   "outputs": [
    {
     "data": {
      "text/html": [
       "<table border=\"1\" class=\"dataframe\">\n",
       "    <thead>\n",
       "        <tr>\n",
       "            <th>flavor</th> <th>color</th> <th>price</th>\n",
       "        </tr>\n",
       "    </thead>\n",
       "    <tbody>\n",
       "        <tr>\n",
       "            <td>strawberry</td> <td>red  </td> <td>3.5  </td>\n",
       "        </tr>\n",
       "        <tr>\n",
       "            <td>chocolate </td> <td>blue </td> <td>3.55 </td>\n",
       "        </tr>\n",
       "        <tr>\n",
       "            <td>bubblegum </td> <td>pink </td> <td>10   </td>\n",
       "        </tr>\n",
       "        <tr>\n",
       "            <td>chocolate </td> <td>brown</td> <td>6    </td>\n",
       "        </tr>\n",
       "    </tbody>\n",
       "</table>"
      ],
      "text/plain": [
       "flavor     | color | price\n",
       "strawberry | red   | 3.5\n",
       "chocolate  | blue  | 3.55\n",
       "bubblegum  | pink  | 10\n",
       "chocolate  | brown | 6"
      ]
     },
     "execution_count": 397,
     "metadata": {},
     "output_type": "execute_result"
    }
   ],
   "source": [
    "cones"
   ]
  },
  {
   "cell_type": "code",
   "execution_count": 398,
   "metadata": {},
   "outputs": [
    {
     "data": {
      "text/plain": [
       "\"That's 2 True\""
      ]
     },
     "execution_count": 398,
     "metadata": {},
     "output_type": "execute_result"
    }
   ],
   "source": [
    "\n",
    "\"That's \" + str(1 + 1) + ' ' + str(True)"
   ]
  },
  {
   "cell_type": "code",
   "execution_count": 399,
   "metadata": {},
   "outputs": [
    {
     "data": {
      "text/plain": [
       "'LOUD'"
      ]
     },
     "execution_count": 399,
     "metadata": {},
     "output_type": "execute_result"
    }
   ],
   "source": [
    "\"loud\".upper()"
   ]
  },
  {
   "cell_type": "code",
   "execution_count": 400,
   "metadata": {},
   "outputs": [
    {
     "data": {
      "text/plain": [
       "'matchmaker'"
      ]
     },
     "execution_count": 400,
     "metadata": {},
     "output_type": "execute_result"
    }
   ],
   "source": [
    "'hitchhiker'.replace('hi', 'ma')\n",
    "#The replace method takes two arguments, the text to be replaced and its replacement."
   ]
  },
  {
   "cell_type": "code",
   "execution_count": 401,
   "metadata": {},
   "outputs": [
    {
     "name": "stdout",
     "output_type": "stream",
     "text": [
      "ingrain\n"
     ]
    },
    {
     "data": {
      "text/plain": [
       "'degrade'"
      ]
     },
     "execution_count": 401,
     "metadata": {},
     "output_type": "execute_result"
    }
   ],
   "source": [
    "s = \"train\"\n",
    "t = s.replace('t', 'ing')\n",
    "print(t)\n",
    "u = t.replace('in', 'de')\n",
    "u"
   ]
  },
  {
   "cell_type": "code",
   "execution_count": 402,
   "metadata": {},
   "outputs": [
    {
     "data": {
      "text/plain": [
       "'train'"
      ]
     },
     "execution_count": 402,
     "metadata": {},
     "output_type": "execute_result"
    }
   ],
   "source": [
    "s\n",
    "#replace does not chnage s"
   ]
  },
  {
   "cell_type": "code",
   "execution_count": 403,
   "metadata": {},
   "outputs": [
    {
     "data": {
      "text/plain": [
       "False"
      ]
     },
     "execution_count": 403,
     "metadata": {},
     "output_type": "execute_result"
    }
   ],
   "source": [
    "1 < 1 + 1 > 3\n"
   ]
  },
  {
   "cell_type": "code",
   "execution_count": 404,
   "metadata": {},
   "outputs": [
    {
     "data": {
      "text/plain": [
       "True"
      ]
     },
     "execution_count": 404,
     "metadata": {},
     "output_type": "execute_result"
    }
   ],
   "source": [
    "1 < 1 + 1 < 3\n"
   ]
  },
  {
   "cell_type": "code",
   "execution_count": 405,
   "metadata": {},
   "outputs": [
    {
     "data": {
      "text/plain": [
       "True"
      ]
     },
     "execution_count": 405,
     "metadata": {},
     "output_type": "execute_result"
    }
   ],
   "source": [
    "#COMPARISONS\n",
    "x = 12\n",
    "y = 5\n",
    "min(x, y) <= (x+y)/2 <= max(x, y)"
   ]
  },
  {
   "cell_type": "code",
   "execution_count": 406,
   "metadata": {},
   "outputs": [
    {
     "data": {
      "text/plain": [
       "True"
      ]
     },
     "execution_count": 406,
     "metadata": {},
     "output_type": "execute_result"
    }
   ],
   "source": [
    "#Strings can also be compared, AND their order is alphabetical. \n",
    "#A shorter string is less than a longer string that begins with the shorter string.\n",
    "\"Dog\" > \"Catastrophe\" > \"Cat\""
   ]
  },
  {
   "cell_type": "code",
   "execution_count": 407,
   "metadata": {},
   "outputs": [],
   "source": [
    " marbles = Table().with_columns(\n",
    "\"Color\", make_array(\"Red\", \"Green\", \"Blue\", \"Red\", \"Green\", \"Green\"),\n",
    "\"Shape\", make_array(\"Round\", \"Rectangular\", \"Rectangular\", \"Round\", \"Rectangular\", \"Round\"),\n",
    " \"Amount\", make_array(4, 6, 12, 7, 9, 2),\n",
    "\"Price\", make_array(1.30, 1.30, 2.00, 1.75, 1.40, 1.00))"
   ]
  },
  {
   "cell_type": "code",
   "execution_count": 408,
   "metadata": {},
   "outputs": [
    {
     "data": {
      "text/html": [
       "<table border=\"1\" class=\"dataframe\">\n",
       "    <thead>\n",
       "        <tr>\n",
       "            <th>Color</th> <th>Shape</th> <th>Amount</th> <th>Price</th>\n",
       "        </tr>\n",
       "    </thead>\n",
       "    <tbody>\n",
       "        <tr>\n",
       "            <td>Red  </td> <td>Round      </td> <td>4     </td> <td>1.3  </td>\n",
       "        </tr>\n",
       "        <tr>\n",
       "            <td>Green</td> <td>Rectangular</td> <td>6     </td> <td>1.3  </td>\n",
       "        </tr>\n",
       "        <tr>\n",
       "            <td>Blue </td> <td>Rectangular</td> <td>12    </td> <td>2    </td>\n",
       "        </tr>\n",
       "        <tr>\n",
       "            <td>Red  </td> <td>Round      </td> <td>7     </td> <td>1.75 </td>\n",
       "        </tr>\n",
       "        <tr>\n",
       "            <td>Green</td> <td>Rectangular</td> <td>9     </td> <td>1.4  </td>\n",
       "        </tr>\n",
       "        <tr>\n",
       "            <td>Green</td> <td>Round      </td> <td>2     </td> <td>1    </td>\n",
       "        </tr>\n",
       "    </tbody>\n",
       "</table>"
      ],
      "text/plain": [
       "Color | Shape       | Amount | Price\n",
       "Red   | Round       | 4      | 1.3\n",
       "Green | Rectangular | 6      | 1.3\n",
       "Blue  | Rectangular | 12     | 2\n",
       "Red   | Round       | 7      | 1.75\n",
       "Green | Rectangular | 9      | 1.4\n",
       "Green | Round       | 2      | 1"
      ]
     },
     "execution_count": 408,
     "metadata": {},
     "output_type": "execute_result"
    }
   ],
   "source": [
    "marbles"
   ]
  },
  {
   "cell_type": "code",
   "execution_count": 409,
   "metadata": {},
   "outputs": [
    {
     "data": {
      "text/html": [
       "<table border=\"1\" class=\"dataframe\">\n",
       "    <thead>\n",
       "        <tr>\n",
       "            <th>Color</th> <th>Shape</th> <th>Amount</th> <th>Price</th>\n",
       "        </tr>\n",
       "    </thead>\n",
       "    <tbody>\n",
       "        <tr>\n",
       "            <td>Blue </td> <td>Rectangular</td> <td>12    </td> <td>2    </td>\n",
       "        </tr>\n",
       "        <tr>\n",
       "            <td>Green</td> <td>Rectangular</td> <td>6     </td> <td>1.3  </td>\n",
       "        </tr>\n",
       "        <tr>\n",
       "            <td>Green</td> <td>Rectangular</td> <td>9     </td> <td>1.4  </td>\n",
       "        </tr>\n",
       "        <tr>\n",
       "            <td>Green</td> <td>Round      </td> <td>2     </td> <td>1    </td>\n",
       "        </tr>\n",
       "        <tr>\n",
       "            <td>Red  </td> <td>Round      </td> <td>4     </td> <td>1.3  </td>\n",
       "        </tr>\n",
       "        <tr>\n",
       "            <td>Red  </td> <td>Round      </td> <td>7     </td> <td>1.75 </td>\n",
       "        </tr>\n",
       "    </tbody>\n",
       "</table>"
      ],
      "text/plain": [
       "Color | Shape       | Amount | Price\n",
       "Blue  | Rectangular | 12     | 2\n",
       "Green | Rectangular | 6      | 1.3\n",
       "Green | Rectangular | 9      | 1.4\n",
       "Green | Round       | 2      | 1\n",
       "Red   | Round       | 4      | 1.3\n",
       "Red   | Round       | 7      | 1.75"
      ]
     },
     "execution_count": 409,
     "metadata": {},
     "output_type": "execute_result"
    }
   ],
   "source": [
    "marbles.sort(\"Color\")\n",
    "#SORTED alaphabetically according to color"
   ]
  },
  {
   "cell_type": "code",
   "execution_count": 410,
   "metadata": {},
   "outputs": [
    {
     "data": {
      "text/html": [
       "<table border=\"1\" class=\"dataframe\">\n",
       "    <thead>\n",
       "        <tr>\n",
       "            <th>Color</th> <th>Shape</th> <th>Amount</th> <th>Price</th>\n",
       "        </tr>\n",
       "    </thead>\n",
       "    <tbody>\n",
       "        <tr>\n",
       "            <td>Green</td> <td>Round      </td> <td>2     </td> <td>1    </td>\n",
       "        </tr>\n",
       "        <tr>\n",
       "            <td>Red  </td> <td>Round      </td> <td>4     </td> <td>1.3  </td>\n",
       "        </tr>\n",
       "        <tr>\n",
       "            <td>Green</td> <td>Rectangular</td> <td>6     </td> <td>1.3  </td>\n",
       "        </tr>\n",
       "        <tr>\n",
       "            <td>Green</td> <td>Rectangular</td> <td>9     </td> <td>1.4  </td>\n",
       "        </tr>\n",
       "        <tr>\n",
       "            <td>Red  </td> <td>Round      </td> <td>7     </td> <td>1.75 </td>\n",
       "        </tr>\n",
       "        <tr>\n",
       "            <td>Blue </td> <td>Rectangular</td> <td>12    </td> <td>2    </td>\n",
       "        </tr>\n",
       "    </tbody>\n",
       "</table>"
      ],
      "text/plain": [
       "Color | Shape       | Amount | Price\n",
       "Green | Round       | 2      | 1\n",
       "Red   | Round       | 4      | 1.3\n",
       "Green | Rectangular | 6      | 1.3\n",
       "Green | Rectangular | 9      | 1.4\n",
       "Red   | Round       | 7      | 1.75\n",
       "Blue  | Rectangular | 12     | 2"
      ]
     },
     "execution_count": 410,
     "metadata": {},
     "output_type": "execute_result"
    }
   ],
   "source": [
    "marbles.sort(\"Price\")"
   ]
  },
  {
   "cell_type": "code",
   "execution_count": 411,
   "metadata": {},
   "outputs": [
    {
     "data": {
      "text/html": [
       "<table border=\"1\" class=\"dataframe\">\n",
       "    <thead>\n",
       "        <tr>\n",
       "            <th>Color</th> <th>Shape</th> <th>Amount</th> <th>Price</th>\n",
       "        </tr>\n",
       "    </thead>\n",
       "    <tbody>\n",
       "        <tr>\n",
       "            <td>Blue </td> <td>Rectangular</td> <td>12    </td> <td>2    </td>\n",
       "        </tr>\n",
       "        <tr>\n",
       "            <td>Red  </td> <td>Round      </td> <td>7     </td> <td>1.75 </td>\n",
       "        </tr>\n",
       "        <tr>\n",
       "            <td>Green</td> <td>Rectangular</td> <td>9     </td> <td>1.4  </td>\n",
       "        </tr>\n",
       "        <tr>\n",
       "            <td>Green</td> <td>Rectangular</td> <td>6     </td> <td>1.3  </td>\n",
       "        </tr>\n",
       "        <tr>\n",
       "            <td>Red  </td> <td>Round      </td> <td>4     </td> <td>1.3  </td>\n",
       "        </tr>\n",
       "        <tr>\n",
       "            <td>Green</td> <td>Round      </td> <td>2     </td> <td>1    </td>\n",
       "        </tr>\n",
       "    </tbody>\n",
       "</table>"
      ],
      "text/plain": [
       "Color | Shape       | Amount | Price\n",
       "Blue  | Rectangular | 12     | 2\n",
       "Red   | Round       | 7      | 1.75\n",
       "Green | Rectangular | 9      | 1.4\n",
       "Green | Rectangular | 6      | 1.3\n",
       "Red   | Round       | 4      | 1.3\n",
       "Green | Round       | 2      | 1"
      ]
     },
     "execution_count": 411,
     "metadata": {},
     "output_type": "execute_result"
    }
   ],
   "source": [
    "marbles.sort(\"Price\", descending = True)"
   ]
  },
  {
   "cell_type": "code",
   "execution_count": 412,
   "metadata": {},
   "outputs": [
    {
     "data": {
      "text/html": [
       "<table border=\"1\" class=\"dataframe\">\n",
       "    <thead>\n",
       "        <tr>\n",
       "            <th>Color</th> <th>Shape</th> <th>Amount</th> <th>Price</th>\n",
       "        </tr>\n",
       "    </thead>\n",
       "    <tbody>\n",
       "        <tr>\n",
       "            <td>Green</td> <td>Round      </td> <td>2     </td> <td>1    </td>\n",
       "        </tr>\n",
       "        <tr>\n",
       "            <td>Red  </td> <td>Round      </td> <td>4     </td> <td>1.3  </td>\n",
       "        </tr>\n",
       "        <tr>\n",
       "            <td>Green</td> <td>Rectangular</td> <td>6     </td> <td>1.3  </td>\n",
       "        </tr>\n",
       "        <tr>\n",
       "            <td>Red  </td> <td>Round      </td> <td>7     </td> <td>1.75 </td>\n",
       "        </tr>\n",
       "        <tr>\n",
       "            <td>Green</td> <td>Rectangular</td> <td>9     </td> <td>1.4  </td>\n",
       "        </tr>\n",
       "        <tr>\n",
       "            <td>Blue </td> <td>Rectangular</td> <td>12    </td> <td>2    </td>\n",
       "        </tr>\n",
       "    </tbody>\n",
       "</table>"
      ],
      "text/plain": [
       "Color | Shape       | Amount | Price\n",
       "Green | Round       | 2      | 1\n",
       "Red   | Round       | 4      | 1.3\n",
       "Green | Rectangular | 6      | 1.3\n",
       "Red   | Round       | 7      | 1.75\n",
       "Green | Rectangular | 9      | 1.4\n",
       "Blue  | Rectangular | 12     | 2"
      ]
     },
     "execution_count": 412,
     "metadata": {},
     "output_type": "execute_result"
    }
   ],
   "source": [
    "marbles.sort(2) \n",
    "#sorting as per column with index 2 i.e amount"
   ]
  },
  {
   "cell_type": "code",
   "execution_count": 413,
   "metadata": {},
   "outputs": [
    {
     "data": {
      "text/html": [
       "<table border=\"1\" class=\"dataframe\">\n",
       "    <thead>\n",
       "        <tr>\n",
       "            <th>Color</th> <th>Shape</th> <th>Amount</th> <th>Price</th>\n",
       "        </tr>\n",
       "    </thead>\n",
       "    <tbody>\n",
       "        <tr>\n",
       "            <td>Green</td> <td>Round      </td> <td>2     </td> <td>1    </td>\n",
       "        </tr>\n",
       "        <tr>\n",
       "            <td>Red  </td> <td>Round      </td> <td>4     </td> <td>1.3  </td>\n",
       "        </tr>\n",
       "        <tr>\n",
       "            <td>Green</td> <td>Rectangular</td> <td>6     </td> <td>1.3  </td>\n",
       "        </tr>\n",
       "        <tr>\n",
       "            <td>Green</td> <td>Rectangular</td> <td>9     </td> <td>1.4  </td>\n",
       "        </tr>\n",
       "        <tr>\n",
       "            <td>Red  </td> <td>Round      </td> <td>7     </td> <td>1.75 </td>\n",
       "        </tr>\n",
       "        <tr>\n",
       "            <td>Blue </td> <td>Rectangular</td> <td>12    </td> <td>2    </td>\n",
       "        </tr>\n",
       "    </tbody>\n",
       "</table>"
      ],
      "text/plain": [
       "Color | Shape       | Amount | Price\n",
       "Green | Round       | 2      | 1\n",
       "Red   | Round       | 4      | 1.3\n",
       "Green | Rectangular | 6      | 1.3\n",
       "Green | Rectangular | 9      | 1.4\n",
       "Red   | Round       | 7      | 1.75\n",
       "Blue  | Rectangular | 12     | 2"
      ]
     },
     "execution_count": 413,
     "metadata": {},
     "output_type": "execute_result"
    }
   ],
   "source": [
    "marbles.sort(3) # the Price column"
   ]
  },
  {
   "cell_type": "code",
   "execution_count": 414,
   "metadata": {},
   "outputs": [
    {
     "data": {
      "text/html": [
       "<table border=\"1\" class=\"dataframe\">\n",
       "    <thead>\n",
       "        <tr>\n",
       "            <th>Color</th> <th>Shape</th> <th>Amount</th> <th>Price</th>\n",
       "        </tr>\n",
       "    </thead>\n",
       "    <tbody>\n",
       "        <tr>\n",
       "            <td>Green</td> <td>Round      </td> <td>2     </td> <td>1    </td>\n",
       "        </tr>\n",
       "        <tr>\n",
       "            <td>Red  </td> <td>Round      </td> <td>4     </td> <td>1.3  </td>\n",
       "        </tr>\n",
       "        <tr>\n",
       "            <td>Green</td> <td>Rectangular</td> <td>9     </td> <td>1.4  </td>\n",
       "        </tr>\n",
       "        <tr>\n",
       "            <td>Red  </td> <td>Round      </td> <td>7     </td> <td>1.75 </td>\n",
       "        </tr>\n",
       "        <tr>\n",
       "            <td>Blue </td> <td>Rectangular</td> <td>12    </td> <td>2    </td>\n",
       "        </tr>\n",
       "    </tbody>\n",
       "</table>"
      ],
      "text/plain": [
       "Color | Shape       | Amount | Price\n",
       "Green | Round       | 2      | 1\n",
       "Red   | Round       | 4      | 1.3\n",
       "Green | Rectangular | 9      | 1.4\n",
       "Red   | Round       | 7      | 1.75\n",
       "Blue  | Rectangular | 12     | 2"
      ]
     },
     "execution_count": 414,
     "metadata": {},
     "output_type": "execute_result"
    }
   ],
   "source": [
    "marbles.sort(3, distinct = True)\n",
    "#removes duplicates"
   ]
  },
  {
   "cell_type": "markdown",
   "metadata": {},
   "source": [
    "Selecting Rows"
   ]
  },
  {
   "cell_type": "code",
   "execution_count": 415,
   "metadata": {},
   "outputs": [
    {
     "data": {
      "text/html": [
       "<table border=\"1\" class=\"dataframe\">\n",
       "    <thead>\n",
       "        <tr>\n",
       "            <th>Color</th> <th>Shape</th> <th>Amount</th> <th>Price</th>\n",
       "        </tr>\n",
       "    </thead>\n",
       "    <tbody>\n",
       "        <tr>\n",
       "            <td>Red  </td> <td>Round      </td> <td>4     </td> <td>1.3  </td>\n",
       "        </tr>\n",
       "        <tr>\n",
       "            <td>Green</td> <td>Rectangular</td> <td>6     </td> <td>1.3  </td>\n",
       "        </tr>\n",
       "        <tr>\n",
       "            <td>Blue </td> <td>Rectangular</td> <td>12    </td> <td>2    </td>\n",
       "        </tr>\n",
       "        <tr>\n",
       "            <td>Red  </td> <td>Round      </td> <td>7     </td> <td>1.75 </td>\n",
       "        </tr>\n",
       "        <tr>\n",
       "            <td>Green</td> <td>Rectangular</td> <td>9     </td> <td>1.4  </td>\n",
       "        </tr>\n",
       "        <tr>\n",
       "            <td>Green</td> <td>Round      </td> <td>2     </td> <td>1    </td>\n",
       "        </tr>\n",
       "    </tbody>\n",
       "</table>"
      ],
      "text/plain": [
       "Color | Shape       | Amount | Price\n",
       "Red   | Round       | 4      | 1.3\n",
       "Green | Rectangular | 6      | 1.3\n",
       "Blue  | Rectangular | 12     | 2\n",
       "Red   | Round       | 7      | 1.75\n",
       "Green | Rectangular | 9      | 1.4\n",
       "Green | Round       | 2      | 1"
      ]
     },
     "execution_count": 415,
     "metadata": {},
     "output_type": "execute_result"
    }
   ],
   "source": [
    "marbles"
   ]
  },
  {
   "cell_type": "markdown",
   "metadata": {},
   "source": [
    "The Table method take does just that – it takes a specified set of rows. Its argument is a row index or array of indices, and it creates a new table consisting of only those rows.\n",
    "\n"
   ]
  },
  {
   "cell_type": "code",
   "execution_count": 416,
   "metadata": {},
   "outputs": [
    {
     "data": {
      "text/html": [
       "<table border=\"1\" class=\"dataframe\">\n",
       "    <thead>\n",
       "        <tr>\n",
       "            <th>Color</th> <th>Shape</th> <th>Amount</th> <th>Price</th>\n",
       "        </tr>\n",
       "    </thead>\n",
       "    <tbody>\n",
       "        <tr>\n",
       "            <td>Red  </td> <td>Round</td> <td>4     </td> <td>1.3  </td>\n",
       "        </tr>\n",
       "    </tbody>\n",
       "</table>"
      ],
      "text/plain": [
       "Color | Shape | Amount | Price\n",
       "Red   | Round | 4      | 1.3"
      ]
     },
     "execution_count": 416,
     "metadata": {},
     "output_type": "execute_result"
    }
   ],
   "source": [
    "marbles.take(0)"
   ]
  },
  {
   "cell_type": "markdown",
   "metadata": {},
   "source": [
    "We could also get the fourth, fifth, and sixth rows by specifying a range of indices as the argument."
   ]
  },
  {
   "cell_type": "code",
   "execution_count": 417,
   "metadata": {},
   "outputs": [
    {
     "data": {
      "text/html": [
       "<table border=\"1\" class=\"dataframe\">\n",
       "    <thead>\n",
       "        <tr>\n",
       "            <th>Color</th> <th>Shape</th> <th>Amount</th> <th>Price</th>\n",
       "        </tr>\n",
       "    </thead>\n",
       "    <tbody>\n",
       "        <tr>\n",
       "            <td>Blue </td> <td>Rectangular</td> <td>12    </td> <td>2    </td>\n",
       "        </tr>\n",
       "        <tr>\n",
       "            <td>Green</td> <td>Rectangular</td> <td>9     </td> <td>1.4  </td>\n",
       "        </tr>\n",
       "    </tbody>\n",
       "</table>"
      ],
      "text/plain": [
       "Color | Shape       | Amount | Price\n",
       "Blue  | Rectangular | 12     | 2\n",
       "Green | Rectangular | 9      | 1.4"
      ]
     },
     "execution_count": 417,
     "metadata": {},
     "output_type": "execute_result"
    }
   ],
   "source": [
    "marbles.take(np.arange(2,5,2))"
   ]
  },
  {
   "cell_type": "code",
   "execution_count": 418,
   "metadata": {},
   "outputs": [
    {
     "data": {
      "text/html": [
       "<table border=\"1\" class=\"dataframe\">\n",
       "    <thead>\n",
       "        <tr>\n",
       "            <th>Color</th> <th>Shape</th> <th>Amount</th> <th>Price</th>\n",
       "        </tr>\n",
       "    </thead>\n",
       "    <tbody>\n",
       "        <tr>\n",
       "            <td>Blue </td> <td>Rectangular</td> <td>12    </td> <td>2    </td>\n",
       "        </tr>\n",
       "        <tr>\n",
       "            <td>Red  </td> <td>Round      </td> <td>7     </td> <td>1.75 </td>\n",
       "        </tr>\n",
       "        <tr>\n",
       "            <td>Green</td> <td>Rectangular</td> <td>9     </td> <td>1.4  </td>\n",
       "        </tr>\n",
       "    </tbody>\n",
       "</table>"
      ],
      "text/plain": [
       "Color | Shape       | Amount | Price\n",
       "Blue  | Rectangular | 12     | 2\n",
       "Red   | Round       | 7      | 1.75\n",
       "Green | Rectangular | 9      | 1.4"
      ]
     },
     "execution_count": 418,
     "metadata": {},
     "output_type": "execute_result"
    }
   ],
   "source": [
    "marbles.take(np.arange(2,5))"
   ]
  },
  {
   "cell_type": "markdown",
   "metadata": {},
   "source": [
    "If we want a table of the top 5 highest prices, \n",
    "we can first sort the list by salary and then take the first five rows:"
   ]
  },
  {
   "cell_type": "code",
   "execution_count": 419,
   "metadata": {},
   "outputs": [
    {
     "data": {
      "text/html": [
       "<table border=\"1\" class=\"dataframe\">\n",
       "    <thead>\n",
       "        <tr>\n",
       "            <th>Color</th> <th>Shape</th> <th>Amount</th> <th>Price</th>\n",
       "        </tr>\n",
       "    </thead>\n",
       "    <tbody>\n",
       "        <tr>\n",
       "            <td>Green</td> <td>Round      </td> <td>2     </td> <td>1    </td>\n",
       "        </tr>\n",
       "        <tr>\n",
       "            <td>Red  </td> <td>Round      </td> <td>4     </td> <td>1.3  </td>\n",
       "        </tr>\n",
       "        <tr>\n",
       "            <td>Green</td> <td>Rectangular</td> <td>6     </td> <td>1.3  </td>\n",
       "        </tr>\n",
       "        <tr>\n",
       "            <td>Green</td> <td>Rectangular</td> <td>9     </td> <td>1.4  </td>\n",
       "        </tr>\n",
       "        <tr>\n",
       "            <td>Red  </td> <td>Round      </td> <td>7     </td> <td>1.75 </td>\n",
       "        </tr>\n",
       "    </tbody>\n",
       "</table>"
      ],
      "text/plain": [
       "Color | Shape       | Amount | Price\n",
       "Green | Round       | 2      | 1\n",
       "Red   | Round       | 4      | 1.3\n",
       "Green | Rectangular | 6      | 1.3\n",
       "Green | Rectangular | 9      | 1.4\n",
       "Red   | Round       | 7      | 1.75"
      ]
     },
     "execution_count": 419,
     "metadata": {},
     "output_type": "execute_result"
    }
   ],
   "source": [
    "marbles.sort('Price').take(np.arange(0,5))"
   ]
  },
  {
   "cell_type": "markdown",
   "metadata": {},
   "source": [
    "to MAKE A table OF take the lowest prices , we can sort in descending order and then take the first five rows"
   ]
  },
  {
   "cell_type": "code",
   "execution_count": 420,
   "metadata": {},
   "outputs": [
    {
     "data": {
      "text/html": [
       "<table border=\"1\" class=\"dataframe\">\n",
       "    <thead>\n",
       "        <tr>\n",
       "            <th>Color</th> <th>Shape</th> <th>Amount</th> <th>Price</th>\n",
       "        </tr>\n",
       "    </thead>\n",
       "    <tbody>\n",
       "        <tr>\n",
       "            <td>Blue </td> <td>Rectangular</td> <td>12    </td> <td>2    </td>\n",
       "        </tr>\n",
       "        <tr>\n",
       "            <td>Red  </td> <td>Round      </td> <td>7     </td> <td>1.75 </td>\n",
       "        </tr>\n",
       "        <tr>\n",
       "            <td>Green</td> <td>Rectangular</td> <td>9     </td> <td>1.4  </td>\n",
       "        </tr>\n",
       "        <tr>\n",
       "            <td>Green</td> <td>Rectangular</td> <td>6     </td> <td>1.3  </td>\n",
       "        </tr>\n",
       "        <tr>\n",
       "            <td>Red  </td> <td>Round      </td> <td>4     </td> <td>1.3  </td>\n",
       "        </tr>\n",
       "    </tbody>\n",
       "</table>"
      ],
      "text/plain": [
       "Color | Shape       | Amount | Price\n",
       "Blue  | Rectangular | 12     | 2\n",
       "Red   | Round       | 7      | 1.75\n",
       "Green | Rectangular | 9      | 1.4\n",
       "Green | Rectangular | 6      | 1.3\n",
       "Red   | Round       | 4      | 1.3"
      ]
     },
     "execution_count": 420,
     "metadata": {},
     "output_type": "execute_result"
    }
   ],
   "source": [
    "marbles.sort('Price', descending= True).take(np.arange(0,5))"
   ]
  },
  {
   "cell_type": "raw",
   "metadata": {},
   "source": [
    "To select Rows Corresponding to a Specified Feature"
   ]
  },
  {
   "cell_type": "code",
   "execution_count": 421,
   "metadata": {},
   "outputs": [
    {
     "data": {
      "text/html": [
       "<table border=\"1\" class=\"dataframe\">\n",
       "    <thead>\n",
       "        <tr>\n",
       "            <th>Color</th> <th>Shape</th> <th>Amount</th> <th>Price</th>\n",
       "        </tr>\n",
       "    </thead>\n",
       "    <tbody>\n",
       "        <tr>\n",
       "            <td>Red  </td> <td>Round      </td> <td>4     </td> <td>1.3  </td>\n",
       "        </tr>\n",
       "        <tr>\n",
       "            <td>Green</td> <td>Rectangular</td> <td>6     </td> <td>1.3  </td>\n",
       "        </tr>\n",
       "        <tr>\n",
       "            <td>Blue </td> <td>Rectangular</td> <td>12    </td> <td>2    </td>\n",
       "        </tr>\n",
       "        <tr>\n",
       "            <td>Red  </td> <td>Round      </td> <td>7     </td> <td>1.75 </td>\n",
       "        </tr>\n",
       "        <tr>\n",
       "            <td>Green</td> <td>Rectangular</td> <td>9     </td> <td>1.4  </td>\n",
       "        </tr>\n",
       "    </tbody>\n",
       "</table>"
      ],
      "text/plain": [
       "Color | Shape       | Amount | Price\n",
       "Red   | Round       | 4      | 1.3\n",
       "Green | Rectangular | 6      | 1.3\n",
       "Blue  | Rectangular | 12     | 2\n",
       "Red   | Round       | 7      | 1.75\n",
       "Green | Rectangular | 9      | 1.4"
      ]
     },
     "execution_count": 421,
     "metadata": {},
     "output_type": "execute_result"
    }
   ],
   "source": [
    "marbles.where('Price',are.above(1))\n",
    "#rows with values greater than 1"
   ]
  },
  {
   "cell_type": "code",
   "execution_count": 422,
   "metadata": {},
   "outputs": [
    {
     "data": {
      "text/html": [
       "<table border=\"1\" class=\"dataframe\">\n",
       "    <thead>\n",
       "        <tr>\n",
       "            <th>Color</th> <th>Shape</th> <th>Amount</th> <th>Price</th>\n",
       "        </tr>\n",
       "    </thead>\n",
       "    <tbody>\n",
       "        <tr>\n",
       "            <td>Blue </td> <td>Rectangular</td> <td>12    </td> <td>2    </td>\n",
       "        </tr>\n",
       "        <tr>\n",
       "            <td>Green</td> <td>Rectangular</td> <td>9     </td> <td>1.4  </td>\n",
       "        </tr>\n",
       "        <tr>\n",
       "            <td>Red  </td> <td>Round      </td> <td>7     </td> <td>1.75 </td>\n",
       "        </tr>\n",
       "        <tr>\n",
       "            <td>Green</td> <td>Rectangular</td> <td>6     </td> <td>1.3  </td>\n",
       "        </tr>\n",
       "        <tr>\n",
       "            <td>Red  </td> <td>Round      </td> <td>4     </td> <td>1.3  </td>\n",
       "        </tr>\n",
       "    </tbody>\n",
       "</table>"
      ],
      "text/plain": [
       "Color | Shape       | Amount | Price\n",
       "Blue  | Rectangular | 12     | 2\n",
       "Green | Rectangular | 9      | 1.4\n",
       "Red   | Round       | 7      | 1.75\n",
       "Green | Rectangular | 6      | 1.3\n",
       "Red   | Round       | 4      | 1.3"
      ]
     },
     "execution_count": 422,
     "metadata": {},
     "output_type": "execute_result"
    }
   ],
   "source": [
    "#to get a sorted column by decreasing amount\n",
    "marbles.where('Price',are.above(1)).sort('Amount', descending=\"True\")"
   ]
  },
  {
   "cell_type": "code",
   "execution_count": 423,
   "metadata": {},
   "outputs": [
    {
     "data": {
      "text/html": [
       "<table border=\"1\" class=\"dataframe\">\n",
       "    <thead>\n",
       "        <tr>\n",
       "            <th>Color</th> <th>Shape</th> <th>Amount</th> <th>Price</th>\n",
       "        </tr>\n",
       "    </thead>\n",
       "    <tbody>\n",
       "        <tr>\n",
       "            <td>Red  </td> <td>Round</td> <td>4     </td> <td>1.3  </td>\n",
       "        </tr>\n",
       "        <tr>\n",
       "            <td>Red  </td> <td>Round</td> <td>7     </td> <td>1.75 </td>\n",
       "        </tr>\n",
       "    </tbody>\n",
       "</table>"
      ],
      "text/plain": [
       "Color | Shape | Amount | Price\n",
       "Red   | Round | 4      | 1.3\n",
       "Red   | Round | 7      | 1.75"
      ]
     },
     "execution_count": 423,
     "metadata": {},
     "output_type": "execute_result"
    }
   ],
   "source": [
    "#to find a particular column\n",
    "marbles.where('Color', are.equal_to('Red'))\n"
   ]
  },
  {
   "cell_type": "code",
   "execution_count": 424,
   "metadata": {},
   "outputs": [
    {
     "data": {
      "text/html": [
       "<table border=\"1\" class=\"dataframe\">\n",
       "    <thead>\n",
       "        <tr>\n",
       "            <th>Color</th> <th>Shape</th> <th>Amount</th> <th>Price</th>\n",
       "        </tr>\n",
       "    </thead>\n",
       "    <tbody>\n",
       "    </tbody>\n",
       "</table>"
      ],
      "text/plain": [
       "Color | Shape | Amount | Price"
      ]
     },
     "execution_count": 424,
     "metadata": {},
     "output_type": "execute_result"
    }
   ],
   "source": [
    "marbles.where('Price', are.above(2))\n"
   ]
  },
  {
   "cell_type": "code",
   "execution_count": 425,
   "metadata": {},
   "outputs": [
    {
     "data": {
      "text/html": [
       "<table border=\"1\" class=\"dataframe\">\n",
       "    <thead>\n",
       "        <tr>\n",
       "            <th>Color</th> <th>Shape</th> <th>Amount</th> <th>Price</th>\n",
       "        </tr>\n",
       "    </thead>\n",
       "    <tbody>\n",
       "        <tr>\n",
       "            <td>Blue </td> <td>Rectangular</td> <td>12    </td> <td>2    </td>\n",
       "        </tr>\n",
       "    </tbody>\n",
       "</table>"
      ],
      "text/plain": [
       "<IPython.core.display.HTML object>"
      ]
     },
     "metadata": {},
     "output_type": "display_data"
    }
   ],
   "source": [
    "marbles.where('Price', are.equal_to(2)).show()\n",
    "#The .show() at the end of the line ensures that all rows are shown, not just the first 10."
   ]
  },
  {
   "cell_type": "code",
   "execution_count": 426,
   "metadata": {},
   "outputs": [
    {
     "data": {
      "text/html": [
       "<table border=\"1\" class=\"dataframe\">\n",
       "    <thead>\n",
       "        <tr>\n",
       "            <th>Color</th> <th>Shape</th> <th>Amount</th> <th>Price</th>\n",
       "        </tr>\n",
       "    </thead>\n",
       "    <tbody>\n",
       "        <tr>\n",
       "            <td>Blue </td> <td>Rectangular</td> <td>12    </td> <td>2    </td>\n",
       "        </tr>\n",
       "    </tbody>\n",
       "</table>"
      ],
      "text/plain": [
       "<IPython.core.display.HTML object>"
      ]
     },
     "metadata": {},
     "output_type": "display_data"
    }
   ],
   "source": [
    "marbles.where('Price', are.equal_to(2)).show()"
   ]
  },
  {
   "cell_type": "code",
   "execution_count": 427,
   "metadata": {},
   "outputs": [
    {
     "data": {
      "text/html": [
       "<table border=\"1\" class=\"dataframe\">\n",
       "    <thead>\n",
       "        <tr>\n",
       "            <th>Color</th> <th>Shape</th> <th>Amount</th> <th>Price</th>\n",
       "        </tr>\n",
       "    </thead>\n",
       "    <tbody>\n",
       "        <tr>\n",
       "            <td>Red  </td> <td>Round      </td> <td>4     </td> <td>1.3  </td>\n",
       "        </tr>\n",
       "        <tr>\n",
       "            <td>Green</td> <td>Rectangular</td> <td>6     </td> <td>1.3  </td>\n",
       "        </tr>\n",
       "        <tr>\n",
       "            <td>Blue </td> <td>Rectangular</td> <td>12    </td> <td>2    </td>\n",
       "        </tr>\n",
       "        <tr>\n",
       "            <td>Red  </td> <td>Round      </td> <td>7     </td> <td>1.75 </td>\n",
       "        </tr>\n",
       "        <tr>\n",
       "            <td>Green</td> <td>Rectangular</td> <td>9     </td> <td>1.4  </td>\n",
       "        </tr>\n",
       "        <tr>\n",
       "            <td>Green</td> <td>Round      </td> <td>2     </td> <td>1    </td>\n",
       "        </tr>\n",
       "    </tbody>\n",
       "</table>"
      ],
      "text/plain": [
       "Color | Shape       | Amount | Price\n",
       "Red   | Round       | 4      | 1.3\n",
       "Green | Rectangular | 6      | 1.3\n",
       "Blue  | Rectangular | 12     | 2\n",
       "Red   | Round       | 7      | 1.75\n",
       "Green | Rectangular | 9      | 1.4\n",
       "Green | Round       | 2      | 1"
      ]
     },
     "execution_count": 427,
     "metadata": {},
     "output_type": "execute_result"
    }
   ],
   "source": [
    "marbles.where('Price', are.above(0.7))"
   ]
  },
  {
   "cell_type": "markdown",
   "metadata": {},
   "source": [
    "It is so common to ask for the rows for which some column is equal to some value that the are.equal_to call is optional"
   ]
  },
  {
   "cell_type": "code",
   "execution_count": 428,
   "metadata": {},
   "outputs": [
    {
     "data": {
      "text/html": [
       "<table border=\"1\" class=\"dataframe\">\n",
       "    <thead>\n",
       "        <tr>\n",
       "            <th>Color</th> <th>Shape</th> <th>Amount</th> <th>Price</th>\n",
       "        </tr>\n",
       "    </thead>\n",
       "    <tbody>\n",
       "        <tr>\n",
       "            <td>Red  </td> <td>Round</td> <td>4     </td> <td>1.3  </td>\n",
       "        </tr>\n",
       "        <tr>\n",
       "            <td>Red  </td> <td>Round</td> <td>7     </td> <td>1.75 </td>\n",
       "        </tr>\n",
       "        <tr>\n",
       "            <td>Green</td> <td>Round</td> <td>2     </td> <td>1    </td>\n",
       "        </tr>\n",
       "    </tbody>\n",
       "</table>"
      ],
      "text/plain": [
       "Color | Shape | Amount | Price\n",
       "Red   | Round | 4      | 1.3\n",
       "Red   | Round | 7      | 1.75\n",
       "Green | Round | 2      | 1"
      ]
     },
     "execution_count": 428,
     "metadata": {},
     "output_type": "execute_result"
    }
   ],
   "source": [
    "marbles.where('Shape','Round')"
   ]
  },
  {
   "cell_type": "code",
   "execution_count": 429,
   "metadata": {},
   "outputs": [
    {
     "data": {
      "text/html": [
       "<table border=\"1\" class=\"dataframe\">\n",
       "    <thead>\n",
       "        <tr>\n",
       "            <th>Color</th> <th>Shape</th> <th>Amount</th> <th>Price</th>\n",
       "        </tr>\n",
       "    </thead>\n",
       "    <tbody>\n",
       "        <tr>\n",
       "            <td>Red  </td> <td>Round</td> <td>4     </td> <td>1.3  </td>\n",
       "        </tr>\n",
       "        <tr>\n",
       "            <td>Red  </td> <td>Round</td> <td>7     </td> <td>1.75 </td>\n",
       "        </tr>\n",
       "        <tr>\n",
       "            <td>Green</td> <td>Round</td> <td>2     </td> <td>1    </td>\n",
       "        </tr>\n",
       "    </tbody>\n",
       "</table>"
      ],
      "text/plain": [
       "Color | Shape | Amount | Price\n",
       "Red   | Round | 4      | 1.3\n",
       "Red   | Round | 7      | 1.75\n",
       "Green | Round | 2      | 1"
      ]
     },
     "execution_count": 429,
     "metadata": {},
     "output_type": "execute_result"
    }
   ],
   "source": [
    "marbles.where('Shape', are.equal_to('Round'))"
   ]
  },
  {
   "cell_type": "markdown",
   "metadata": {},
   "source": [
    "Multiple Features"
   ]
  },
  {
   "cell_type": "code",
   "execution_count": 430,
   "metadata": {},
   "outputs": [
    {
     "data": {
      "text/html": [
       "<table border=\"1\" class=\"dataframe\">\n",
       "    <thead>\n",
       "        <tr>\n",
       "            <th>Color</th> <th>Shape</th> <th>Amount</th> <th>Price</th>\n",
       "        </tr>\n",
       "    </thead>\n",
       "    <tbody>\n",
       "        <tr>\n",
       "            <td>Red  </td> <td>Round</td> <td>4     </td> <td>1.3  </td>\n",
       "        </tr>\n",
       "        <tr>\n",
       "            <td>Red  </td> <td>Round</td> <td>7     </td> <td>1.75 </td>\n",
       "        </tr>\n",
       "    </tbody>\n",
       "</table>"
      ],
      "text/plain": [
       "Color | Shape | Amount | Price\n",
       "Red   | Round | 4      | 1.3\n",
       "Red   | Round | 7      | 1.75"
      ]
     },
     "execution_count": 430,
     "metadata": {},
     "output_type": "execute_result"
    }
   ],
   "source": [
    "marbles.where('Color', 'Red').where('Amount', are.above(2))"
   ]
  },
  {
   "cell_type": "code",
   "execution_count": 431,
   "metadata": {},
   "outputs": [
    {
     "data": {
      "text/html": [
       "<table border=\"1\" class=\"dataframe\">\n",
       "    <thead>\n",
       "        <tr>\n",
       "            <th>Color</th> <th>Shape</th> <th>Amount</th> <th>Price</th>\n",
       "        </tr>\n",
       "    </thead>\n",
       "    <tbody>\n",
       "        <tr>\n",
       "            <td>Green</td> <td>Rectangular</td> <td>6     </td> <td>1.3  </td>\n",
       "        </tr>\n",
       "        <tr>\n",
       "            <td>Green</td> <td>Rectangular</td> <td>9     </td> <td>1.4  </td>\n",
       "        </tr>\n",
       "    </tbody>\n",
       "</table>"
      ],
      "text/plain": [
       "Color | Shape       | Amount | Price\n",
       "Green | Rectangular | 6      | 1.3\n",
       "Green | Rectangular | 9      | 1.4"
      ]
     },
     "execution_count": 431,
     "metadata": {},
     "output_type": "execute_result"
    }
   ],
   "source": [
    "marbles.where('Color', 'Green').where('Amount', are.above(2))"
   ]
  },
  {
   "cell_type": "code",
   "execution_count": 432,
   "metadata": {},
   "outputs": [
    {
     "data": {
      "text/html": [
       "<table border=\"1\" class=\"dataframe\">\n",
       "    <thead>\n",
       "        <tr>\n",
       "            <th>Color</th> <th>Shape</th> <th>Amount</th> <th>Price</th>\n",
       "        </tr>\n",
       "    </thead>\n",
       "    <tbody>\n",
       "        <tr>\n",
       "            <td>Red  </td> <td>Round</td> <td>7     </td> <td>1.75 </td>\n",
       "        </tr>\n",
       "    </tbody>\n",
       "</table>"
      ],
      "text/plain": [
       "Color | Shape | Amount | Price\n",
       "Red   | Round | 7      | 1.75"
      ]
     },
     "execution_count": 432,
     "metadata": {},
     "output_type": "execute_result"
    }
   ],
   "source": [
    "marbles.where('Price', are.between(1.5, 2))\n"
   ]
  },
  {
   "cell_type": "markdown",
   "metadata": {},
   "source": [
    "Notice this does not take 2 into account "
   ]
  },
  {
   "cell_type": "code",
   "execution_count": 433,
   "metadata": {},
   "outputs": [
    {
     "data": {
      "text/html": [
       "<table border=\"1\" class=\"dataframe\">\n",
       "    <thead>\n",
       "        <tr>\n",
       "            <th>Color</th> <th>Shape</th> <th>Amount</th> <th>Price</th>\n",
       "        </tr>\n",
       "    </thead>\n",
       "    <tbody>\n",
       "        <tr>\n",
       "            <td>Blue </td> <td>Rectangular</td> <td>12    </td> <td>2    </td>\n",
       "        </tr>\n",
       "        <tr>\n",
       "            <td>Red  </td> <td>Round      </td> <td>7     </td> <td>1.75 </td>\n",
       "        </tr>\n",
       "    </tbody>\n",
       "</table>"
      ],
      "text/plain": [
       "Color | Shape       | Amount | Price\n",
       "Blue  | Rectangular | 12     | 2\n",
       "Red   | Round       | 7      | 1.75"
      ]
     },
     "execution_count": 433,
     "metadata": {},
     "output_type": "execute_result"
    }
   ],
   "source": [
    "marbles.where('Price', are.between(1.5, 2.1))"
   ]
  },
  {
   "cell_type": "markdown",
   "metadata": {},
   "source": [
    "If we specify a condition that isn’t satisfied by any row, we get a table with column labels but no rows."
   ]
  },
  {
   "cell_type": "code",
   "execution_count": 434,
   "metadata": {},
   "outputs": [
    {
     "data": {
      "text/html": [
       "<table border=\"1\" class=\"dataframe\">\n",
       "    <thead>\n",
       "        <tr>\n",
       "            <th>Color</th> <th>Shape</th> <th>Amount</th> <th>Price</th>\n",
       "        </tr>\n",
       "    </thead>\n",
       "    <tbody>\n",
       "    </tbody>\n",
       "</table>"
      ],
      "text/plain": [
       "Color | Shape | Amount | Price"
      ]
     },
     "execution_count": 434,
     "metadata": {},
     "output_type": "execute_result"
    }
   ],
   "source": [
    "marbles.where('Price', are.between(2.1, 3))"
   ]
  },
  {
   "cell_type": "code",
   "execution_count": 435,
   "metadata": {},
   "outputs": [
    {
     "data": {
      "text/html": [
       "<table border=\"1\" class=\"dataframe\">\n",
       "    <thead>\n",
       "        <tr>\n",
       "            <th>Color</th> <th>Shape</th> <th>Amount</th> <th>Price</th>\n",
       "        </tr>\n",
       "    </thead>\n",
       "    <tbody>\n",
       "        <tr>\n",
       "            <td>Green</td> <td>Rectangular</td> <td>6     </td> <td>1.3  </td>\n",
       "        </tr>\n",
       "        <tr>\n",
       "            <td>Green</td> <td>Rectangular</td> <td>9     </td> <td>1.4  </td>\n",
       "        </tr>\n",
       "        <tr>\n",
       "            <td>Green</td> <td>Round      </td> <td>2     </td> <td>1    </td>\n",
       "        </tr>\n",
       "    </tbody>\n",
       "</table>"
      ],
      "text/plain": [
       "Color | Shape       | Amount | Price\n",
       "Green | Rectangular | 6      | 1.3\n",
       "Green | Rectangular | 9      | 1.4\n",
       "Green | Round       | 2      | 1"
      ]
     },
     "execution_count": 435,
     "metadata": {},
     "output_type": "execute_result"
    }
   ],
   "source": [
    "marbles.where('Color', are.containing('r'))"
   ]
  },
  {
   "cell_type": "code",
   "execution_count": 436,
   "metadata": {},
   "outputs": [
    {
     "data": {
      "text/html": [
       "<table border=\"1\" class=\"dataframe\">\n",
       "    <thead>\n",
       "        <tr>\n",
       "            <th>Color</th> <th>Shape</th> <th>Amount</th> <th>Price</th>\n",
       "        </tr>\n",
       "    </thead>\n",
       "    <tbody>\n",
       "        <tr>\n",
       "            <td>Red  </td> <td>Round</td> <td>4     </td> <td>1.3  </td>\n",
       "        </tr>\n",
       "        <tr>\n",
       "            <td>Red  </td> <td>Round</td> <td>7     </td> <td>1.75 </td>\n",
       "        </tr>\n",
       "    </tbody>\n",
       "</table>"
      ],
      "text/plain": [
       "Color | Shape | Amount | Price\n",
       "Red   | Round | 4      | 1.3\n",
       "Red   | Round | 7      | 1.75"
      ]
     },
     "execution_count": 436,
     "metadata": {},
     "output_type": "execute_result"
    }
   ],
   "source": [
    "marbles.where('Color', are.containing('R'))"
   ]
  },
  {
   "cell_type": "code",
   "execution_count": 437,
   "metadata": {},
   "outputs": [],
   "source": [
    "#Big TABLES"
   ]
  },
  {
   "cell_type": "code",
   "execution_count": 438,
   "metadata": {},
   "outputs": [],
   "source": [
    "data = 'http://www2.census.gov/programs-surveys/popest/datasets/2010-2015/national/asrh/nc-est2015-agesex-res.csv'\n"
   ]
  },
  {
   "cell_type": "code",
   "execution_count": 439,
   "metadata": {},
   "outputs": [
    {
     "data": {
      "text/html": [
       "<table border=\"1\" class=\"dataframe\">\n",
       "    <thead>\n",
       "        <tr>\n",
       "            <th>SEX</th> <th>AGE</th> <th>CENSUS2010POP</th> <th>ESTIMATESBASE2010</th> <th>POPESTIMATE2010</th> <th>POPESTIMATE2011</th> <th>POPESTIMATE2012</th> <th>POPESTIMATE2013</th> <th>POPESTIMATE2014</th> <th>POPESTIMATE2015</th>\n",
       "        </tr>\n",
       "    </thead>\n",
       "    <tbody>\n",
       "        <tr>\n",
       "            <td>0   </td> <td>0   </td> <td>3944153      </td> <td>3944160          </td> <td>3951330        </td> <td>3963087        </td> <td>3926540        </td> <td>3931141        </td> <td>3949775        </td> <td>3978038        </td>\n",
       "        </tr>\n",
       "        <tr>\n",
       "            <td>0   </td> <td>1   </td> <td>3978070      </td> <td>3978090          </td> <td>3957888        </td> <td>3966551        </td> <td>3977939        </td> <td>3942872        </td> <td>3949776        </td> <td>3968564        </td>\n",
       "        </tr>\n",
       "        <tr>\n",
       "            <td>0   </td> <td>2   </td> <td>4096929      </td> <td>4096939          </td> <td>4090862        </td> <td>3971565        </td> <td>3980095        </td> <td>3992720        </td> <td>3959664        </td> <td>3966583        </td>\n",
       "        </tr>\n",
       "        <tr>\n",
       "            <td>0   </td> <td>3   </td> <td>4119040      </td> <td>4119051          </td> <td>4111920        </td> <td>4102470        </td> <td>3983157        </td> <td>3992734        </td> <td>4007079        </td> <td>3974061        </td>\n",
       "        </tr>\n",
       "        <tr>\n",
       "            <td>0   </td> <td>4   </td> <td>4063170      </td> <td>4063186          </td> <td>4077551        </td> <td>4122294        </td> <td>4112849        </td> <td>3994449        </td> <td>4005716        </td> <td>4020035        </td>\n",
       "        </tr>\n",
       "        <tr>\n",
       "            <td>0   </td> <td>5   </td> <td>4056858      </td> <td>4056872          </td> <td>4064653        </td> <td>4087709        </td> <td>4132242        </td> <td>4123626        </td> <td>4006900        </td> <td>4018158        </td>\n",
       "        </tr>\n",
       "        <tr>\n",
       "            <td>0   </td> <td>6   </td> <td>4066381      </td> <td>4066412          </td> <td>4073013        </td> <td>4074993        </td> <td>4097605        </td> <td>4142916        </td> <td>4135930        </td> <td>4019207        </td>\n",
       "        </tr>\n",
       "        <tr>\n",
       "            <td>0   </td> <td>7   </td> <td>4030579      </td> <td>4030594          </td> <td>4043046        </td> <td>4083225        </td> <td>4084913        </td> <td>4108349        </td> <td>4155326        </td> <td>4148360        </td>\n",
       "        </tr>\n",
       "        <tr>\n",
       "            <td>0   </td> <td>8   </td> <td>4046486      </td> <td>4046497          </td> <td>4025604        </td> <td>4053203        </td> <td>4093177        </td> <td>4095711        </td> <td>4120903        </td> <td>4167887        </td>\n",
       "        </tr>\n",
       "        <tr>\n",
       "            <td>0   </td> <td>9   </td> <td>4148353      </td> <td>4148369          </td> <td>4125415        </td> <td>4035710        </td> <td>4063152        </td> <td>4104072        </td> <td>4108349        </td> <td>4133564        </td>\n",
       "        </tr>\n",
       "    </tbody>\n",
       "</table>\n",
       "<p>... (296 rows omitted)</p>"
      ],
      "text/plain": [
       "SEX  | AGE  | CENSUS2010POP | ESTIMATESBASE2010 | POPESTIMATE2010 | POPESTIMATE2011 | POPESTIMATE2012 | POPESTIMATE2013 | POPESTIMATE2014 | POPESTIMATE2015\n",
       "0    | 0    | 3944153       | 3944160           | 3951330         | 3963087         | 3926540         | 3931141         | 3949775         | 3978038\n",
       "0    | 1    | 3978070       | 3978090           | 3957888         | 3966551         | 3977939         | 3942872         | 3949776         | 3968564\n",
       "0    | 2    | 4096929       | 4096939           | 4090862         | 3971565         | 3980095         | 3992720         | 3959664         | 3966583\n",
       "0    | 3    | 4119040       | 4119051           | 4111920         | 4102470         | 3983157         | 3992734         | 4007079         | 3974061\n",
       "0    | 4    | 4063170       | 4063186           | 4077551         | 4122294         | 4112849         | 3994449         | 4005716         | 4020035\n",
       "0    | 5    | 4056858       | 4056872           | 4064653         | 4087709         | 4132242         | 4123626         | 4006900         | 4018158\n",
       "0    | 6    | 4066381       | 4066412           | 4073013         | 4074993         | 4097605         | 4142916         | 4135930         | 4019207\n",
       "0    | 7    | 4030579       | 4030594           | 4043046         | 4083225         | 4084913         | 4108349         | 4155326         | 4148360\n",
       "0    | 8    | 4046486       | 4046497           | 4025604         | 4053203         | 4093177         | 4095711         | 4120903         | 4167887\n",
       "0    | 9    | 4148353       | 4148369           | 4125415         | 4035710         | 4063152         | 4104072         | 4108349         | 4133564\n",
       "... (296 rows omitted)"
      ]
     },
     "execution_count": 439,
     "metadata": {},
     "output_type": "execute_result"
    }
   ],
   "source": [
    "full_census_table = Table.read_table(data)\n",
    "full_census_table"
   ]
  },
  {
   "cell_type": "code",
   "execution_count": 440,
   "metadata": {},
   "outputs": [
    {
     "data": {
      "text/plain": [
       "306"
      ]
     },
     "execution_count": 440,
     "metadata": {},
     "output_type": "execute_result"
    }
   ],
   "source": [
    "#let's learn a little about the table\n",
    "full_census_table.num_rows"
   ]
  },
  {
   "cell_type": "code",
   "execution_count": 441,
   "metadata": {},
   "outputs": [
    {
     "data": {
      "text/plain": [
       "10"
      ]
     },
     "execution_count": 441,
     "metadata": {},
     "output_type": "execute_result"
    }
   ],
   "source": [
    "full_census_table.num_columns"
   ]
  },
  {
   "cell_type": "markdown",
   "metadata": {},
   "source": [
    "SELECT YOUR OWN TABLE FROM THE BIGGER TABLE\n",
    "Typically, a public table will contain more information than necessary for a particular investigation or analysis. In this case, let us suppose that we are only interested in the population changes from 2010 to 2014. Let us select the relevant columns.\n",
    "\n"
   ]
  },
  {
   "cell_type": "code",
   "execution_count": 442,
   "metadata": {},
   "outputs": [
    {
     "data": {
      "text/html": [
       "<table border=\"1\" class=\"dataframe\">\n",
       "    <thead>\n",
       "        <tr>\n",
       "            <th>SEX</th> <th>AGE</th> <th>POPESTIMATE2010</th> <th>POPESTIMATE2014</th>\n",
       "        </tr>\n",
       "    </thead>\n",
       "    <tbody>\n",
       "        <tr>\n",
       "            <td>0   </td> <td>0   </td> <td>3951330        </td> <td>3949775        </td>\n",
       "        </tr>\n",
       "        <tr>\n",
       "            <td>0   </td> <td>1   </td> <td>3957888        </td> <td>3949776        </td>\n",
       "        </tr>\n",
       "        <tr>\n",
       "            <td>0   </td> <td>2   </td> <td>4090862        </td> <td>3959664        </td>\n",
       "        </tr>\n",
       "        <tr>\n",
       "            <td>0   </td> <td>3   </td> <td>4111920        </td> <td>4007079        </td>\n",
       "        </tr>\n",
       "        <tr>\n",
       "            <td>0   </td> <td>4   </td> <td>4077551        </td> <td>4005716        </td>\n",
       "        </tr>\n",
       "        <tr>\n",
       "            <td>0   </td> <td>5   </td> <td>4064653        </td> <td>4006900        </td>\n",
       "        </tr>\n",
       "        <tr>\n",
       "            <td>0   </td> <td>6   </td> <td>4073013        </td> <td>4135930        </td>\n",
       "        </tr>\n",
       "        <tr>\n",
       "            <td>0   </td> <td>7   </td> <td>4043046        </td> <td>4155326        </td>\n",
       "        </tr>\n",
       "        <tr>\n",
       "            <td>0   </td> <td>8   </td> <td>4025604        </td> <td>4120903        </td>\n",
       "        </tr>\n",
       "        <tr>\n",
       "            <td>0   </td> <td>9   </td> <td>4125415        </td> <td>4108349        </td>\n",
       "        </tr>\n",
       "    </tbody>\n",
       "</table>\n",
       "<p>... (296 rows omitted)</p>"
      ],
      "text/plain": [
       "SEX  | AGE  | POPESTIMATE2010 | POPESTIMATE2014\n",
       "0    | 0    | 3951330         | 3949775\n",
       "0    | 1    | 3957888         | 3949776\n",
       "0    | 2    | 4090862         | 3959664\n",
       "0    | 3    | 4111920         | 4007079\n",
       "0    | 4    | 4077551         | 4005716\n",
       "0    | 5    | 4064653         | 4006900\n",
       "0    | 6    | 4073013         | 4135930\n",
       "0    | 7    | 4043046         | 4155326\n",
       "0    | 8    | 4025604         | 4120903\n",
       "0    | 9    | 4125415         | 4108349\n",
       "... (296 rows omitted)"
      ]
     },
     "execution_count": 442,
     "metadata": {},
     "output_type": "execute_result"
    }
   ],
   "source": [
    "partial_census_table = full_census_table.select('SEX', 'AGE', 'POPESTIMATE2010', 'POPESTIMATE2014')\n",
    "partial_census_table"
   ]
  },
  {
   "cell_type": "code",
   "execution_count": 443,
   "metadata": {},
   "outputs": [
    {
     "data": {
      "text/html": [
       "<table border=\"1\" class=\"dataframe\">\n",
       "    <thead>\n",
       "        <tr>\n",
       "            <th>SEX</th> <th>AGE</th> <th>estimate</th> <th>POPESTIMATE2014</th>\n",
       "        </tr>\n",
       "    </thead>\n",
       "    <tbody>\n",
       "        <tr>\n",
       "            <td>0   </td> <td>0   </td> <td>3951330 </td> <td>3949775        </td>\n",
       "        </tr>\n",
       "        <tr>\n",
       "            <td>0   </td> <td>1   </td> <td>3957888 </td> <td>3949776        </td>\n",
       "        </tr>\n",
       "        <tr>\n",
       "            <td>0   </td> <td>2   </td> <td>4090862 </td> <td>3959664        </td>\n",
       "        </tr>\n",
       "        <tr>\n",
       "            <td>0   </td> <td>3   </td> <td>4111920 </td> <td>4007079        </td>\n",
       "        </tr>\n",
       "        <tr>\n",
       "            <td>0   </td> <td>4   </td> <td>4077551 </td> <td>4005716        </td>\n",
       "        </tr>\n",
       "        <tr>\n",
       "            <td>0   </td> <td>5   </td> <td>4064653 </td> <td>4006900        </td>\n",
       "        </tr>\n",
       "        <tr>\n",
       "            <td>0   </td> <td>6   </td> <td>4073013 </td> <td>4135930        </td>\n",
       "        </tr>\n",
       "        <tr>\n",
       "            <td>0   </td> <td>7   </td> <td>4043046 </td> <td>4155326        </td>\n",
       "        </tr>\n",
       "        <tr>\n",
       "            <td>0   </td> <td>8   </td> <td>4025604 </td> <td>4120903        </td>\n",
       "        </tr>\n",
       "        <tr>\n",
       "            <td>0   </td> <td>9   </td> <td>4125415 </td> <td>4108349        </td>\n",
       "        </tr>\n",
       "    </tbody>\n",
       "</table>\n",
       "<p>... (296 rows omitted)</p>"
      ],
      "text/plain": [
       "SEX  | AGE  | estimate | POPESTIMATE2014\n",
       "0    | 0    | 3951330  | 3949775\n",
       "0    | 1    | 3957888  | 3949776\n",
       "0    | 2    | 4090862  | 3959664\n",
       "0    | 3    | 4111920  | 4007079\n",
       "0    | 4    | 4077551  | 4005716\n",
       "0    | 5    | 4064653  | 4006900\n",
       "0    | 6    | 4073013  | 4135930\n",
       "0    | 7    | 4043046  | 4155326\n",
       "0    | 8    | 4025604  | 4120903\n",
       "0    | 9    | 4125415  | 4108349\n",
       "... (296 rows omitted)"
      ]
     },
     "execution_count": 443,
     "metadata": {},
     "output_type": "execute_result"
    }
   ],
   "source": [
    "partial_census_table.relabeled('POPESTIMATE2010','estimate')"
   ]
  },
  {
   "cell_type": "code",
   "execution_count": 444,
   "metadata": {},
   "outputs": [
    {
     "data": {
      "text/html": [
       "<table border=\"1\" class=\"dataframe\">\n",
       "    <thead>\n",
       "        <tr>\n",
       "            <th>SEX</th> <th>AGE</th> <th>2010</th> <th>2014</th>\n",
       "        </tr>\n",
       "    </thead>\n",
       "    <tbody>\n",
       "        <tr>\n",
       "            <td>0   </td> <td>0   </td> <td>3951330</td> <td>3949775</td>\n",
       "        </tr>\n",
       "        <tr>\n",
       "            <td>0   </td> <td>1   </td> <td>3957888</td> <td>3949776</td>\n",
       "        </tr>\n",
       "        <tr>\n",
       "            <td>0   </td> <td>2   </td> <td>4090862</td> <td>3959664</td>\n",
       "        </tr>\n",
       "        <tr>\n",
       "            <td>0   </td> <td>3   </td> <td>4111920</td> <td>4007079</td>\n",
       "        </tr>\n",
       "        <tr>\n",
       "            <td>0   </td> <td>4   </td> <td>4077551</td> <td>4005716</td>\n",
       "        </tr>\n",
       "        <tr>\n",
       "            <td>0   </td> <td>5   </td> <td>4064653</td> <td>4006900</td>\n",
       "        </tr>\n",
       "        <tr>\n",
       "            <td>0   </td> <td>6   </td> <td>4073013</td> <td>4135930</td>\n",
       "        </tr>\n",
       "        <tr>\n",
       "            <td>0   </td> <td>7   </td> <td>4043046</td> <td>4155326</td>\n",
       "        </tr>\n",
       "        <tr>\n",
       "            <td>0   </td> <td>8   </td> <td>4025604</td> <td>4120903</td>\n",
       "        </tr>\n",
       "        <tr>\n",
       "            <td>0   </td> <td>9   </td> <td>4125415</td> <td>4108349</td>\n",
       "        </tr>\n",
       "    </tbody>\n",
       "</table>\n",
       "<p>... (296 rows omitted)</p>"
      ],
      "text/plain": [
       "SEX  | AGE  | 2010    | 2014\n",
       "0    | 0    | 3951330 | 3949775\n",
       "0    | 1    | 3957888 | 3949776\n",
       "0    | 2    | 4090862 | 3959664\n",
       "0    | 3    | 4111920 | 4007079\n",
       "0    | 4    | 4077551 | 4005716\n",
       "0    | 5    | 4064653 | 4006900\n",
       "0    | 6    | 4073013 | 4135930\n",
       "0    | 7    | 4043046 | 4155326\n",
       "0    | 8    | 4025604 | 4120903\n",
       "0    | 9    | 4125415 | 4108349\n",
       "... (296 rows omitted)"
      ]
     },
     "execution_count": 444,
     "metadata": {},
     "output_type": "execute_result"
    }
   ],
   "source": [
    "#relabeling two tables at once\n",
    "us_pop = partial_census_table.relabeled('POPESTIMATE2010', '2010').relabeled('POPESTIMATE2014', '2014')\n",
    "us_pop"
   ]
  },
  {
   "cell_type": "code",
   "execution_count": 445,
   "metadata": {},
   "outputs": [],
   "source": [
    "increase_in_pop = us_pop.column('2014')-us_pop.column('2010')"
   ]
  },
  {
   "cell_type": "code",
   "execution_count": 446,
   "metadata": {},
   "outputs": [
    {
     "data": {
      "text/plain": [
       "array([  -1555,   -8112, -131198, -104841,  -71835,  -57753,   62917,\n",
       "        112280,   95299,  -17066,  -70120,  -28109,  -42597,   51364,\n",
       "         88225,  -66206, -144693, -189854, -263085, -242373, -147187,\n",
       "        104417,  328724,  484928,  451809,  221942,  247237,   97780,\n",
       "        107699,  181502,  -48905,  280701,  356349,  345083,  542559,\n",
       "        147447,  186512,   79984, -218592, -341956, -528085, -243668,\n",
       "         14986,  240006,  211775, -275930, -452565, -452590, -374925,\n",
       "       -188852, -153824,   -9581,    -396,   96027,  286313,  162886,\n",
       "        302813,  400505,  388913,  461267,  368877,  314258,  190223,\n",
       "        -80557,  781504,  704299,  725725,  791534,  212543,  366465,\n",
       "        402861,  566098,  310125,  251396,  203518,  141878,  211994,\n",
       "        106931,   78429,   58281,  -57188,    1754,   -6674,    7161,\n",
       "         47346,    7934,   32174,   47480,   36745,   51635,   62750,\n",
       "         80872,   64071,   65821,   46553,   25211,   23324,   14196,\n",
       "         12689,    9290,   17216, 9560538,    1906,   -1931,  -65012,\n",
       "        -51676,  -39795,  -32234,   31650,   59693,   51156,   -9347,\n",
       "        -41905,  -20628,  -27813,   23965,   42011,  -41380,  -83607,\n",
       "       -113477, -139989, -112996,  -60629,   71834,  182260,  251226,\n",
       "        231690,  119744,  138550,   66340,   73768,  107559,  -25255,\n",
       "        145400,  181410,  177907,  284146,   73241,   98472,   45351,\n",
       "       -104919, -162006, -272315, -132699,     425,  116978,  109876,\n",
       "       -134479, -215741, -218423, -176904,  -82244,  -79095,   -4381,\n",
       "           640,   48405,  151117,   83228,  156488,  199807,  188772,\n",
       "        227107,  171509,  145255,   83820,  -52889,  368982,  334086,\n",
       "        348929,  382853,  105579,  180090,  194435,  265857,  148053,\n",
       "        118027,   98140,   77297,  104290,   58295,   45922,   36230,\n",
       "         -9989,   14235,   13227,   18531,   34700,   20681,   26647,\n",
       "         28802,   23235,   24389,   28245,   33134,   25802,   25277,\n",
       "         17864,   10820,    9031,    5535,    4013,    2847,    4266,\n",
       "       4867294,   -3461,   -6181,  -66186,  -53165,  -32040,  -25519,\n",
       "         31267,   52587,   44143,   -7719,  -28215,   -7481,  -14784,\n",
       "         27399,   46214,  -24826,  -61086,  -76377, -123096, -129377,\n",
       "        -86558,   32583,  146464,  233702,  220119,  102198,  108687,\n",
       "         31440,   33931,   73943,  -23650,  135301,  174939,  167176,\n",
       "        258413,   74206,   88040,   34633, -113673, -179950, -255770,\n",
       "       -110969,   14561,  123028,  101899, -141451, -236824, -234167,\n",
       "       -198021, -106608,  -74729,   -5200,   -1036,   47622,  135196,\n",
       "         79658,  146325,  200698,  200141,  234160,  197368,  169003,\n",
       "        106403,  -27668,  412522,  370213,  376796,  408681,  106964,\n",
       "        186375,  208426,  300241,  162072,  133369,  105378,   64581,\n",
       "        107704,   48636,   32507,   22051,  -47199,  -12481,  -19901,\n",
       "        -11370,   12646,  -12747,    5527,   18678,   13510,   27246,\n",
       "         34505,   47738,   38269,   40544,   28689,   14391,   14293,\n",
       "          8661,    8676,    6443,   12950, 4693244])"
      ]
     },
     "execution_count": 446,
     "metadata": {},
     "output_type": "execute_result"
    }
   ],
   "source": [
    "increase_in_pop"
   ]
  },
  {
   "cell_type": "code",
   "execution_count": 447,
   "metadata": {},
   "outputs": [],
   "source": [
    "#Adding 2 columns \n",
    "#one equating the array to a column called change\n",
    "#second creating a new column called %change (by using the aaray and an old column)\n",
    "census = us_pop.with_columns(\n",
    "    'Change', increase_in_pop, '%change', increase_in_pop/us_pop.column('2010'))"
   ]
  },
  {
   "cell_type": "code",
   "execution_count": 448,
   "metadata": {},
   "outputs": [
    {
     "data": {
      "text/html": [
       "<table border=\"1\" class=\"dataframe\">\n",
       "    <thead>\n",
       "        <tr>\n",
       "            <th>SEX</th> <th>AGE</th> <th>2010</th> <th>2014</th> <th>Change</th> <th>%change</th>\n",
       "        </tr>\n",
       "    </thead>\n",
       "    <tbody>\n",
       "        <tr>\n",
       "            <td>0   </td> <td>0   </td> <td>3951330</td> <td>3949775</td> <td>-1555  </td> <td>-0.000393538</td>\n",
       "        </tr>\n",
       "        <tr>\n",
       "            <td>0   </td> <td>1   </td> <td>3957888</td> <td>3949776</td> <td>-8112  </td> <td>-0.00204958 </td>\n",
       "        </tr>\n",
       "        <tr>\n",
       "            <td>0   </td> <td>2   </td> <td>4090862</td> <td>3959664</td> <td>-131198</td> <td>-0.032071   </td>\n",
       "        </tr>\n",
       "        <tr>\n",
       "            <td>0   </td> <td>3   </td> <td>4111920</td> <td>4007079</td> <td>-104841</td> <td>-0.0254968  </td>\n",
       "        </tr>\n",
       "        <tr>\n",
       "            <td>0   </td> <td>4   </td> <td>4077551</td> <td>4005716</td> <td>-71835 </td> <td>-0.0176172  </td>\n",
       "        </tr>\n",
       "        <tr>\n",
       "            <td>0   </td> <td>5   </td> <td>4064653</td> <td>4006900</td> <td>-57753 </td> <td>-0.0142086  </td>\n",
       "        </tr>\n",
       "        <tr>\n",
       "            <td>0   </td> <td>6   </td> <td>4073013</td> <td>4135930</td> <td>62917  </td> <td>0.0154473   </td>\n",
       "        </tr>\n",
       "        <tr>\n",
       "            <td>0   </td> <td>7   </td> <td>4043046</td> <td>4155326</td> <td>112280 </td> <td>0.0277711   </td>\n",
       "        </tr>\n",
       "        <tr>\n",
       "            <td>0   </td> <td>8   </td> <td>4025604</td> <td>4120903</td> <td>95299  </td> <td>0.0236732   </td>\n",
       "        </tr>\n",
       "        <tr>\n",
       "            <td>0   </td> <td>9   </td> <td>4125415</td> <td>4108349</td> <td>-17066 </td> <td>-0.0041368  </td>\n",
       "        </tr>\n",
       "    </tbody>\n",
       "</table>\n",
       "<p>... (296 rows omitted)</p>"
      ],
      "text/plain": [
       "SEX  | AGE  | 2010    | 2014    | Change  | %change\n",
       "0    | 0    | 3951330 | 3949775 | -1555   | -0.000393538\n",
       "0    | 1    | 3957888 | 3949776 | -8112   | -0.00204958\n",
       "0    | 2    | 4090862 | 3959664 | -131198 | -0.032071\n",
       "0    | 3    | 4111920 | 4007079 | -104841 | -0.0254968\n",
       "0    | 4    | 4077551 | 4005716 | -71835  | -0.0176172\n",
       "0    | 5    | 4064653 | 4006900 | -57753  | -0.0142086\n",
       "0    | 6    | 4073013 | 4135930 | 62917   | 0.0154473\n",
       "0    | 7    | 4043046 | 4155326 | 112280  | 0.0277711\n",
       "0    | 8    | 4025604 | 4120903 | 95299   | 0.0236732\n",
       "0    | 9    | 4125415 | 4108349 | -17066  | -0.0041368\n",
       "... (296 rows omitted)"
      ]
     },
     "execution_count": 448,
     "metadata": {},
     "output_type": "execute_result"
    }
   ],
   "source": [
    "census"
   ]
  },
  {
   "cell_type": "code",
   "execution_count": 449,
   "metadata": {},
   "outputs": [
    {
     "data": {
      "text/html": [
       "<table border=\"1\" class=\"dataframe\">\n",
       "    <thead>\n",
       "        <tr>\n",
       "            <th>SEX</th> <th>AGE</th> <th>2010</th> <th>2014</th> <th>Change</th> <th>%change</th>\n",
       "        </tr>\n",
       "    </thead>\n",
       "    <tbody>\n",
       "        <tr>\n",
       "            <td>0   </td> <td>0   </td> <td>3951330</td> <td>3949775</td> <td>-1555  </td> <td>-0.04% </td>\n",
       "        </tr>\n",
       "        <tr>\n",
       "            <td>0   </td> <td>1   </td> <td>3957888</td> <td>3949776</td> <td>-8112  </td> <td>-0.20% </td>\n",
       "        </tr>\n",
       "        <tr>\n",
       "            <td>0   </td> <td>2   </td> <td>4090862</td> <td>3959664</td> <td>-131198</td> <td>-3.21% </td>\n",
       "        </tr>\n",
       "        <tr>\n",
       "            <td>0   </td> <td>3   </td> <td>4111920</td> <td>4007079</td> <td>-104841</td> <td>-2.55% </td>\n",
       "        </tr>\n",
       "        <tr>\n",
       "            <td>0   </td> <td>4   </td> <td>4077551</td> <td>4005716</td> <td>-71835 </td> <td>-1.76% </td>\n",
       "        </tr>\n",
       "        <tr>\n",
       "            <td>0   </td> <td>5   </td> <td>4064653</td> <td>4006900</td> <td>-57753 </td> <td>-1.42% </td>\n",
       "        </tr>\n",
       "        <tr>\n",
       "            <td>0   </td> <td>6   </td> <td>4073013</td> <td>4135930</td> <td>62917  </td> <td>1.54%  </td>\n",
       "        </tr>\n",
       "        <tr>\n",
       "            <td>0   </td> <td>7   </td> <td>4043046</td> <td>4155326</td> <td>112280 </td> <td>2.78%  </td>\n",
       "        </tr>\n",
       "        <tr>\n",
       "            <td>0   </td> <td>8   </td> <td>4025604</td> <td>4120903</td> <td>95299  </td> <td>2.37%  </td>\n",
       "        </tr>\n",
       "        <tr>\n",
       "            <td>0   </td> <td>9   </td> <td>4125415</td> <td>4108349</td> <td>-17066 </td> <td>-0.41% </td>\n",
       "        </tr>\n",
       "    </tbody>\n",
       "</table>\n",
       "<p>... (296 rows omitted)</p>"
      ],
      "text/plain": [
       "SEX  | AGE  | 2010    | 2014    | Change  | %change\n",
       "0    | 0    | 3951330 | 3949775 | -1555   | -0.04%\n",
       "0    | 1    | 3957888 | 3949776 | -8112   | -0.20%\n",
       "0    | 2    | 4090862 | 3959664 | -131198 | -3.21%\n",
       "0    | 3    | 4111920 | 4007079 | -104841 | -2.55%\n",
       "0    | 4    | 4077551 | 4005716 | -71835  | -1.76%\n",
       "0    | 5    | 4064653 | 4006900 | -57753  | -1.42%\n",
       "0    | 6    | 4073013 | 4135930 | 62917   | 1.54%\n",
       "0    | 7    | 4043046 | 4155326 | 112280  | 2.78%\n",
       "0    | 8    | 4025604 | 4120903 | 95299   | 2.37%\n",
       "0    | 9    | 4125415 | 4108349 | -17066  | -0.41%\n",
       "... (296 rows omitted)"
      ]
     },
     "execution_count": 449,
     "metadata": {},
     "output_type": "execute_result"
    }
   ],
   "source": [
    "census.set_format('%change', PercentFormatter)\n"
   ]
  },
  {
   "cell_type": "code",
   "execution_count": 450,
   "metadata": {},
   "outputs": [
    {
     "data": {
      "text/html": [
       "<table border=\"1\" class=\"dataframe\">\n",
       "    <thead>\n",
       "        <tr>\n",
       "            <th>SEX</th> <th>AGE</th> <th>2010</th> <th>2014</th> <th>Change</th> <th>%change</th>\n",
       "        </tr>\n",
       "    </thead>\n",
       "    <tbody>\n",
       "        <tr>\n",
       "            <td>0   </td> <td>40  </td> <td>4387480</td> <td>3859395</td> <td>-528085</td> <td>-12.04%</td>\n",
       "        </tr>\n",
       "        <tr>\n",
       "            <td>0   </td> <td>47  </td> <td>4535473</td> <td>4082883</td> <td>-452590</td> <td>-9.98% </td>\n",
       "        </tr>\n",
       "        <tr>\n",
       "            <td>0   </td> <td>46  </td> <td>4529716</td> <td>4077151</td> <td>-452565</td> <td>-9.99% </td>\n",
       "        </tr>\n",
       "        <tr>\n",
       "            <td>0   </td> <td>48  </td> <td>4534663</td> <td>4159738</td> <td>-374925</td> <td>-8.27% </td>\n",
       "        </tr>\n",
       "        <tr>\n",
       "            <td>0   </td> <td>39  </td> <td>4324463</td> <td>3982507</td> <td>-341956</td> <td>-7.91% </td>\n",
       "        </tr>\n",
       "        <tr>\n",
       "            <td>0   </td> <td>45  </td> <td>4438559</td> <td>4162629</td> <td>-275930</td> <td>-6.22% </td>\n",
       "        </tr>\n",
       "        <tr>\n",
       "            <td>1   </td> <td>40  </td> <td>2189516</td> <td>1917201</td> <td>-272315</td> <td>-12.44%</td>\n",
       "        </tr>\n",
       "        <tr>\n",
       "            <td>0   </td> <td>18  </td> <td>4491005</td> <td>4227920</td> <td>-263085</td> <td>-5.86% </td>\n",
       "        </tr>\n",
       "        <tr>\n",
       "            <td>2   </td> <td>40  </td> <td>2197964</td> <td>1942194</td> <td>-255770</td> <td>-11.64%</td>\n",
       "        </tr>\n",
       "        <tr>\n",
       "            <td>0   </td> <td>41  </td> <td>4163478</td> <td>3919810</td> <td>-243668</td> <td>-5.85% </td>\n",
       "        </tr>\n",
       "    </tbody>\n",
       "</table>\n",
       "<p>... (296 rows omitted)</p>"
      ],
      "text/plain": [
       "SEX  | AGE  | 2010    | 2014    | Change  | %change\n",
       "0    | 40   | 4387480 | 3859395 | -528085 | -12.04%\n",
       "0    | 47   | 4535473 | 4082883 | -452590 | -9.98%\n",
       "0    | 46   | 4529716 | 4077151 | -452565 | -9.99%\n",
       "0    | 48   | 4534663 | 4159738 | -374925 | -8.27%\n",
       "0    | 39   | 4324463 | 3982507 | -341956 | -7.91%\n",
       "0    | 45   | 4438559 | 4162629 | -275930 | -6.22%\n",
       "1    | 40   | 2189516 | 1917201 | -272315 | -12.44%\n",
       "0    | 18   | 4491005 | 4227920 | -263085 | -5.86%\n",
       "2    | 40   | 2197964 | 1942194 | -255770 | -11.64%\n",
       "0    | 41   | 4163478 | 3919810 | -243668 | -5.85%\n",
       "... (296 rows omitted)"
      ]
     },
     "execution_count": 450,
     "metadata": {},
     "output_type": "execute_result"
    }
   ],
   "source": [
    "census.sort('Change')"
   ]
  },
  {
   "cell_type": "code",
   "execution_count": 451,
   "metadata": {},
   "outputs": [
    {
     "data": {
      "text/html": [
       "<table border=\"1\" class=\"dataframe\">\n",
       "    <thead>\n",
       "        <tr>\n",
       "            <th>SEX</th> <th>AGE</th> <th>2010</th> <th>2014</th> <th>Change</th> <th>%change</th>\n",
       "        </tr>\n",
       "    </thead>\n",
       "    <tbody>\n",
       "        <tr>\n",
       "            <td>0   </td> <td>999 </td> <td>309346863</td> <td>318907401</td> <td>9560538</td> <td>3.09%  </td>\n",
       "        </tr>\n",
       "        <tr>\n",
       "            <td>1   </td> <td>999 </td> <td>152088043</td> <td>156955337</td> <td>4867294</td> <td>3.20%  </td>\n",
       "        </tr>\n",
       "        <tr>\n",
       "            <td>2   </td> <td>999 </td> <td>157258820</td> <td>161952064</td> <td>4693244</td> <td>2.98%  </td>\n",
       "        </tr>\n",
       "        <tr>\n",
       "            <td>0   </td> <td>67  </td> <td>2693707  </td> <td>3485241  </td> <td>791534 </td> <td>29.38% </td>\n",
       "        </tr>\n",
       "        <tr>\n",
       "            <td>0   </td> <td>64  </td> <td>2706055  </td> <td>3487559  </td> <td>781504 </td> <td>28.88% </td>\n",
       "        </tr>\n",
       "        <tr>\n",
       "            <td>0   </td> <td>66  </td> <td>2621335  </td> <td>3347060  </td> <td>725725 </td> <td>27.69% </td>\n",
       "        </tr>\n",
       "        <tr>\n",
       "            <td>0   </td> <td>65  </td> <td>2678525  </td> <td>3382824  </td> <td>704299 </td> <td>26.29% </td>\n",
       "        </tr>\n",
       "        <tr>\n",
       "            <td>0   </td> <td>71  </td> <td>1953607  </td> <td>2519705  </td> <td>566098 </td> <td>28.98% </td>\n",
       "        </tr>\n",
       "        <tr>\n",
       "            <td>0   </td> <td>34  </td> <td>3822189  </td> <td>4364748  </td> <td>542559 </td> <td>14.19% </td>\n",
       "        </tr>\n",
       "        <tr>\n",
       "            <td>0   </td> <td>23  </td> <td>4217228  </td> <td>4702156  </td> <td>484928 </td> <td>11.50% </td>\n",
       "        </tr>\n",
       "    </tbody>\n",
       "</table>\n",
       "<p>... (296 rows omitted)</p>"
      ],
      "text/plain": [
       "SEX  | AGE  | 2010      | 2014      | Change  | %change\n",
       "0    | 999  | 309346863 | 318907401 | 9560538 | 3.09%\n",
       "1    | 999  | 152088043 | 156955337 | 4867294 | 3.20%\n",
       "2    | 999  | 157258820 | 161952064 | 4693244 | 2.98%\n",
       "0    | 67   | 2693707   | 3485241   | 791534  | 29.38%\n",
       "0    | 64   | 2706055   | 3487559   | 781504  | 28.88%\n",
       "0    | 66   | 2621335   | 3347060   | 725725  | 27.69%\n",
       "0    | 65   | 2678525   | 3382824   | 704299  | 26.29%\n",
       "0    | 71   | 1953607   | 2519705   | 566098  | 28.98%\n",
       "0    | 34   | 3822189   | 4364748   | 542559  | 14.19%\n",
       "0    | 23   | 4217228   | 4702156   | 484928  | 11.50%\n",
       "... (296 rows omitted)"
      ]
     },
     "execution_count": 451,
     "metadata": {},
     "output_type": "execute_result"
    }
   ],
   "source": [
    "census.sort('Change', descending=True)"
   ]
  },
  {
   "cell_type": "code",
   "execution_count": 452,
   "metadata": {},
   "outputs": [
    {
     "data": {
      "text/html": [
       "<table border=\"1\" class=\"dataframe\">\n",
       "    <thead>\n",
       "        <tr>\n",
       "            <th>SEX</th> <th>AGE</th> <th>2010</th> <th>2014</th>\n",
       "        </tr>\n",
       "    </thead>\n",
       "    <tbody>\n",
       "        <tr>\n",
       "            <td>0   </td> <td>0   </td> <td>3951330</td> <td>3949775</td>\n",
       "        </tr>\n",
       "        <tr>\n",
       "            <td>0   </td> <td>1   </td> <td>3957888</td> <td>3949776</td>\n",
       "        </tr>\n",
       "        <tr>\n",
       "            <td>0   </td> <td>2   </td> <td>4090862</td> <td>3959664</td>\n",
       "        </tr>\n",
       "        <tr>\n",
       "            <td>0   </td> <td>3   </td> <td>4111920</td> <td>4007079</td>\n",
       "        </tr>\n",
       "        <tr>\n",
       "            <td>0   </td> <td>4   </td> <td>4077551</td> <td>4005716</td>\n",
       "        </tr>\n",
       "        <tr>\n",
       "            <td>0   </td> <td>5   </td> <td>4064653</td> <td>4006900</td>\n",
       "        </tr>\n",
       "        <tr>\n",
       "            <td>0   </td> <td>6   </td> <td>4073013</td> <td>4135930</td>\n",
       "        </tr>\n",
       "        <tr>\n",
       "            <td>0   </td> <td>7   </td> <td>4043046</td> <td>4155326</td>\n",
       "        </tr>\n",
       "        <tr>\n",
       "            <td>0   </td> <td>8   </td> <td>4025604</td> <td>4120903</td>\n",
       "        </tr>\n",
       "        <tr>\n",
       "            <td>0   </td> <td>9   </td> <td>4125415</td> <td>4108349</td>\n",
       "        </tr>\n",
       "    </tbody>\n",
       "</table>\n",
       "<p>... (296 rows omitted)</p>"
      ],
      "text/plain": [
       "SEX  | AGE  | 2010    | 2014\n",
       "0    | 0    | 3951330 | 3949775\n",
       "0    | 1    | 3957888 | 3949776\n",
       "0    | 2    | 4090862 | 3959664\n",
       "0    | 3    | 4111920 | 4007079\n",
       "0    | 4    | 4077551 | 4005716\n",
       "0    | 5    | 4064653 | 4006900\n",
       "0    | 6    | 4073013 | 4135930\n",
       "0    | 7    | 4043046 | 4155326\n",
       "0    | 8    | 4025604 | 4120903\n",
       "0    | 9    | 4125415 | 4108349\n",
       "... (296 rows omitted)"
      ]
     },
     "execution_count": 452,
     "metadata": {},
     "output_type": "execute_result"
    }
   ],
   "source": [
    "us_pop\n"
   ]
  },
  {
   "cell_type": "markdown",
   "metadata": {},
   "source": [
    "The SEX column contains numeric codes: 0 stands for the total, 1 for male, and 2 for female. The AGE column contains ages in completed years, but the special value 999 represents the entire population regardless of age. \n"
   ]
  },
  {
   "cell_type": "code",
   "execution_count": 453,
   "metadata": {},
   "outputs": [
    {
     "data": {
      "text/html": [
       "<table border=\"1\" class=\"dataframe\">\n",
       "    <thead>\n",
       "        <tr>\n",
       "            <th>SEX</th> <th>AGE</th> <th>2010</th> <th>2014</th>\n",
       "        </tr>\n",
       "    </thead>\n",
       "    <tbody>\n",
       "        <tr>\n",
       "            <td>0   </td> <td>97  </td> <td>68893</td> <td>83089</td>\n",
       "        </tr>\n",
       "        <tr>\n",
       "            <td>0   </td> <td>98  </td> <td>47037</td> <td>59726</td>\n",
       "        </tr>\n",
       "        <tr>\n",
       "            <td>0   </td> <td>99  </td> <td>32178</td> <td>41468</td>\n",
       "        </tr>\n",
       "        <tr>\n",
       "            <td>0   </td> <td>100 </td> <td>54410</td> <td>71626</td>\n",
       "        </tr>\n",
       "    </tbody>\n",
       "</table>"
      ],
      "text/plain": [
       "SEX  | AGE  | 2010  | 2014\n",
       "0    | 97   | 68893 | 83089\n",
       "0    | 98   | 47037 | 59726\n",
       "0    | 99   | 32178 | 41468\n",
       "0    | 100  | 54410 | 71626"
      ]
     },
     "execution_count": 453,
     "metadata": {},
     "output_type": "execute_result"
    }
   ],
   "source": [
    "us_pop.where('SEX', are.equal_to(0)).where('AGE', are.between(97, 101))"
   ]
  },
  {
   "cell_type": "markdown",
   "metadata": {},
   "source": [
    "Understanding AGE = 100\n"
   ]
  },
  {
   "cell_type": "markdown",
   "metadata": {},
   "source": [
    "Not surprisingly, the numbers of people are smaller at higher ages – for example, there are fewer 99-year-olds than 98-year-olds.It does come as a surprise, though, that the numbers for AGE 100 are quite a bit larger than those for age 99. A closer examination of the documentation shows that it’s because the Census Bureau used 100 as the code for everyone aged 100 or more.\n",
    "\n"
   ]
  },
  {
   "cell_type": "code",
   "execution_count": 454,
   "metadata": {},
   "outputs": [],
   "source": [
    "us_pop_2014 = us_pop.drop('2010')"
   ]
  },
  {
   "cell_type": "code",
   "execution_count": 455,
   "metadata": {},
   "outputs": [
    {
     "data": {
      "text/html": [
       "<table border=\"1\" class=\"dataframe\">\n",
       "    <thead>\n",
       "        <tr>\n",
       "            <th>SEX</th> <th>AGE</th> <th>2014</th>\n",
       "        </tr>\n",
       "    </thead>\n",
       "    <tbody>\n",
       "        <tr>\n",
       "            <td>0   </td> <td>0   </td> <td>3949775</td>\n",
       "        </tr>\n",
       "        <tr>\n",
       "            <td>0   </td> <td>1   </td> <td>3949776</td>\n",
       "        </tr>\n",
       "        <tr>\n",
       "            <td>0   </td> <td>2   </td> <td>3959664</td>\n",
       "        </tr>\n",
       "        <tr>\n",
       "            <td>0   </td> <td>3   </td> <td>4007079</td>\n",
       "        </tr>\n",
       "        <tr>\n",
       "            <td>0   </td> <td>4   </td> <td>4005716</td>\n",
       "        </tr>\n",
       "        <tr>\n",
       "            <td>0   </td> <td>5   </td> <td>4006900</td>\n",
       "        </tr>\n",
       "        <tr>\n",
       "            <td>0   </td> <td>6   </td> <td>4135930</td>\n",
       "        </tr>\n",
       "        <tr>\n",
       "            <td>0   </td> <td>7   </td> <td>4155326</td>\n",
       "        </tr>\n",
       "        <tr>\n",
       "            <td>0   </td> <td>8   </td> <td>4120903</td>\n",
       "        </tr>\n",
       "        <tr>\n",
       "            <td>0   </td> <td>9   </td> <td>4108349</td>\n",
       "        </tr>\n",
       "    </tbody>\n",
       "</table>\n",
       "<p>... (296 rows omitted)</p>"
      ],
      "text/plain": [
       "SEX  | AGE  | 2014\n",
       "0    | 0    | 3949775\n",
       "0    | 1    | 3949776\n",
       "0    | 2    | 3959664\n",
       "0    | 3    | 4007079\n",
       "0    | 4    | 4005716\n",
       "0    | 5    | 4006900\n",
       "0    | 6    | 4135930\n",
       "0    | 7    | 4155326\n",
       "0    | 8    | 4120903\n",
       "0    | 9    | 4108349\n",
       "... (296 rows omitted)"
      ]
     },
     "execution_count": 455,
     "metadata": {},
     "output_type": "execute_result"
    }
   ],
   "source": [
    "us_pop_2014"
   ]
  },
  {
   "cell_type": "code",
   "execution_count": 456,
   "metadata": {},
   "outputs": [
    {
     "data": {
      "text/html": [
       "<table border=\"1\" class=\"dataframe\">\n",
       "    <thead>\n",
       "        <tr>\n",
       "            <th>SEX</th> <th>AGE</th> <th>2014</th>\n",
       "        </tr>\n",
       "    </thead>\n",
       "    <tbody>\n",
       "        <tr>\n",
       "            <td>0   </td> <td>999 </td> <td>318907401</td>\n",
       "        </tr>\n",
       "        <tr>\n",
       "            <td>1   </td> <td>999 </td> <td>156955337</td>\n",
       "        </tr>\n",
       "        <tr>\n",
       "            <td>2   </td> <td>999 </td> <td>161952064</td>\n",
       "        </tr>\n",
       "    </tbody>\n",
       "</table>"
      ],
      "text/plain": [
       "SEX  | AGE  | 2014\n",
       "0    | 999  | 318907401\n",
       "1    | 999  | 156955337\n",
       "2    | 999  | 161952064"
      ]
     },
     "execution_count": 456,
     "metadata": {},
     "output_type": "execute_result"
    }
   ],
   "source": [
    "all_ages = us_pop_2014.where('AGE', are.equal_to(999))\n",
    "all_ages\n",
    "#999 is all ages"
   ]
  },
  {
   "cell_type": "code",
   "execution_count": 457,
   "metadata": {},
   "outputs": [],
   "source": [
    "pop_2014 = all_ages.column('2014').item(0)"
   ]
  },
  {
   "cell_type": "code",
   "execution_count": 458,
   "metadata": {},
   "outputs": [
    {
     "data": {
      "text/plain": [
       "318907401"
      ]
     },
     "execution_count": 458,
     "metadata": {},
     "output_type": "execute_result"
    }
   ],
   "source": [
    "pop_2014"
   ]
  },
  {
   "cell_type": "code",
   "execution_count": 459,
   "metadata": {},
   "outputs": [
    {
     "data": {
      "text/html": [
       "<table border=\"1\" class=\"dataframe\">\n",
       "    <thead>\n",
       "        <tr>\n",
       "            <th>SEX</th> <th>AGE</th> <th>2014</th> <th>Proportion</th>\n",
       "        </tr>\n",
       "    </thead>\n",
       "    <tbody>\n",
       "        <tr>\n",
       "            <td>0   </td> <td>999 </td> <td>318907401</td> <td>100.00%   </td>\n",
       "        </tr>\n",
       "        <tr>\n",
       "            <td>1   </td> <td>999 </td> <td>156955337</td> <td>49.22%    </td>\n",
       "        </tr>\n",
       "        <tr>\n",
       "            <td>2   </td> <td>999 </td> <td>161952064</td> <td>50.78%    </td>\n",
       "        </tr>\n",
       "    </tbody>\n",
       "</table>"
      ],
      "text/plain": [
       "SEX  | AGE  | 2014      | Proportion\n",
       "0    | 999  | 318907401 | 100.00%\n",
       "1    | 999  | 156955337 | 49.22%\n",
       "2    | 999  | 161952064 | 50.78%"
      ]
     },
     "execution_count": 459,
     "metadata": {},
     "output_type": "execute_result"
    }
   ],
   "source": [
    "all_ages.with_column(\n",
    "    'Proportion', all_ages.column('2014')/pop_2014\n",
    ").set_format('Proportion', PercentFormatter)\n",
    "\n"
   ]
  },
  {
   "cell_type": "code",
   "execution_count": 460,
   "metadata": {},
   "outputs": [
    {
     "data": {
      "text/html": [
       "<table border=\"1\" class=\"dataframe\">\n",
       "    <thead>\n",
       "        <tr>\n",
       "            <th>SEX</th> <th>AGE</th> <th>2014</th>\n",
       "        </tr>\n",
       "    </thead>\n",
       "    <tbody>\n",
       "        <tr>\n",
       "            <td>0   </td> <td>0   </td> <td>3949775</td>\n",
       "        </tr>\n",
       "        <tr>\n",
       "            <td>1   </td> <td>0   </td> <td>2020326</td>\n",
       "        </tr>\n",
       "        <tr>\n",
       "            <td>2   </td> <td>0   </td> <td>1929449</td>\n",
       "        </tr>\n",
       "    </tbody>\n",
       "</table>"
      ],
      "text/plain": [
       "SEX  | AGE  | 2014\n",
       "0    | 0    | 3949775\n",
       "1    | 0    | 2020326\n",
       "2    | 0    | 1929449"
      ]
     },
     "execution_count": 460,
     "metadata": {},
     "output_type": "execute_result"
    }
   ],
   "source": [
    "infants = us_pop_2014.where('AGE', are.equal_to(0))\n",
    "infants\n"
   ]
  },
  {
   "cell_type": "code",
   "execution_count": 461,
   "metadata": {},
   "outputs": [
    {
     "data": {
      "text/html": [
       "<table border=\"1\" class=\"dataframe\">\n",
       "    <thead>\n",
       "        <tr>\n",
       "            <th>SEX</th> <th>AGE</th> <th>2014</th> <th>Proportion</th>\n",
       "        </tr>\n",
       "    </thead>\n",
       "    <tbody>\n",
       "        <tr>\n",
       "            <td>0   </td> <td>0   </td> <td>3949775</td> <td>100.00%   </td>\n",
       "        </tr>\n",
       "        <tr>\n",
       "            <td>1   </td> <td>0   </td> <td>2020326</td> <td>51.15%    </td>\n",
       "        </tr>\n",
       "        <tr>\n",
       "            <td>2   </td> <td>0   </td> <td>1929449</td> <td>48.85%    </td>\n",
       "        </tr>\n",
       "    </tbody>\n",
       "</table>"
      ],
      "text/plain": [
       "SEX  | AGE  | 2014    | Proportion\n",
       "0    | 0    | 3949775 | 100.00%\n",
       "1    | 0    | 2020326 | 51.15%\n",
       "2    | 0    | 1929449 | 48.85%"
      ]
     },
     "execution_count": 461,
     "metadata": {},
     "output_type": "execute_result"
    }
   ],
   "source": [
    "\n",
    "infants_2014 = infants.column('2014').item(0)\n",
    "infants.with_column(\n",
    "    'Proportion', infants.column('2014')/infants_2014\n",
    ").set_format('Proportion', PercentFormatter)"
   ]
  },
  {
   "cell_type": "markdown",
   "metadata": {},
   "source": [
    "male female gender ratio.\n",
    "To study this variation, we will separate out the data for the females and the males, and eliminate the row where all the ages are aggregated and AGE is coded as 999.\n",
    "\n"
   ]
  },
  {
   "cell_type": "code",
   "execution_count": 462,
   "metadata": {},
   "outputs": [
    {
     "data": {
      "text/html": [
       "<table border=\"1\" class=\"dataframe\">\n",
       "    <thead>\n",
       "        <tr>\n",
       "            <th>SEX</th> <th>AGE</th> <th>2014</th>\n",
       "        </tr>\n",
       "    </thead>\n",
       "    <tbody>\n",
       "        <tr>\n",
       "            <td>2   </td> <td>0   </td> <td>1929449</td>\n",
       "        </tr>\n",
       "        <tr>\n",
       "            <td>2   </td> <td>1   </td> <td>1931375</td>\n",
       "        </tr>\n",
       "        <tr>\n",
       "            <td>2   </td> <td>2   </td> <td>1935991</td>\n",
       "        </tr>\n",
       "        <tr>\n",
       "            <td>2   </td> <td>3   </td> <td>1957483</td>\n",
       "        </tr>\n",
       "        <tr>\n",
       "            <td>2   </td> <td>4   </td> <td>1961199</td>\n",
       "        </tr>\n",
       "        <tr>\n",
       "            <td>2   </td> <td>5   </td> <td>1962561</td>\n",
       "        </tr>\n",
       "        <tr>\n",
       "            <td>2   </td> <td>6   </td> <td>2024870</td>\n",
       "        </tr>\n",
       "        <tr>\n",
       "            <td>2   </td> <td>7   </td> <td>2032494</td>\n",
       "        </tr>\n",
       "        <tr>\n",
       "            <td>2   </td> <td>8   </td> <td>2015285</td>\n",
       "        </tr>\n",
       "        <tr>\n",
       "            <td>2   </td> <td>9   </td> <td>2010659</td>\n",
       "        </tr>\n",
       "    </tbody>\n",
       "</table>\n",
       "<p>... (91 rows omitted)</p>"
      ],
      "text/plain": [
       "SEX  | AGE  | 2014\n",
       "2    | 0    | 1929449\n",
       "2    | 1    | 1931375\n",
       "2    | 2    | 1935991\n",
       "2    | 3    | 1957483\n",
       "2    | 4    | 1961199\n",
       "2    | 5    | 1962561\n",
       "2    | 6    | 2024870\n",
       "2    | 7    | 2032494\n",
       "2    | 8    | 2015285\n",
       "2    | 9    | 2010659\n",
       "... (91 rows omitted)"
      ]
     },
     "execution_count": 462,
     "metadata": {},
     "output_type": "execute_result"
    }
   ],
   "source": [
    "females_all_rows = us_pop_2014.where('SEX', are.equal_to(2))\n",
    "females = females_all_rows.where('AGE', are.not_equal_to(999))\n",
    "females"
   ]
  },
  {
   "cell_type": "code",
   "execution_count": 463,
   "metadata": {},
   "outputs": [
    {
     "data": {
      "text/html": [
       "<table border=\"1\" class=\"dataframe\">\n",
       "    <thead>\n",
       "        <tr>\n",
       "            <th>SEX</th> <th>AGE</th> <th>2014</th>\n",
       "        </tr>\n",
       "    </thead>\n",
       "    <tbody>\n",
       "        <tr>\n",
       "            <td>1   </td> <td>0   </td> <td>2020326</td>\n",
       "        </tr>\n",
       "        <tr>\n",
       "            <td>1   </td> <td>1   </td> <td>2018401</td>\n",
       "        </tr>\n",
       "        <tr>\n",
       "            <td>1   </td> <td>2   </td> <td>2023673</td>\n",
       "        </tr>\n",
       "        <tr>\n",
       "            <td>1   </td> <td>3   </td> <td>2049596</td>\n",
       "        </tr>\n",
       "        <tr>\n",
       "            <td>1   </td> <td>4   </td> <td>2044517</td>\n",
       "        </tr>\n",
       "        <tr>\n",
       "            <td>1   </td> <td>5   </td> <td>2044339</td>\n",
       "        </tr>\n",
       "        <tr>\n",
       "            <td>1   </td> <td>6   </td> <td>2111060</td>\n",
       "        </tr>\n",
       "        <tr>\n",
       "            <td>1   </td> <td>7   </td> <td>2122832</td>\n",
       "        </tr>\n",
       "        <tr>\n",
       "            <td>1   </td> <td>8   </td> <td>2105618</td>\n",
       "        </tr>\n",
       "        <tr>\n",
       "            <td>1   </td> <td>9   </td> <td>2097690</td>\n",
       "        </tr>\n",
       "    </tbody>\n",
       "</table>\n",
       "<p>... (91 rows omitted)</p>"
      ],
      "text/plain": [
       "SEX  | AGE  | 2014\n",
       "1    | 0    | 2020326\n",
       "1    | 1    | 2018401\n",
       "1    | 2    | 2023673\n",
       "1    | 3    | 2049596\n",
       "1    | 4    | 2044517\n",
       "1    | 5    | 2044339\n",
       "1    | 6    | 2111060\n",
       "1    | 7    | 2122832\n",
       "1    | 8    | 2105618\n",
       "1    | 9    | 2097690\n",
       "... (91 rows omitted)"
      ]
     },
     "execution_count": 463,
     "metadata": {},
     "output_type": "execute_result"
    }
   ],
   "source": [
    "males_all_rows = us_pop_2014.where('SEX', are.equal_to(1))\n",
    "males = males_all_rows.where('AGE', are.not_equal_to(999))\n",
    "males"
   ]
  },
  {
   "cell_type": "markdown",
   "metadata": {},
   "source": [
    "The plan now is to compare the number of women and the number of men at each age, for each of the two years. "
   ]
  },
  {
   "cell_type": "code",
   "execution_count": 464,
   "metadata": {},
   "outputs": [
    {
     "data": {
      "text/plain": [
       "array([  0,   1,   2,   3,   4,   5,   6,   7,   8,   9,  10,  11,  12,\n",
       "        13,  14,  15,  16,  17,  18,  19,  20,  21,  22,  23,  24,  25,\n",
       "        26,  27,  28,  29,  30,  31,  32,  33,  34,  35,  36,  37,  38,\n",
       "        39,  40,  41,  42,  43,  44,  45,  46,  47,  48,  49,  50,  51,\n",
       "        52,  53,  54,  55,  56,  57,  58,  59,  60,  61,  62,  63,  64,\n",
       "        65,  66,  67,  68,  69,  70,  71,  72,  73,  74,  75,  76,  77,\n",
       "        78,  79,  80,  81,  82,  83,  84,  85,  86,  87,  88,  89,  90,\n",
       "        91,  92,  93,  94,  95,  96,  97,  98,  99, 100])"
      ]
     },
     "execution_count": 464,
     "metadata": {},
     "output_type": "execute_result"
    }
   ],
   "source": [
    "males.column('AGE')"
   ]
  },
  {
   "cell_type": "code",
   "execution_count": 465,
   "metadata": {},
   "outputs": [
    {
     "data": {
      "text/plain": [
       "array([  0,   1,   2,   3,   4,   5,   6,   7,   8,   9,  10,  11,  12,\n",
       "        13,  14,  15,  16,  17,  18,  19,  20,  21,  22,  23,  24,  25,\n",
       "        26,  27,  28,  29,  30,  31,  32,  33,  34,  35,  36,  37,  38,\n",
       "        39,  40,  41,  42,  43,  44,  45,  46,  47,  48,  49,  50,  51,\n",
       "        52,  53,  54,  55,  56,  57,  58,  59,  60,  61,  62,  63,  64,\n",
       "        65,  66,  67,  68,  69,  70,  71,  72,  73,  74,  75,  76,  77,\n",
       "        78,  79,  80,  81,  82,  83,  84,  85,  86,  87,  88,  89,  90,\n",
       "        91,  92,  93,  94,  95,  96,  97,  98,  99, 100])"
      ]
     },
     "execution_count": 465,
     "metadata": {},
     "output_type": "execute_result"
    }
   ],
   "source": [
    "females.column('AGE')\n"
   ]
  },
  {
   "cell_type": "code",
   "execution_count": 466,
   "metadata": {},
   "outputs": [
    {
     "data": {
      "text/html": [
       "<table border=\"1\" class=\"dataframe\">\n",
       "    <thead>\n",
       "        <tr>\n",
       "            <th>AGE</th> <th>2014 F:M RATIO</th>\n",
       "        </tr>\n",
       "    </thead>\n",
       "    <tbody>\n",
       "        <tr>\n",
       "            <td>0   </td> <td>0.955019      </td>\n",
       "        </tr>\n",
       "        <tr>\n",
       "            <td>1   </td> <td>0.956884      </td>\n",
       "        </tr>\n",
       "        <tr>\n",
       "            <td>2   </td> <td>0.956672      </td>\n",
       "        </tr>\n",
       "        <tr>\n",
       "            <td>3   </td> <td>0.955058      </td>\n",
       "        </tr>\n",
       "        <tr>\n",
       "            <td>4   </td> <td>0.959248      </td>\n",
       "        </tr>\n",
       "        <tr>\n",
       "            <td>5   </td> <td>0.959998      </td>\n",
       "        </tr>\n",
       "        <tr>\n",
       "            <td>6   </td> <td>0.959172      </td>\n",
       "        </tr>\n",
       "        <tr>\n",
       "            <td>7   </td> <td>0.957445      </td>\n",
       "        </tr>\n",
       "        <tr>\n",
       "            <td>8   </td> <td>0.957099      </td>\n",
       "        </tr>\n",
       "        <tr>\n",
       "            <td>9   </td> <td>0.958511      </td>\n",
       "        </tr>\n",
       "    </tbody>\n",
       "</table>\n",
       "<p>... (91 rows omitted)</p>"
      ],
      "text/plain": [
       "AGE  | 2014 F:M RATIO\n",
       "0    | 0.955019\n",
       "1    | 0.956884\n",
       "2    | 0.956672\n",
       "3    | 0.955058\n",
       "4    | 0.959248\n",
       "5    | 0.959998\n",
       "6    | 0.959172\n",
       "7    | 0.957445\n",
       "8    | 0.957099\n",
       "9    | 0.958511\n",
       "... (91 rows omitted)"
      ]
     },
     "execution_count": 466,
     "metadata": {},
     "output_type": "execute_result"
    }
   ],
   "source": [
    "ratios = Table().with_columns(\n",
    "    'AGE', females.column('AGE'),\n",
    "    '2014 F:M RATIO', females.column('2014')/males.column('2014')\n",
    ")\n",
    "ratios"
   ]
  },
  {
   "cell_type": "code",
   "execution_count": 467,
   "metadata": {},
   "outputs": [
    {
     "data": {
      "text/html": [
       "<table border=\"1\" class=\"dataframe\">\n",
       "    <thead>\n",
       "        <tr>\n",
       "            <th>AGE</th> <th>2014 F:M RATIO</th>\n",
       "        </tr>\n",
       "    </thead>\n",
       "    <tbody>\n",
       "        <tr>\n",
       "            <td>76  </td> <td>1.23487       </td>\n",
       "        </tr>\n",
       "        <tr>\n",
       "            <td>77  </td> <td>1.25797       </td>\n",
       "        </tr>\n",
       "        <tr>\n",
       "            <td>78  </td> <td>1.28244       </td>\n",
       "        </tr>\n",
       "        <tr>\n",
       "            <td>79  </td> <td>1.31627       </td>\n",
       "        </tr>\n",
       "        <tr>\n",
       "            <td>80  </td> <td>1.34138       </td>\n",
       "        </tr>\n",
       "        <tr>\n",
       "            <td>81  </td> <td>1.37967       </td>\n",
       "        </tr>\n",
       "        <tr>\n",
       "            <td>82  </td> <td>1.41932       </td>\n",
       "        </tr>\n",
       "        <tr>\n",
       "            <td>83  </td> <td>1.46552       </td>\n",
       "        </tr>\n",
       "        <tr>\n",
       "            <td>84  </td> <td>1.52048       </td>\n",
       "        </tr>\n",
       "        <tr>\n",
       "            <td>85  </td> <td>1.5756        </td>\n",
       "        </tr>\n",
       "        <tr>\n",
       "            <td>86  </td> <td>1.65096       </td>\n",
       "        </tr>\n",
       "        <tr>\n",
       "            <td>87  </td> <td>1.72172       </td>\n",
       "        </tr>\n",
       "        <tr>\n",
       "            <td>88  </td> <td>1.81223       </td>\n",
       "        </tr>\n",
       "        <tr>\n",
       "            <td>89  </td> <td>1.91837       </td>\n",
       "        </tr>\n",
       "        <tr>\n",
       "            <td>90  </td> <td>2.01263       </td>\n",
       "        </tr>\n",
       "        <tr>\n",
       "            <td>91  </td> <td>2.09488       </td>\n",
       "        </tr>\n",
       "        <tr>\n",
       "            <td>92  </td> <td>2.2299        </td>\n",
       "        </tr>\n",
       "        <tr>\n",
       "            <td>93  </td> <td>2.33359       </td>\n",
       "        </tr>\n",
       "        <tr>\n",
       "            <td>94  </td> <td>2.52285       </td>\n",
       "        </tr>\n",
       "        <tr>\n",
       "            <td>95  </td> <td>2.67253       </td>\n",
       "        </tr>\n",
       "        <tr>\n",
       "            <td>96  </td> <td>2.87998       </td>\n",
       "        </tr>\n",
       "        <tr>\n",
       "            <td>97  </td> <td>3.09104       </td>\n",
       "        </tr>\n",
       "        <tr>\n",
       "            <td>98  </td> <td>3.41826       </td>\n",
       "        </tr>\n",
       "        <tr>\n",
       "            <td>99  </td> <td>3.63278       </td>\n",
       "        </tr>\n",
       "        <tr>\n",
       "            <td>100 </td> <td>4.25966       </td>\n",
       "        </tr>\n",
       "    </tbody>\n",
       "</table>"
      ],
      "text/plain": [
       "<IPython.core.display.HTML object>"
      ]
     },
     "metadata": {},
     "output_type": "display_data"
    }
   ],
   "source": [
    "ratios.where('AGE', are.above(75)).show()"
   ]
  },
  {
   "cell_type": "code",
   "execution_count": 468,
   "metadata": {},
   "outputs": [
    {
     "data": {
      "text/html": [
       "<table border=\"1\" class=\"dataframe\">\n",
       "    <thead>\n",
       "        <tr>\n",
       "            <th>AGE</th> <th>2014 F:M RATIO</th>\n",
       "        </tr>\n",
       "    </thead>\n",
       "    <tbody>\n",
       "        <tr>\n",
       "            <td>35  </td> <td>1.00001       </td>\n",
       "        </tr>\n",
       "        <tr>\n",
       "            <td>36  </td> <td>1.00247       </td>\n",
       "        </tr>\n",
       "        <tr>\n",
       "            <td>37  </td> <td>1.00857       </td>\n",
       "        </tr>\n",
       "        <tr>\n",
       "            <td>38  </td> <td>1.00799       </td>\n",
       "        </tr>\n",
       "        <tr>\n",
       "            <td>39  </td> <td>1.00457       </td>\n",
       "        </tr>\n",
       "        <tr>\n",
       "            <td>40  </td> <td>1.01304       </td>\n",
       "        </tr>\n",
       "        <tr>\n",
       "            <td>41  </td> <td>1.01927       </td>\n",
       "        </tr>\n",
       "        <tr>\n",
       "            <td>42  </td> <td>1.01638       </td>\n",
       "        </tr>\n",
       "        <tr>\n",
       "            <td>43  </td> <td>1.01766       </td>\n",
       "        </tr>\n",
       "        <tr>\n",
       "            <td>44  </td> <td>1.00979       </td>\n",
       "        </tr>\n",
       "        <tr>\n",
       "            <td>45  </td> <td>1.01344       </td>\n",
       "        </tr>\n",
       "        <tr>\n",
       "            <td>46  </td> <td>1.01537       </td>\n",
       "        </tr>\n",
       "        <tr>\n",
       "            <td>47  </td> <td>1.02171       </td>\n",
       "        </tr>\n",
       "        <tr>\n",
       "            <td>48  </td> <td>1.02087       </td>\n",
       "        </tr>\n",
       "        <tr>\n",
       "            <td>49  </td> <td>1.02285       </td>\n",
       "        </tr>\n",
       "        <tr>\n",
       "            <td>50  </td> <td>1.03114       </td>\n",
       "        </tr>\n",
       "        <tr>\n",
       "            <td>51  </td> <td>1.03564       </td>\n",
       "        </tr>\n",
       "        <tr>\n",
       "            <td>52  </td> <td>1.03849       </td>\n",
       "        </tr>\n",
       "        <tr>\n",
       "            <td>53  </td> <td>1.04361       </td>\n",
       "        </tr>\n",
       "        <tr>\n",
       "            <td>54  </td> <td>1.03979       </td>\n",
       "        </tr>\n",
       "        <tr>\n",
       "            <td>55  </td> <td>1.04865       </td>\n",
       "        </tr>\n",
       "        <tr>\n",
       "            <td>56  </td> <td>1.05328       </td>\n",
       "        </tr>\n",
       "        <tr>\n",
       "            <td>57  </td> <td>1.06039       </td>\n",
       "        </tr>\n",
       "        <tr>\n",
       "            <td>58  </td> <td>1.0673        </td>\n",
       "        </tr>\n",
       "        <tr>\n",
       "            <td>59  </td> <td>1.07094       </td>\n",
       "        </tr>\n",
       "        <tr>\n",
       "            <td>60  </td> <td>1.08263       </td>\n",
       "        </tr>\n",
       "        <tr>\n",
       "            <td>61  </td> <td>1.08769       </td>\n",
       "        </tr>\n",
       "        <tr>\n",
       "            <td>62  </td> <td>1.09049       </td>\n",
       "        </tr>\n",
       "        <tr>\n",
       "            <td>63  </td> <td>1.09969       </td>\n",
       "        </tr>\n",
       "        <tr>\n",
       "            <td>64  </td> <td>1.09991       </td>\n",
       "        </tr>\n",
       "        <tr>\n",
       "            <td>65  </td> <td>1.10535       </td>\n",
       "        </tr>\n",
       "        <tr>\n",
       "            <td>66  </td> <td>1.10676       </td>\n",
       "        </tr>\n",
       "        <tr>\n",
       "            <td>67  </td> <td>1.10844       </td>\n",
       "        </tr>\n",
       "        <tr>\n",
       "            <td>68  </td> <td>1.12367       </td>\n",
       "        </tr>\n",
       "        <tr>\n",
       "            <td>69  </td> <td>1.13527       </td>\n",
       "        </tr>\n",
       "        <tr>\n",
       "            <td>70  </td> <td>1.14664       </td>\n",
       "        </tr>\n",
       "        <tr>\n",
       "            <td>71  </td> <td>1.15522       </td>\n",
       "        </tr>\n",
       "        <tr>\n",
       "            <td>72  </td> <td>1.17097       </td>\n",
       "        </tr>\n",
       "        <tr>\n",
       "            <td>73  </td> <td>1.19323       </td>\n",
       "        </tr>\n",
       "        <tr>\n",
       "            <td>74  </td> <td>1.20488       </td>\n",
       "        </tr>\n",
       "        <tr>\n",
       "            <td>75  </td> <td>1.20902       </td>\n",
       "        </tr>\n",
       "        <tr>\n",
       "            <td>76  </td> <td>1.23487       </td>\n",
       "        </tr>\n",
       "        <tr>\n",
       "            <td>77  </td> <td>1.25797       </td>\n",
       "        </tr>\n",
       "        <tr>\n",
       "            <td>78  </td> <td>1.28244       </td>\n",
       "        </tr>\n",
       "        <tr>\n",
       "            <td>79  </td> <td>1.31627       </td>\n",
       "        </tr>\n",
       "        <tr>\n",
       "            <td>80  </td> <td>1.34138       </td>\n",
       "        </tr>\n",
       "        <tr>\n",
       "            <td>81  </td> <td>1.37967       </td>\n",
       "        </tr>\n",
       "        <tr>\n",
       "            <td>82  </td> <td>1.41932       </td>\n",
       "        </tr>\n",
       "        <tr>\n",
       "            <td>83  </td> <td>1.46552       </td>\n",
       "        </tr>\n",
       "        <tr>\n",
       "            <td>84  </td> <td>1.52048       </td>\n",
       "        </tr>\n",
       "        <tr>\n",
       "            <td>85  </td> <td>1.5756        </td>\n",
       "        </tr>\n",
       "        <tr>\n",
       "            <td>86  </td> <td>1.65096       </td>\n",
       "        </tr>\n",
       "        <tr>\n",
       "            <td>87  </td> <td>1.72172       </td>\n",
       "        </tr>\n",
       "        <tr>\n",
       "            <td>88  </td> <td>1.81223       </td>\n",
       "        </tr>\n",
       "        <tr>\n",
       "            <td>89  </td> <td>1.91837       </td>\n",
       "        </tr>\n",
       "        <tr>\n",
       "            <td>90  </td> <td>2.01263       </td>\n",
       "        </tr>\n",
       "        <tr>\n",
       "            <td>91  </td> <td>2.09488       </td>\n",
       "        </tr>\n",
       "        <tr>\n",
       "            <td>92  </td> <td>2.2299        </td>\n",
       "        </tr>\n",
       "        <tr>\n",
       "            <td>93  </td> <td>2.33359       </td>\n",
       "        </tr>\n",
       "        <tr>\n",
       "            <td>94  </td> <td>2.52285       </td>\n",
       "        </tr>\n",
       "        <tr>\n",
       "            <td>95  </td> <td>2.67253       </td>\n",
       "        </tr>\n",
       "        <tr>\n",
       "            <td>96  </td> <td>2.87998       </td>\n",
       "        </tr>\n",
       "        <tr>\n",
       "            <td>97  </td> <td>3.09104       </td>\n",
       "        </tr>\n",
       "        <tr>\n",
       "            <td>98  </td> <td>3.41826       </td>\n",
       "        </tr>\n",
       "        <tr>\n",
       "            <td>99  </td> <td>3.63278       </td>\n",
       "        </tr>\n",
       "        <tr>\n",
       "            <td>100 </td> <td>4.25966       </td>\n",
       "        </tr>\n",
       "    </tbody>\n",
       "</table>"
      ],
      "text/plain": [
       "<IPython.core.display.HTML object>"
      ]
     },
     "metadata": {},
     "output_type": "display_data"
    }
   ],
   "source": [
    "ratios.where('2014 F:M RATIO', are.above(1)).show()"
   ]
  },
  {
   "cell_type": "code",
   "execution_count": 469,
   "metadata": {},
   "outputs": [
    {
     "data": {
      "text/html": [
       "<table border=\"1\" class=\"dataframe\">\n",
       "    <thead>\n",
       "        <tr>\n",
       "            <th>SEX</th> <th>AGE</th> <th>2014</th>\n",
       "        </tr>\n",
       "    </thead>\n",
       "    <tbody>\n",
       "        <tr>\n",
       "            <td>1   </td> <td>98  </td> <td>13518</td>\n",
       "        </tr>\n",
       "        <tr>\n",
       "            <td>1   </td> <td>99  </td> <td>8951 </td>\n",
       "        </tr>\n",
       "    </tbody>\n",
       "</table>"
      ],
      "text/plain": [
       "SEX  | AGE  | 2014\n",
       "1    | 98   | 13518\n",
       "1    | 99   | 8951"
      ]
     },
     "execution_count": 469,
     "metadata": {},
     "output_type": "execute_result"
    }
   ],
   "source": [
    "males.where('AGE', are.between(98, 100))"
   ]
  },
  {
   "cell_type": "code",
   "execution_count": 470,
   "metadata": {},
   "outputs": [
    {
     "data": {
      "text/html": [
       "<table border=\"1\" class=\"dataframe\">\n",
       "    <thead>\n",
       "        <tr>\n",
       "            <th>SEX</th> <th>AGE</th> <th>2014</th>\n",
       "        </tr>\n",
       "    </thead>\n",
       "    <tbody>\n",
       "        <tr>\n",
       "            <td>2   </td> <td>98  </td> <td>46208</td>\n",
       "        </tr>\n",
       "        <tr>\n",
       "            <td>2   </td> <td>99  </td> <td>32517</td>\n",
       "        </tr>\n",
       "    </tbody>\n",
       "</table>"
      ],
      "text/plain": [
       "SEX  | AGE  | 2014\n",
       "2    | 98   | 46208\n",
       "2    | 99   | 32517"
      ]
     },
     "execution_count": 470,
     "metadata": {},
     "output_type": "execute_result"
    }
   ],
   "source": [
    "females.where('AGE', are.between(98, 100))\n"
   ]
  },
  {
   "cell_type": "code",
   "execution_count": 471,
   "metadata": {},
   "outputs": [
    {
     "data": {
      "image/png": "[encoded data removed]",
      "text/plain": [
       "<Figure size 432x288 with 1 Axes>"
      ]
     },
     "metadata": {},
     "output_type": "display_data"
    }
   ],
   "source": [
    "ratios.plot('AGE')\n",
    "#the one inside plot ends up being the x axis"
   ]
  },
  {
   "cell_type": "code",
   "execution_count": 472,
   "metadata": {},
   "outputs": [
    {
     "data": {
      "text/html": [
       "<table border=\"1\" class=\"dataframe\">\n",
       "    <thead>\n",
       "        <tr>\n",
       "            <th>AGE</th> <th>2014 F:M RATIO</th>\n",
       "        </tr>\n",
       "    </thead>\n",
       "    <tbody>\n",
       "        <tr>\n",
       "            <td>0   </td> <td>0.955019      </td>\n",
       "        </tr>\n",
       "        <tr>\n",
       "            <td>1   </td> <td>0.956884      </td>\n",
       "        </tr>\n",
       "        <tr>\n",
       "            <td>2   </td> <td>0.956672      </td>\n",
       "        </tr>\n",
       "        <tr>\n",
       "            <td>3   </td> <td>0.955058      </td>\n",
       "        </tr>\n",
       "        <tr>\n",
       "            <td>4   </td> <td>0.959248      </td>\n",
       "        </tr>\n",
       "        <tr>\n",
       "            <td>5   </td> <td>0.959998      </td>\n",
       "        </tr>\n",
       "        <tr>\n",
       "            <td>6   </td> <td>0.959172      </td>\n",
       "        </tr>\n",
       "        <tr>\n",
       "            <td>7   </td> <td>0.957445      </td>\n",
       "        </tr>\n",
       "        <tr>\n",
       "            <td>8   </td> <td>0.957099      </td>\n",
       "        </tr>\n",
       "        <tr>\n",
       "            <td>9   </td> <td>0.958511      </td>\n",
       "        </tr>\n",
       "    </tbody>\n",
       "</table>\n",
       "<p>... (91 rows omitted)</p>"
      ],
      "text/plain": [
       "AGE  | 2014 F:M RATIO\n",
       "0    | 0.955019\n",
       "1    | 0.956884\n",
       "2    | 0.956672\n",
       "3    | 0.955058\n",
       "4    | 0.959248\n",
       "5    | 0.959998\n",
       "6    | 0.959172\n",
       "7    | 0.957445\n",
       "8    | 0.957099\n",
       "9    | 0.958511\n",
       "... (91 rows omitted)"
      ]
     },
     "execution_count": 472,
     "metadata": {},
     "output_type": "execute_result"
    }
   ],
   "source": [
    "ratios"
   ]
  },
  {
   "cell_type": "code",
   "execution_count": 473,
   "metadata": {},
   "outputs": [
    {
     "data": {
      "image/png": "[encoded data removed]",
      "text/plain": [
       "<Figure size 432x288 with 1 Axes>"
      ]
     },
     "metadata": {},
     "output_type": "display_data"
    }
   ],
   "source": [
    "ratios.plot('2014 F:M RATIO')"
   ]
  },
  {
   "cell_type": "code",
   "execution_count": 475,
   "metadata": {},
   "outputs": [
    {
     "data": {
      "text/html": [
       "<table border=\"1\" class=\"dataframe\">\n",
       "    <thead>\n",
       "        <tr>\n",
       "            <th>movieId</th> <th>imdbId</th> <th>tmdbId</th>\n",
       "        </tr>\n",
       "    </thead>\n",
       "    <tbody>\n",
       "        <tr>\n",
       "            <td>1      </td> <td>114709</td> <td>862   </td>\n",
       "        </tr>\n",
       "        <tr>\n",
       "            <td>2      </td> <td>113497</td> <td>8844  </td>\n",
       "        </tr>\n",
       "        <tr>\n",
       "            <td>3      </td> <td>113228</td> <td>15602 </td>\n",
       "        </tr>\n",
       "        <tr>\n",
       "            <td>4      </td> <td>114885</td> <td>31357 </td>\n",
       "        </tr>\n",
       "        <tr>\n",
       "            <td>5      </td> <td>113041</td> <td>11862 </td>\n",
       "        </tr>\n",
       "        <tr>\n",
       "            <td>6      </td> <td>113277</td> <td>949   </td>\n",
       "        </tr>\n",
       "        <tr>\n",
       "            <td>7      </td> <td>114319</td> <td>11860 </td>\n",
       "        </tr>\n",
       "        <tr>\n",
       "            <td>8      </td> <td>112302</td> <td>45325 </td>\n",
       "        </tr>\n",
       "        <tr>\n",
       "            <td>9      </td> <td>114576</td> <td>9091  </td>\n",
       "        </tr>\n",
       "        <tr>\n",
       "            <td>10     </td> <td>113189</td> <td>710   </td>\n",
       "        </tr>\n",
       "    </tbody>\n",
       "</table>\n",
       "<p>... (45833 rows omitted)</p>"
      ],
      "text/plain": [
       "movieId | imdbId | tmdbId\n",
       "1       | 114709 | 862\n",
       "2       | 113497 | 8844\n",
       "3       | 113228 | 15602\n",
       "4       | 114885 | 31357\n",
       "5       | 113041 | 11862\n",
       "6       | 113277 | 949\n",
       "7       | 114319 | 11860\n",
       "8       | 112302 | 45325\n",
       "9       | 114576 | 9091\n",
       "10      | 113189 | 710\n",
       "... (45833 rows omitted)"
      ]
     },
     "execution_count": 475,
     "metadata": {},
     "output_type": "execute_result"
    }
   ],
   "source": [
    "data = \"http://www.sharecsv.com/dl/f225dad4c697923ef36f4569c8eed1b7/links.csv\"\n",
    "#this link should download the file for you\n",
    "movies = Table.read_table(data)\n",
    "movies"
   ]
  },
  {
   "cell_type": "code",
   "execution_count": 487,
   "metadata": {},
   "outputs": [],
   "source": [
    "movies = movies.relabeled('imdbId', 'id').relabeled('tmdbId',\"x\")"
   ]
  },
  {
   "cell_type": "code",
   "execution_count": 488,
   "metadata": {},
   "outputs": [
    {
     "data": {
      "image/png": "[encoded data removed]",
      "text/plain": [
       "<Figure size 360x360 with 1 Axes>"
      ]
     },
     "metadata": {},
     "output_type": "display_data"
    }
   ],
   "source": [
    "movies.scatter('id', 'x')"
   ]
  },
  {
   "cell_type": "code",
   "execution_count": null,
   "metadata": {},
   "outputs": [],
   "source": []
  }
 ],
 "metadata": {
  "kernelspec": {
   "display_name": "Python 3",
   "language": "python",
   "name": "python3"
  },
  "language_info": {
   "codemirror_mode": {
    "name": "ipython",
    "version": 3
   },
   "file_extension": ".py",
   "mimetype": "text/x-python",
   "name": "python",
   "nbconvert_exporter": "python",
   "pygments_lexer": "ipython3",
   "version": "3.7.0"
  }
 },
 "nbformat": 4,
 "nbformat_minor": 2
}
